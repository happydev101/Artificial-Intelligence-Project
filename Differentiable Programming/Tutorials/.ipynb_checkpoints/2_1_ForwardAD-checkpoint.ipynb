{
 "cells": [
  {
   "cell_type": "markdown",
   "metadata": {
    "colab_type": "text",
    "deletable": false,
    "editable": false,
    "id": "w4hW2x9Dx1PO",
    "nbgrader": {
     "checksum": "f415941a3a1516f0b3e2b93249aff57d",
     "grade": false,
     "grade_id": "cell-1015fd7f8a1783c7",
     "locked": true,
     "schema_version": 1,
     "solution": false
    }
   },
   "source": [
    "# Part 1: Forward Mode Automatic Differentiation\n",
    "\n",
    "Forward mode AD can simply be implemented by defining a class to represent [dual numbers](https://en.wikipedia.org/wiki/Dual_number) which hold the value and its derivative. The following skeleton defines a dual number and implements multiplication. \n",
    "\n",
    "__Tasks:__\n",
    "\n",
    "- Addition (`__add__`) is incomplete - can you finish it? \n",
    "- Can you also implement division (`__truediv__`), subtraction (`__sub__`) and power (`__pow__`)?"
   ]
  },
  {
   "cell_type": "code",
   "execution_count": null,
   "metadata": {
    "colab": {},
    "colab_type": "code",
    "deletable": false,
    "id": "oRo6wLYvx1PS",
    "nbgrader": {
     "checksum": "33fa490908871a743dabb3060ebe112e",
     "grade": false,
     "grade_id": "cell-a645b47036f56c2e",
     "locked": false,
     "schema_version": 1,
     "solution": true
    }
   },
   "outputs": [],
   "source": [
    "import math\n",
    "\n",
    "class DualNumber:\n",
    "    def __init__(self, value, dvalue):\n",
    "        self.value = value\n",
    "        self.dvalue = dvalue\n",
    "\n",
    "    def __str__(self):\n",
    "        return str(self.value) + \" + \" + str(self.dvalue) + \"ε\"\n",
    "\n",
    "    def __mul__(self, other):\n",
    "        return DualNumber(self.value * other.value,\n",
    "            self.dvalue * other.value + other.dvalue * self.value)\n",
    "    \n",
    "    def __add__(self, other):\n",
    "        return DualNumber(self.value + other.value, self.dvalue + other.dvalue)\n",
    "\n",
    "    def __truediv__(self, other):\n",
    "        a, b, c, d = self.value, self.dvalue, other.value, other.dvalue\n",
    "        return DualNumber(a / c, (b * c - a * d) / c * c)\n",
    "\n",
    "    def __sub__(self, other):\n",
    "        return DualNumber(self.value - other.value, self.dvalue - other.dvalue)\n",
    "\n",
    "    def __pow__(self, other):\n",
    "        a, b, c, d = self.value, self.dvalue, other.value, other.dvalue\n",
    "        return DualNumber(math.pow(a, c), math.pow(a, c) *\n",
    "                          ((d * math.log(a)) + (b * c / a)))"
   ]
  },
  {
   "cell_type": "code",
   "execution_count": 2,
   "metadata": {
    "colab": {
     "base_uri": "https://localhost:8080/",
     "height": 35
    },
    "colab_type": "code",
    "deletable": false,
    "editable": false,
    "executionInfo": {
     "elapsed": 785,
     "status": "ok",
     "timestamp": 1588844975329,
     "user": {
      "displayName": "Pier Paolo Ippolito",
      "photoUrl": "https://lh3.googleusercontent.com/a-/AOh14GjAj9U2nofERZJ9Sw2cUfGIXHe_5S_wb80SU9gr9A=s64",
      "userId": "11847293594480931962"
     },
     "user_tz": -60
    },
    "id": "WONAewz3x1Pc",
    "nbgrader": {
     "checksum": "e9afb52c0524256aa416c8e0ceec60de",
     "grade": true,
     "grade_id": "cell-7923d5c39d574cd7",
     "locked": true,
     "points": 3,
     "schema_version": 1,
     "solution": false
    },
    "outputId": "533fa0c3-8d24-4769-d634-ae3fe07741d3"
   },
   "outputs": [
    {
     "name": "stdout",
     "output_type": "stream",
     "text": [
      "1.0 + 0.0ε\n"
     ]
    }
   ],
   "source": [
    "# Tests\n",
    "out = DualNumber(1, 0) + DualNumber(1, 0) / DualNumber(1, 0) - DualNumber(1, 0) ** DualNumber(1, 0)\n",
    "print(out)"
   ]
  },
  {
   "cell_type": "markdown",
   "metadata": {
    "colab_type": "text",
    "deletable": false,
    "editable": false,
    "id": "J5qnOEczx1Pg",
    "nbgrader": {
     "checksum": "be03930a421d27414e745ac5839fddd3",
     "grade": false,
     "grade_id": "cell-2c8ce137dbdd2f9d",
     "locked": true,
     "schema_version": 1,
     "solution": false
    }
   },
   "source": [
    "## Implementing math functions\n",
    "\n",
    "We also need to implement some core math functions. Here's the sine function for a dual number:"
   ]
  },
  {
   "cell_type": "code",
   "execution_count": null,
   "metadata": {
    "colab": {},
    "colab_type": "code",
    "deletable": false,
    "editable": false,
    "id": "H319oW_kx1Ph",
    "nbgrader": {
     "checksum": "1fc46030449c0860972520bddf2a498d",
     "grade": false,
     "grade_id": "cell-30886f6180e2ca7c",
     "locked": true,
     "schema_version": 1,
     "solution": false
    }
   },
   "outputs": [],
   "source": [
    "def sin(x):\n",
    "    return DualNumber(math.sin(x.value), math.cos(x.value)*x.dvalue)"
   ]
  },
  {
   "cell_type": "markdown",
   "metadata": {
    "colab_type": "text",
    "deletable": false,
    "editable": false,
    "id": "JjG1JHfCx1Pm",
    "nbgrader": {
     "checksum": "54b68135467f7b83dfa9749df021c932",
     "grade": false,
     "grade_id": "cell-9b585bf1afe72cca",
     "locked": true,
     "schema_version": 1,
     "solution": false
    }
   },
   "source": [
    "__Task:__ can you implement the _cosine_ (`cos`), _tangent_ (`tan`), and _exponential_ (`exp`) functions in the code block below?"
   ]
  },
  {
   "cell_type": "code",
   "execution_count": null,
   "metadata": {
    "colab": {},
    "colab_type": "code",
    "deletable": false,
    "id": "zMLeDeLpx1Pn",
    "nbgrader": {
     "checksum": "2bea3862089cbfe7a78ceaa915a87a3b",
     "grade": false,
     "grade_id": "cell-61b9462cb781a8e1",
     "locked": false,
     "schema_version": 1,
     "solution": true
    }
   },
   "outputs": [],
   "source": [
    "def cos(x):\n",
    "    return DualNumber(math.cos(x.value), math.sin(x.value)*x.dvalue)\n",
    "\n",
    "\n",
    "def tan(x):\n",
    "    return sin(x) / cos(x)\n",
    "\n",
    "\n",
    "def exp(x):\n",
    "    return DualNumber(math.e ** x.value, math.e ** x.dvalue)"
   ]
  },
  {
   "cell_type": "code",
   "execution_count": null,
   "metadata": {
    "colab": {},
    "colab_type": "code",
    "deletable": false,
    "editable": false,
    "id": "VD3eurtQx1Pq",
    "nbgrader": {
     "checksum": "29c49048fd70b07ab3819fcb5e4972ec",
     "grade": true,
     "grade_id": "cell-9055ec23e6e9ffb8",
     "locked": true,
     "points": 3,
     "schema_version": 1,
     "solution": false
    }
   },
   "outputs": [],
   "source": [
    "# Tests\n",
    "assert sin(DualNumber(0,0)).value == 0\n",
    "assert cos(DualNumber(0,0)).value == 1\n",
    "assert tan(DualNumber(0,0)).value == 0\n",
    "assert exp(DualNumber(0,0)).value == 1"
   ]
  },
  {
   "cell_type": "markdown",
   "metadata": {
    "colab_type": "text",
    "deletable": false,
    "editable": false,
    "id": "nK8BYLT3x1Pu",
    "nbgrader": {
     "checksum": "5f834befbd408096b4d11ec9cd22159c",
     "grade": false,
     "grade_id": "cell-0429b8810d0cf3a3",
     "locked": true,
     "schema_version": 1,
     "solution": false
    }
   },
   "source": [
    "## Time to try it out\n",
    "\n",
    "We're now in a position to try our implementation.\n",
    "\n",
    "__Task:__ \n",
    "\n",
    "- Try running the following code to compute the value of the function $z=x\\cdot y+sin(x)$ given $x=0.5$ and $y=4.2$, together with the derivative $\\partial z/\\partial x$ at that point. "
   ]
  },
  {
   "cell_type": "code",
   "execution_count": 7,
   "metadata": {
    "colab": {
     "base_uri": "https://localhost:8080/",
     "height": 52
    },
    "colab_type": "code",
    "deletable": false,
    "executionInfo": {
     "elapsed": 812,
     "status": "ok",
     "timestamp": 1588845029221,
     "user": {
      "displayName": "Pier Paolo Ippolito",
      "photoUrl": "https://lh3.googleusercontent.com/a-/AOh14GjAj9U2nofERZJ9Sw2cUfGIXHe_5S_wb80SU9gr9A=s64",
      "userId": "11847293594480931962"
     },
     "user_tz": -60
    },
    "id": "GUrZi9zDx1Pv",
    "nbgrader": {
     "checksum": "ff1399f6f7101774bd4d3e9c49ed6458",
     "grade": false,
     "grade_id": "cell-12f7c8fa42784946",
     "locked": false,
     "schema_version": 1,
     "solution": true
    },
    "outputId": "e09ba2e7-5c6a-4a91-d3a4-e01585a4b8c5"
   },
   "outputs": [
    {
     "name": "stdout",
     "output_type": "stream",
     "text": [
      "z:  2.579425538604203 + 5.077582561890373ε\n",
      "dz/dx: 5.077582561890373\n"
     ]
    }
   ],
   "source": [
    "# Computing the dz/dx derivative\n",
    "x = DualNumber(0.5, 1)\n",
    "y = DualNumber(4.2, 0)\n",
    "z = x * y + sin(x)\n",
    "print('z: ', z)\n",
    "dzdx = z.dvalue\n",
    "print('dz/dx:', dzdx)"
   ]
  },
  {
   "cell_type": "markdown",
   "metadata": {
    "colab_type": "text",
    "deletable": false,
    "editable": false,
    "id": "j9g9xNamx1P0",
    "nbgrader": {
     "checksum": "7719838a896c466bcc58ecb273f89175",
     "grade": false,
     "grade_id": "cell-204b8d399904b523",
     "locked": true,
     "schema_version": 1,
     "solution": false
    }
   },
   "source": [
    "__Task__: Differentiate the above function with respect to $x$ and write the symbolic derivatives in the following box. Verify the result computed above is correct by plugging-in the values into your symbolic gradient expression."
   ]
  },
  {
   "cell_type": "markdown",
   "metadata": {
    "colab_type": "text",
    "deletable": false,
    "id": "IhsQpXDex1P1",
    "nbgrader": {
     "checksum": "07ca9c4df262fa25d98cea6f0e36d979",
     "grade": true,
     "grade_id": "cell-1ae4d0a0801a142a",
     "locked": false,
     "points": 2,
     "schema_version": 1,
     "solution": true
    }
   },
   "source": [
    "$ cos(x) + y = 5.077$\n"
   ]
  },
  {
   "cell_type": "markdown",
   "metadata": {
    "colab_type": "text",
    "id": "HbKJEW1wx1P2"
   },
   "source": [
    "__Task:__ Now use the code block below to compute the derivative $\\partial z/\\partial y$ of the above expression (at the same point $x=0.5, y=4.2$ as above) and store the derivative in the variable `dzdy` (just the derivative, not the Dual Number). Verify by hand that the result is correct."
   ]
  },
  {
   "cell_type": "code",
   "execution_count": 8,
   "metadata": {
    "colab": {
     "base_uri": "https://localhost:8080/",
     "height": 35
    },
    "colab_type": "code",
    "deletable": false,
    "executionInfo": {
     "elapsed": 1371,
     "status": "ok",
     "timestamp": 1588845048372,
     "user": {
      "displayName": "Pier Paolo Ippolito",
      "photoUrl": "https://lh3.googleusercontent.com/a-/AOh14GjAj9U2nofERZJ9Sw2cUfGIXHe_5S_wb80SU9gr9A=s64",
      "userId": "11847293594480931962"
     },
     "user_tz": -60
    },
    "id": "aPghR5arx1P4",
    "nbgrader": {
     "checksum": "cd3fbc66891ec630d8d3029df8ad0766",
     "grade": false,
     "grade_id": "cell-eab763bf1b218dc8",
     "locked": false,
     "schema_version": 1,
     "solution": true
    },
    "outputId": "c8bdc35b-499c-4229-81f8-777681980185"
   },
   "outputs": [
    {
     "name": "stdout",
     "output_type": "stream",
     "text": [
      "dz/dy: 0.5\n"
     ]
    }
   ],
   "source": [
    "# Computing the dz/dy derivative\n",
    "x = DualNumber(0.5, 0)\n",
    "y = DualNumber(4.2, 1)\n",
    "z = x * y + sin(x)\n",
    "dzdy = z.dvalue\n",
    "print('dz/dy:', dzdy)"
   ]
  },
  {
   "cell_type": "code",
   "execution_count": null,
   "metadata": {
    "colab": {},
    "colab_type": "code",
    "deletable": false,
    "editable": false,
    "id": "xYEz2rcUx1P7",
    "nbgrader": {
     "checksum": "0e76a35421fc942d840771242e268dad",
     "grade": true,
     "grade_id": "cell-a2f9f0ca4b1ed763",
     "locked": true,
     "points": 2,
     "schema_version": 1,
     "solution": false
    }
   },
   "outputs": [],
   "source": [
    "#Tests\n",
    "assert dzdy\n",
    "assert type(dzdy) == float"
   ]
  },
  {
   "cell_type": "markdown",
   "metadata": {
    "colab_type": "text",
    "deletable": false,
    "editable": false,
    "id": "Sl-xhezpx1QB",
    "nbgrader": {
     "checksum": "827a8ca599d07c42685e571f2491cf48",
     "grade": false,
     "grade_id": "cell-8faa6c905dd61e82",
     "locked": true,
     "schema_version": 1,
     "solution": false
    }
   },
   "source": [
    "__Task:__ Finally, use the code block below to experiment and test the other math functions and methods you created."
   ]
  },
  {
   "cell_type": "code",
   "execution_count": 10,
   "metadata": {
    "colab": {
     "base_uri": "https://localhost:8080/",
     "height": 35
    },
    "colab_type": "code",
    "deletable": false,
    "executionInfo": {
     "elapsed": 680,
     "status": "ok",
     "timestamp": 1588845069350,
     "user": {
      "displayName": "Pier Paolo Ippolito",
      "photoUrl": "https://lh3.googleusercontent.com/a-/AOh14GjAj9U2nofERZJ9Sw2cUfGIXHe_5S_wb80SU9gr9A=s64",
      "userId": "11847293594480931962"
     },
     "user_tz": -60
    },
    "id": "XJOMblasx1QC",
    "nbgrader": {
     "checksum": "7c7f4bfbb93248c24b6fac692d6d3109",
     "grade": true,
     "grade_id": "cell-b71d4bb64928ee38",
     "locked": false,
     "points": 0,
     "schema_version": 1,
     "solution": true
    },
    "outputId": "e78ec0b6-d101-4dc0-b04e-303816b12ae9"
   },
   "outputs": [
    {
     "name": "stdout",
     "output_type": "stream",
     "text": [
      "result: 12.719502469963043 + 3.7157768150630996ε\n"
     ]
    }
   ],
   "source": [
    "x = DualNumber(1.5, 0)\n",
    "y = DualNumber(2.2, 1)\n",
    "z = x + y * cos(x) * tan(x) + exp(y)\n",
    "print(\"result:\", z)"
   ]
  }
 ],
 "metadata": {
  "colab": {
   "collapsed_sections": [],
   "name": "2_1_ForwardAD.ipynb",
   "provenance": [
    {
     "file_id": "https://github.com/ecs-vlc/COMP6248/blob/master/docs/labs/lab2/2_1_ForwardAD.ipynb",
     "timestamp": 1581350814682
    }
   ]
  },
  "kernelspec": {
   "display_name": "Python 3",
   "language": "python",
   "name": "python3"
  },
  "language_info": {
   "codemirror_mode": {
    "name": "ipython",
    "version": 3
   },
   "file_extension": ".py",
   "mimetype": "text/x-python",
   "name": "python",
   "nbconvert_exporter": "python",
   "pygments_lexer": "ipython3",
   "version": "3.7.3"
  }
 },
 "nbformat": 4,
 "nbformat_minor": 4
}
