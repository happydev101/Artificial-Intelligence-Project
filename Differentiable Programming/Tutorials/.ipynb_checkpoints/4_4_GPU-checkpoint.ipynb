{
 "cells": [
  {
   "cell_type": "markdown",
   "metadata": {
    "colab_type": "text",
    "deletable": false,
    "editable": false,
    "id": "rjMPIoKaBPcr",
    "nbgrader": {
     "checksum": "4972f311d33e889babafe6f6e44edc5f",
     "grade": false,
     "grade_id": "cell-8115527bd0e08e63",
     "locked": true,
     "schema_version": 1,
     "solution": false
    }
   },
   "source": [
    "# Part 4: Using GPU acceleration with PyTorch"
   ]
  },
  {
   "cell_type": "code",
   "execution_count": null,
   "metadata": {
    "colab": {
     "base_uri": "https://localhost:8080/",
     "height": 153
    },
    "colab_type": "code",
    "deletable": false,
    "editable": false,
    "executionInfo": {
     "elapsed": 7664,
     "status": "ok",
     "timestamp": 1582716202219,
     "user": {
      "displayName": "Pier Paolo Ippolito",
      "photoUrl": "https://lh3.googleusercontent.com/a-/AAuE7mC8F_9coose8sXvD2Cjybg1BpvSZiiN6p241h0swA=s64",
      "userId": "11847293594480931962"
     },
     "user_tz": 0
    },
    "id": "G2exZyglBPcw",
    "nbgrader": {
     "checksum": "8ef6029eb23fe884594de09e1cd97769",
     "grade": false,
     "grade_id": "cell-2e8abb75fa5d4222",
     "locked": true,
     "schema_version": 1,
     "solution": false
    },
    "outputId": "0cca862d-2113-4bb4-8908-b5aa4b01a7d5"
   },
   "outputs": [
    {
     "name": "stdout",
     "output_type": "stream",
     "text": [
      "Collecting torchbearer\n",
      "\u001b[?25l  Downloading https://files.pythonhosted.org/packages/ff/e9/4049a47dd2e5b6346a2c5d215b0c67dce814afbab1cd54ce024533c4834e/torchbearer-0.5.3-py3-none-any.whl (138kB)\n",
      "\u001b[K     |████████████████████████████████| 143kB 3.5MB/s eta 0:00:01\n",
      "\u001b[?25hRequirement already satisfied: tqdm in /usr/local/lib/python3.6/dist-packages (from torchbearer) (4.28.1)\n",
      "Requirement already satisfied: torch>=1.0.0 in /usr/local/lib/python3.6/dist-packages (from torchbearer) (1.4.0)\n",
      "Requirement already satisfied: numpy in /usr/local/lib/python3.6/dist-packages (from torchbearer) (1.17.5)\n",
      "Installing collected packages: torchbearer\n",
      "Successfully installed torchbearer-0.5.3\n"
     ]
    }
   ],
   "source": [
    "# Execute this code block to install dependencies when running on colab\n",
    "try:\n",
    "    import torch\n",
    "except:\n",
    "    from os.path import exists\n",
    "    from wheel.pep425tags import get_abbr_impl, get_impl_ver, get_abi_tag\n",
    "    platform = '{}{}-{}'.format(get_abbr_impl(), get_impl_ver(), get_abi_tag())\n",
    "    cuda_output = !ldconfig -p|grep cudart.so|sed -e 's/.*\\.\\([0-9]*\\)\\.\\([0-9]*\\)$/cu\\1\\2/'\n",
    "    accelerator = cuda_output[0] if exists('/dev/nvidia0') else 'cpu'\n",
    "\n",
    "    !pip install -q http://download.pytorch.org/whl/{accelerator}/torch-1.0.0-{platform}-linux_x86_64.whl torchvision\n",
    "\n",
    "try: \n",
    "    import torchbearer\n",
    "except:\n",
    "    !pip install torchbearer"
   ]
  },
  {
   "cell_type": "markdown",
   "metadata": {
    "colab_type": "text",
    "deletable": false,
    "editable": false,
    "id": "zTNQiAyZBPc9",
    "nbgrader": {
     "checksum": "5ad3d98e7a666f0550c48db3d40c9fb6",
     "grade": false,
     "grade_id": "cell-56a116e085aef83c",
     "locked": true,
     "schema_version": 1,
     "solution": false
    }
   },
   "source": [
    "## Manual use of `.cuda()`\n",
    "\n",
    "Now the magic of PyTorch comes in. So far, we've only been using the CPU to do computation. When we want to scale to a bigger problem, that won't be feasible for very long.\n",
    "|\n",
    "PyTorch makes it really easy to use the GPU for accelerating computation. Consider the following code that computes the element-wise product of two large matrices:"
   ]
  },
  {
   "cell_type": "code",
   "execution_count": null,
   "metadata": {
    "colab": {
     "base_uri": "https://localhost:8080/",
     "height": 136
    },
    "colab_type": "code",
    "executionInfo": {
     "elapsed": 628,
     "status": "ok",
     "timestamp": 1582716203398,
     "user": {
      "displayName": "Pier Paolo Ippolito",
      "photoUrl": "https://lh3.googleusercontent.com/a-/AAuE7mC8F_9coose8sXvD2Cjybg1BpvSZiiN6p241h0swA=s64",
      "userId": "11847293594480931962"
     },
     "user_tz": 0
    },
    "id": "l8zN-SvuBPdD",
    "outputId": "3ca575ac-d571-4497-dcb5-e79280fdee8c"
   },
   "outputs": [
    {
     "name": "stdout",
     "output_type": "stream",
     "text": [
      "tensor([[ 0.1663, -1.1947,  0.4580,  ...,  2.3011, -0.1942,  0.3566],\n",
      "        [-0.7079,  0.0406, -0.8608,  ...,  0.5107, -0.5505,  0.4528],\n",
      "        [ 0.6633, -0.1831, -0.0461,  ..., -0.0226, -0.0792,  2.1576],\n",
      "        ...,\n",
      "        [ 0.7681, -0.2165, -1.6709,  ...,  1.4140,  1.1224, -0.5862],\n",
      "        [ 0.4910,  0.0487,  0.0463,  ...,  0.5802, -0.8737,  0.1851],\n",
      "        [-0.2770, -0.2192, -0.3325,  ..., -2.2176, -0.3318, -0.8116]])\n"
     ]
    }
   ],
   "source": [
    "import torch\n",
    "\n",
    "t1 = torch.randn(1000, 1000)\n",
    "t2 = torch.randn(1000, 1000)\n",
    "t3 = t1*t2\n",
    "print(t3)"
   ]
  },
  {
   "cell_type": "markdown",
   "metadata": {
    "colab_type": "text",
    "deletable": false,
    "editable": false,
    "id": "_3OeAmL1BPdK",
    "nbgrader": {
     "checksum": "6af792ab02ecca981f5c12685789f471",
     "grade": false,
     "grade_id": "cell-6849616c01cf9f25",
     "locked": true,
     "schema_version": 1,
     "solution": false
    }
   },
   "source": [
    "By sending all the tensors that we are using to the GPU, all the operations on them will also run on the GPU without having to change anything else. If you're running a non-cuda enabled version of PyTorch the following will throw an error; if you have cuda available the following will create the input matrices, copy them to the GPU and perform the multiplication on the GPU itself:"
   ]
  },
  {
   "cell_type": "code",
   "execution_count": null,
   "metadata": {
    "colab": {
     "base_uri": "https://localhost:8080/",
     "height": 153
    },
    "colab_type": "code",
    "executionInfo": {
     "elapsed": 9773,
     "status": "ok",
     "timestamp": 1582716215567,
     "user": {
      "displayName": "Pier Paolo Ippolito",
      "photoUrl": "https://lh3.googleusercontent.com/a-/AAuE7mC8F_9coose8sXvD2Cjybg1BpvSZiiN6p241h0swA=s64",
      "userId": "11847293594480931962"
     },
     "user_tz": 0
    },
    "id": "71iS0D2NBPdN",
    "outputId": "535338f8-9916-46ee-b53a-b5d9a49d64b6"
   },
   "outputs": [
    {
     "name": "stdout",
     "output_type": "stream",
     "text": [
      "tensor([[-0.2061, -0.8590,  0.0114,  ..., -0.9519, -0.7694,  0.7434],\n",
      "        [-1.8661, -0.0572,  1.0479,  ...,  0.2048, -0.7446,  0.1454],\n",
      "        [-0.0817,  0.3811, -1.0022,  ..., -0.9220, -0.3981, -0.3742],\n",
      "        ...,\n",
      "        [-0.0352, -0.0200, -0.0361,  ...,  0.0921, -0.0106, -0.1625],\n",
      "        [ 1.0550,  0.0381,  0.2507,  ...,  0.3160,  1.2748, -0.0150],\n",
      "        [-0.2233,  0.1195,  1.3133,  ..., -0.0041,  0.0719,  0.0591]],\n",
      "       device='cuda:0')\n"
     ]
    }
   ],
   "source": [
    "t1 = torch.randn(1000, 1000).cuda()\n",
    "t2 = torch.randn(1000, 1000).cuda()\n",
    "t3 = t1*t2\n",
    "print(t3)"
   ]
  },
  {
   "cell_type": "markdown",
   "metadata": {
    "colab_type": "text",
    "deletable": false,
    "editable": false,
    "id": "ZzYl-dyTBPdW",
    "nbgrader": {
     "checksum": "c771877e9beb32f8a49585373534dad1",
     "grade": false,
     "grade_id": "cell-2bca345a3c01999c",
     "locked": true,
     "schema_version": 1,
     "solution": false
    }
   },
   "source": [
    "If you're running this workbook in colab, now enable GPU acceleration (`Runtime->Runtime Type` and add a `GPU` in the hardware accelerator pull-down). You'll then need to re-run all cells to this point.\n",
    "\n",
    "If you were able to run the above with hardware acceleration, the print-out of the result tensor would show that it was an instance of `cuda.FloatTensor` type on the the `(GPU 0)` GPU device. If your wanted to copy the tensor back to the CPU, you would use the `.cpu()` method."
   ]
  },
  {
   "cell_type": "markdown",
   "metadata": {
    "colab_type": "text",
    "deletable": false,
    "editable": false,
    "id": "ejN4srwMBPdp",
    "nbgrader": {
     "checksum": "c064698f174abe4509b23c34a7912f44",
     "grade": false,
     "grade_id": "cell-e308141abb8d0e0c",
     "locked": true,
     "schema_version": 1,
     "solution": false
    }
   },
   "source": [
    "## Writing platform agnostic code\n",
    "\n",
    "Most of the time you'd like to write code that is device agnostic; that is it will run on a GPU if one is available, and otherwise it would fall back to the CPU. The recommended way to do this is as follows:"
   ]
  },
  {
   "cell_type": "code",
   "execution_count": null,
   "metadata": {
    "colab": {
     "base_uri": "https://localhost:8080/",
     "height": 153
    },
    "colab_type": "code",
    "executionInfo": {
     "elapsed": 411,
     "status": "ok",
     "timestamp": 1582716278680,
     "user": {
      "displayName": "Pier Paolo Ippolito",
      "photoUrl": "https://lh3.googleusercontent.com/a-/AAuE7mC8F_9coose8sXvD2Cjybg1BpvSZiiN6p241h0swA=s64",
      "userId": "11847293594480931962"
     },
     "user_tz": 0
    },
    "id": "taLeMLJ8BPeG",
    "outputId": "b03bfa76-2079-4a98-f4a9-33e69dd6520c"
   },
   "outputs": [
    {
     "name": "stdout",
     "output_type": "stream",
     "text": [
      "tensor([[ 0.8519, -0.9106,  0.1294,  ...,  0.5355,  0.0397, -1.0819],\n",
      "        [-0.6490, -1.2124,  1.2996,  ...,  0.1148, -0.2391,  3.2560],\n",
      "        [ 0.0494, -0.6550, -0.5106,  ...,  0.0420,  0.0935, -2.1921],\n",
      "        ...,\n",
      "        [ 0.0621, -0.1362,  0.0183,  ...,  2.2961, -0.2443, -0.8645],\n",
      "        [ 0.0512, -0.6100, -0.7912,  ...,  0.4100, -0.0131,  1.0929],\n",
      "        [ 1.0651, -1.1793, -2.0469,  ...,  2.4314,  1.1930, -0.2294]],\n",
      "       device='cuda:0')\n"
     ]
    }
   ],
   "source": [
    "device = \"cuda:0\" if torch.cuda.is_available() else \"cpu\"\n",
    "t1 = torch.randn(1000, 1000).to(device)\n",
    "t2 = torch.randn(1000, 1000).to(device)\n",
    "t3 = t1*t2\n",
    "print(t3)"
   ]
  },
  {
   "cell_type": "markdown",
   "metadata": {
    "colab_type": "text",
    "deletable": false,
    "editable": false,
    "id": "A3uMiPtJBPeb",
    "nbgrader": {
     "checksum": "b31bddc27c2bdeb593ee2498dfbd7e10",
     "grade": false,
     "grade_id": "cell-24f03f8a35648313",
     "locked": true,
     "schema_version": 1,
     "solution": false
    }
   },
   "source": [
    "## Accelerating neural net training\n",
    "\n",
    "If you wanted to accelerate the training of a neural net using raw PyTorch, you would have to copy both the model and the training data to the GPU. Unless you were using a really small dataset like MNIST, you would typically _stream_ the batches of training data to the GPU as you used them in the training loop:\n",
    "\n",
    "```python\n",
    "device = \"cuda:0\" if torch.cuda.is_available() else \"cpu\"\n",
    "model = BaselineModel(784, 784, 10).to(device)\n",
    "\n",
    "loss_function = ...\n",
    "optimiser = ...\n",
    "\n",
    "for epoch in range(10):\n",
    "    for data in trainloader:\n",
    "        inputs, labels = data\n",
    "        inputs, labels = inputs.to(device), labels.to(device)\n",
    "\n",
    "        optimiser.zero_grad()\n",
    "        outputs = model(inputs)\n",
    "        loss = loss_function(outputs, labels)\n",
    "        loss.backward()\n",
    "        optimiser.step()\n",
    "```\n",
    "\n",
    "Using Torchbearer, this becomes much simpler - you just tell the `Trial` to run on the GPU and that's it!:\n",
    "\n",
    "```python\n",
    "model = BetterCNN()\n",
    "\n",
    "loss_function = ...\n",
    "optimiser = ...\n",
    "\n",
    "device = \"cuda:0\" if torch.cuda.is_available() else \"cpu\"\n",
    "trial = Trial(model, optimiser, loss_function, metrics=['loss', 'accuracy']).to(device)\n",
    "trial.with_generators(trainloader)\n",
    "trial.run(epochs=10)\n",
    "```\n"
   ]
  },
  {
   "cell_type": "markdown",
   "metadata": {
    "colab_type": "text",
    "deletable": false,
    "editable": false,
    "id": "zMYQ2xChBPei",
    "nbgrader": {
     "checksum": "064768c85834aa40d82396f9f3cccfac",
     "grade": false,
     "grade_id": "cell-cf0444554770e817",
     "locked": true,
     "schema_version": 1,
     "solution": false
    }
   },
   "source": [
    "## Multiple GPUs\n",
    "\n",
    "Using multiple GPUs is beyond the scope of the lab, but if you have multiple cuda devices, they can be referred to by index: `cuda:0`, `cuda:1`, `cuda:2`, etc. You have to be careful not to mix operations on different devices, and would need how to carefully orchestrate moving of data between the devices (which can really slow down your code to the point at which using the CPU would actually be faster)."
   ]
  },
  {
   "cell_type": "markdown",
   "metadata": {
    "colab_type": "text",
    "deletable": false,
    "editable": false,
    "id": "bGTVVeBOBPen",
    "nbgrader": {
     "checksum": "d698b1536be57d852780abaf08fcad68",
     "grade": false,
     "grade_id": "cell-f0f058c0af885275",
     "locked": true,
     "schema_version": 1,
     "solution": false
    }
   },
   "source": [
    "## Questions\n",
    "\n",
    "__Answer the following questions (enter the answer in the box below each one):__\n",
    "\n",
    "__1.__ What features of GPUs allow them to perform computations faster than a typically CPU?"
   ]
  },
  {
   "cell_type": "markdown",
   "metadata": {
    "colab_type": "text",
    "deletable": false,
    "id": "ary4khzEBPes",
    "nbgrader": {
     "checksum": "b1dc585b11c0e499f09e409017b6cb06",
     "grade": true,
     "grade_id": "cell-76fcc457388a8223",
     "locked": false,
     "points": 1,
     "schema_version": 1,
     "solution": true
    }
   },
   "source": [
    "CPUs are designed for more general computing workloads.  GPUs in contrast are less flexible, however GPUs are designed to compute in parallel the same instructions.   Deep Neural Networks (DNN) are structured in a very uniform manner such that at each layer of the network thousands of identical artificial neurons perform the same computation.   Therefore the structure of a DNN fits quite well with the kinds of computation that a GPU can efficiently perform.\n",
    "\n",
    "GPUs have additional advantages over CPUs,  these include having more computational units and having a higher bandwidth to retrieve from memory.  Furthermore,  in applications requiring image processing (i.e. Convolution Neural Networks) GPU graphics specific capabilities can be exploited to further speed up calculations.  "
   ]
  },
  {
   "cell_type": "markdown",
   "metadata": {
    "colab_type": "text",
    "deletable": false,
    "editable": false,
    "id": "h-cwFLk5BPev",
    "nbgrader": {
     "checksum": "374801c6d757e48f93fe93618435c685",
     "grade": false,
     "grade_id": "cell-68f765cc2155e517",
     "locked": true,
     "schema_version": 1,
     "solution": false
    }
   },
   "source": [
    "__2.__ What is the biggest limiting factor for training large models with current generation GPUs?"
   ]
  },
  {
   "cell_type": "markdown",
   "metadata": {
    "colab_type": "text",
    "deletable": false,
    "id": "Q3rFdyVHBPe0",
    "nbgrader": {
     "checksum": "964d60951aa496908969f2ca35be3104",
     "grade": true,
     "grade_id": "cell-a147457afc2c4c40",
     "locked": false,
     "points": 1,
     "schema_version": 1,
     "solution": true
    }
   },
   "source": [
    "The primary weakness of GPUs as compared to CPUs is memory capacity on GPUs are lower than CPUs.   The highest known GPU contains 24GB of RAM, in contrast, CPUs can reach 1TB of RAM.   A secondary weakness is that a CPU is required to transfer data into the GPU card.  "
   ]
  }
 ],
 "metadata": {
  "accelerator": "GPU",
  "colab": {
   "collapsed_sections": [],
   "name": "4_4_GPU.ipynb",
   "provenance": [
    {
     "file_id": "https://github.com/ecs-vlc/COMP6248/blob/master/docs/labs/lab4/4_4_GPU.ipynb",
     "timestamp": 1582716102120
    }
   ]
  },
  "kernelspec": {
   "display_name": "Python 3",
   "language": "python",
   "name": "python3"
  },
  "language_info": {
   "codemirror_mode": {
    "name": "ipython",
    "version": 3
   },
   "file_extension": ".py",
   "mimetype": "text/x-python",
   "name": "python",
   "nbconvert_exporter": "python",
   "pygments_lexer": "ipython3",
   "version": "3.7.3"
  }
 },
 "nbformat": 4,
 "nbformat_minor": 4
}
