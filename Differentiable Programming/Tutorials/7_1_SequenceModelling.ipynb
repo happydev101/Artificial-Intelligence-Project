{
 "cells": [
  {
   "cell_type": "markdown",
   "metadata": {
    "colab_type": "text",
    "deletable": false,
    "editable": false,
    "id": "0GKXY6xlJFpZ",
    "nbgrader": {
     "checksum": "40fe1c0748661d409405f09e9250edcf",
     "grade": false,
     "grade_id": "cell-f67b416b0411edc1",
     "locked": true,
     "schema_version": 1,
     "solution": false
    }
   },
   "source": [
    "# Part 1: Sequence Modelling"
   ]
  },
  {
   "cell_type": "markdown",
   "metadata": {
    "colab_type": "text",
    "deletable": false,
    "editable": false,
    "id": "RktzgGYFJFpc",
    "nbgrader": {
     "checksum": "ed5be3ed6978c8f54e5301bbb9d0d0bd",
     "grade": false,
     "grade_id": "cell-a328195514e4147d",
     "locked": true,
     "schema_version": 1,
     "solution": false
    }
   },
   "source": [
    "__Before starting, we recommend you enable GPU acceleration if you're running on Colab.__"
   ]
  },
  {
   "cell_type": "code",
   "execution_count": null,
   "metadata": {
    "colab": {
     "base_uri": "https://localhost:8080/",
     "height": 195
    },
    "colab_type": "code",
    "deletable": false,
    "editable": false,
    "executionInfo": {
     "elapsed": 9779,
     "status": "ok",
     "timestamp": 1588763604373,
     "user": {
      "displayName": "Pier Paolo Ippolito",
      "photoUrl": "https://lh3.googleusercontent.com/a-/AOh14GjAj9U2nofERZJ9Sw2cUfGIXHe_5S_wb80SU9gr9A=s64",
      "userId": "11847293594480931962"
     },
     "user_tz": -60
    },
    "id": "zZ6d_zPOJFpe",
    "nbgrader": {
     "checksum": "5d3c83086d3c94835d3f8510df7f8d0f",
     "grade": false,
     "grade_id": "cell-52dc2d0ecf866f90",
     "locked": true,
     "schema_version": 1,
     "solution": false
    },
    "outputId": "797016be-3a7e-47e5-9b0c-8f8020b029f0"
   },
   "outputs": [
    {
     "name": "stdout",
     "output_type": "stream",
     "text": [
      "Collecting torchbearer\n",
      "\u001b[?25l  Downloading https://files.pythonhosted.org/packages/ff/e9/4049a47dd2e5b6346a2c5d215b0c67dce814afbab1cd54ce024533c4834e/torchbearer-0.5.3-py3-none-any.whl (138kB)\n",
      "\u001b[K     |████████████████████████████████| 143kB 2.8MB/s eta 0:00:01\n",
      "\u001b[?25hRequirement already satisfied: tqdm in /usr/local/lib/python3.6/dist-packages (from torchbearer) (4.38.0)\n",
      "Requirement already satisfied: numpy in /usr/local/lib/python3.6/dist-packages (from torchbearer) (1.18.3)\n",
      "Requirement already satisfied: torch>=1.0.0 in /usr/local/lib/python3.6/dist-packages (from torchbearer) (1.5.0+cu101)\n",
      "Requirement already satisfied: future in /usr/local/lib/python3.6/dist-packages (from torch>=1.0.0->torchbearer) (0.16.0)\n",
      "Installing collected packages: torchbearer\n",
      "Successfully installed torchbearer-0.5.3\n"
     ]
    }
   ],
   "source": [
    "# Execute this code block to install dependencies when running on colab\n",
    "try:\n",
    "    import torch\n",
    "except:\n",
    "    from os.path import exists\n",
    "    from wheel.pep425tags import get_abbr_impl, get_impl_ver, get_abi_tag\n",
    "    platform = '{}{}-{}'.format(get_abbr_impl(), get_impl_ver(), get_abi_tag())\n",
    "    cuda_output = !ldconfig -p|grep cudart.so|sed -e 's/.*\\.\\([0-9]*\\)\\.\\([0-9]*\\)$/cu\\1\\2/'\n",
    "    accelerator = cuda_output[0] if exists('/dev/nvidia0') else 'cpu'\n",
    "\n",
    "    !pip install -q http://download.pytorch.org/whl/{accelerator}/torch-1.0.0-{platform}-linux_x86_64.whl torchvision\n",
    "\n",
    "try: \n",
    "    import torchbearer\n",
    "except:\n",
    "    !pip install torchbearer"
   ]
  },
  {
   "cell_type": "markdown",
   "metadata": {
    "colab_type": "text",
    "deletable": false,
    "editable": false,
    "id": "hkzwyy4hJFpw",
    "nbgrader": {
     "checksum": "e9c1849d2839e6c1ebac8b563fe9d0bc",
     "grade": false,
     "grade_id": "cell-36906cd59153af5b",
     "locked": true,
     "schema_version": 1,
     "solution": false
    }
   },
   "source": [
    "## Markov chains\n",
    "\n",
    "We'll start our exploration of modelling sequences and building generative models using a 1st order Markov chain. The Markov chain is a stochastic model describing a sequence of possible events in which the probability of each event depends only on the state attained in the previous event. In our case we're going to learn a model over a set of characters from an English language text. The events, or states, in our model are the set of possible characters, and we'll learn the probability of moving from one character to the next.\n",
    "\n",
    "Let's start by loading the data from the web:"
   ]
  },
  {
   "cell_type": "code",
   "execution_count": null,
   "metadata": {
    "colab": {
     "base_uri": "https://localhost:8080/",
     "height": 84,
     "referenced_widgets": [
      "1ead2982dc3b4934bdc934aa14eadcb6",
      "c7898c0b79654d3588fad634a317b242",
      "ac80951b5f984390bcbecb849d5158b0",
      "4cae9417968c4df8a52d6c5ea8d30a7d",
      "26134d9b8cdf4eb99a5177e47c9cb8d5",
      "4c6437182051406cab5e1cd6b646350e",
      "d3e026f948ca40f79c2235930c15b203",
      "9959826038d641ce956ecc4e847f504c"
     ]
    },
    "colab_type": "code",
    "deletable": false,
    "editable": false,
    "executionInfo": {
     "elapsed": 11262,
     "status": "ok",
     "timestamp": 1588763606090,
     "user": {
      "displayName": "Pier Paolo Ippolito",
      "photoUrl": "https://lh3.googleusercontent.com/a-/AOh14GjAj9U2nofERZJ9Sw2cUfGIXHe_5S_wb80SU9gr9A=s64",
      "userId": "11847293594480931962"
     },
     "user_tz": -60
    },
    "id": "OHd4zuO4JFpy",
    "nbgrader": {
     "checksum": "508d37e774c4619f7c4706291f52c466",
     "grade": false,
     "grade_id": "cell-a592d788c1587e58",
     "locked": true,
     "schema_version": 1,
     "solution": false
    },
    "outputId": "8cfbc0dd-fdcd-42ae-f4f7-a9737254461c"
   },
   "outputs": [
    {
     "name": "stdout",
     "output_type": "stream",
     "text": [
      "Downloading https://s3.amazonaws.com/text-datasets/nietzsche.txt to ./nietzsche.txt\n"
     ]
    },
    {
     "data": {
      "application/vnd.jupyter.widget-view+json": {
       "model_id": "1ead2982dc3b4934bdc934aa14eadcb6",
       "version_major": 2,
       "version_minor": 0
      },
      "text/plain": [
       "HBox(children=(IntProgress(value=1, bar_style='info', max=1), HTML(value='')))"
      ]
     },
     "metadata": {
      "tags": []
     },
     "output_type": "display_data"
    },
    {
     "name": "stdout",
     "output_type": "stream",
     "text": [
      "corpus length: 600893\n"
     ]
    }
   ],
   "source": [
    "from torchvision.datasets.utils import download_url\n",
    "import torch\n",
    "import random\n",
    "import sys\n",
    "import io\n",
    "\n",
    "# Read the data\n",
    "download_url('https://s3.amazonaws.com/text-datasets/nietzsche.txt', '.', 'nietzsche.txt', None)\n",
    "text = io.open('./nietzsche.txt', encoding='utf-8').read().lower()\n",
    "print('corpus length:', len(text))"
   ]
  },
  {
   "cell_type": "markdown",
   "metadata": {
    "colab_type": "text",
    "deletable": false,
    "editable": false,
    "id": "Val5g-EFJFp8",
    "nbgrader": {
     "checksum": "a1b08d3393744a64f2d1991d8ddd3c1a",
     "grade": false,
     "grade_id": "cell-f345306b2d88866e",
     "locked": true,
     "schema_version": 1,
     "solution": false
    }
   },
   "source": [
    "We now need to iterate over the characters in the text and count the times each transition happens:"
   ]
  },
  {
   "cell_type": "code",
   "execution_count": null,
   "metadata": {
    "colab": {},
    "colab_type": "code",
    "deletable": false,
    "editable": false,
    "id": "4MnPvA6_JFp-",
    "nbgrader": {
     "checksum": "8452011964d66c1c591df5d4f49c82b6",
     "grade": false,
     "grade_id": "cell-21c1c86b5d26778f",
     "locked": true,
     "schema_version": 1,
     "solution": false
    }
   },
   "outputs": [],
   "source": [
    "transition_counts = dict()\n",
    "for i in range(0,len(text)-1):\n",
    "    currc = text[i]\n",
    "    nextc = text[i+1]\n",
    "    if currc not in transition_counts:\n",
    "        transition_counts[currc] = dict()\n",
    "    if nextc not in transition_counts[currc]:\n",
    "        transition_counts[currc][nextc] = 0\n",
    "    transition_counts[currc][nextc] += 1"
   ]
  },
  {
   "cell_type": "markdown",
   "metadata": {
    "colab_type": "text",
    "deletable": false,
    "editable": false,
    "id": "ZQ_SwfbZJFqH",
    "nbgrader": {
     "checksum": "73f178f03f644719a7684c942212b488",
     "grade": false,
     "grade_id": "cell-f93390ea74e0de36",
     "locked": true,
     "schema_version": 1,
     "solution": false
    }
   },
   "source": [
    "The `transition_counts` dictionary maps the current character to the next character, and this is then mapped to a count. We can for example use this datastructure to get the number of times the letter 'a' was followed by a 'b':"
   ]
  },
  {
   "cell_type": "code",
   "execution_count": null,
   "metadata": {
    "colab": {
     "base_uri": "https://localhost:8080/",
     "height": 35
    },
    "colab_type": "code",
    "deletable": false,
    "editable": false,
    "executionInfo": {
     "elapsed": 12065,
     "status": "ok",
     "timestamp": 1588763606956,
     "user": {
      "displayName": "Pier Paolo Ippolito",
      "photoUrl": "https://lh3.googleusercontent.com/a-/AOh14GjAj9U2nofERZJ9Sw2cUfGIXHe_5S_wb80SU9gr9A=s64",
      "userId": "11847293594480931962"
     },
     "user_tz": -60
    },
    "id": "hnQ11XhkJFqI",
    "nbgrader": {
     "checksum": "d37afa35d97a35848444cbffb3d4369c",
     "grade": false,
     "grade_id": "cell-ed4eee0105f3a0cf",
     "locked": true,
     "schema_version": 1,
     "solution": false
    },
    "outputId": "dcc13f4d-a0a2-4e27-9327-32729e60ba81"
   },
   "outputs": [
    {
     "name": "stdout",
     "output_type": "stream",
     "text": [
      "Number of transitions from 'a' to 'b': 813\n"
     ]
    }
   ],
   "source": [
    "print(\"Number of transitions from 'a' to 'b': \" + str(transition_counts['a']['b']))"
   ]
  },
  {
   "cell_type": "markdown",
   "metadata": {
    "colab_type": "text",
    "deletable": false,
    "editable": false,
    "id": "B8_X3J4UJFqR",
    "nbgrader": {
     "checksum": "89b218435d0475de2fd126d6cf654d07",
     "grade": false,
     "grade_id": "cell-195d5f1aebd40797",
     "locked": true,
     "schema_version": 1,
     "solution": false
    }
   },
   "source": [
    "Finally, to complete the model we need to normalise the counts for each initial character into a probability distribution over the possible next character. We'll slightly modify the form we're storing these and maintain a tuple of array objects for each initial character: the first holding the set of possible characters, and the second holding the corresponding probabilities:"
   ]
  },
  {
   "cell_type": "code",
   "execution_count": null,
   "metadata": {
    "colab": {},
    "colab_type": "code",
    "deletable": false,
    "editable": false,
    "id": "fvk2ow5OJFqT",
    "nbgrader": {
     "checksum": "9dbad32065a0c97c65cc5760b5efa718",
     "grade": false,
     "grade_id": "cell-28d68d95d39e3180",
     "locked": true,
     "schema_version": 1,
     "solution": false
    }
   },
   "outputs": [],
   "source": [
    "transition_probabilities = dict()\n",
    "for currentc, next_counts in transition_counts.items():\n",
    "    values = []\n",
    "    probabilities = []\n",
    "    sumall = 0\n",
    "    for nextc, count in next_counts.items():\n",
    "        values.append(nextc)\n",
    "        probabilities.append(count)\n",
    "        sumall += count\n",
    "    for i in range(0, len(probabilities)):\n",
    "        probabilities[i] /= float(sumall)\n",
    "    transition_probabilities[currentc] = (values, probabilities)"
   ]
  },
  {
   "cell_type": "markdown",
   "metadata": {
    "colab_type": "text",
    "deletable": false,
    "editable": false,
    "id": "fvhGzgO4JFqd",
    "nbgrader": {
     "checksum": "7e7336b1ef946f10dc63020be2b17ecf",
     "grade": false,
     "grade_id": "cell-f79188db65a705aa",
     "locked": true,
     "schema_version": 1,
     "solution": false
    }
   },
   "source": [
    "At this point, we could print out the probability distribution for a given initial character state. For example, to print the distribution for 'a':"
   ]
  },
  {
   "cell_type": "code",
   "execution_count": null,
   "metadata": {
    "colab": {
     "base_uri": "https://localhost:8080/",
     "height": 721
    },
    "colab_type": "code",
    "deletable": false,
    "editable": false,
    "executionInfo": {
     "elapsed": 12003,
     "status": "ok",
     "timestamp": 1588763606958,
     "user": {
      "displayName": "Pier Paolo Ippolito",
      "photoUrl": "https://lh3.googleusercontent.com/a-/AOh14GjAj9U2nofERZJ9Sw2cUfGIXHe_5S_wb80SU9gr9A=s64",
      "userId": "11847293594480931962"
     },
     "user_tz": -60
    },
    "id": "4c8pOHaIJFqf",
    "nbgrader": {
     "checksum": "5eaaf96ae4181ad3a2b7087d9643ff1f",
     "grade": false,
     "grade_id": "cell-ee624b4c0ff2c64f",
     "locked": true,
     "schema_version": 1,
     "solution": false
    },
    "outputId": "f671efb5-6d24-48f2-e72b-a797e276bd50"
   },
   "outputs": [
    {
     "name": "stdout",
     "output_type": "stream",
     "text": [
      "c 0.03685183172083922\n",
      "t 0.14721708881400153\n",
      "  0.05296771388194369\n",
      "n 0.2322806826829003\n",
      "l 0.11552886183280792\n",
      "r 0.08794434177628004\n",
      "s 0.0968583541689314\n",
      "v 0.0192412218719426\n",
      "i 0.03402543754755952\n",
      "d 0.026986628981411024\n",
      "g 0.017202956843135123\n",
      "y 0.02505707142080661\n",
      "k 0.012827481247961734\n",
      "b 0.02209479291227307\n",
      "p 0.020545711490379388\n",
      "m 0.02030111968692249\n",
      "u 0.011414284161321883\n",
      "f 0.004429829329274921\n",
      "w 0.004837482335036417\n",
      ", 0.0010870746820306554\n",
      "\n",
      " 0.005353842809000978\n",
      "z 0.0006522448092183933\n",
      "x 0.0007609522774214588\n",
      "o 0.0005435373410153277\n",
      ". 0.000489183606913795\n",
      "- 0.0004348298728122622\n",
      "' 5.4353734101532776e-05\n",
      "j 0.0004348298728122622\n",
      "h 0.00035329927165996303\n",
      "e 0.0007337754103706925\n",
      ": 5.4353734101532776e-05\n",
      "a 5.4353734101532776e-05\n",
      ") 0.00010870746820306555\n",
      "! 2.7176867050766388e-05\n",
      "; 2.7176867050766388e-05\n",
      "\" 8.153060115229916e-05\n",
      "q 2.7176867050766388e-05\n",
      "_ 8.153060115229916e-05\n",
      "[ 2.7176867050766388e-05\n"
     ]
    }
   ],
   "source": [
    "for a,b in zip(transition_probabilities['a'][0], transition_probabilities['a'][1]):\n",
    "    print(a,b)"
   ]
  },
  {
   "cell_type": "markdown",
   "metadata": {
    "colab_type": "text",
    "deletable": false,
    "editable": false,
    "id": "i_qsHL1zJFqo",
    "nbgrader": {
     "checksum": "93b3745091fcb17322253b02af1bc2d9",
     "grade": false,
     "grade_id": "cell-9cc2f51ebb3ea728",
     "locked": true,
     "schema_version": 1,
     "solution": false
    }
   },
   "source": [
    "It looks like the most probable letter to follow an 'a' is 'n'. \n",
    "\n",
    "__What is the most likely letter to follow the letter 'j'? Write your answer in the block below:__"
   ]
  },
  {
   "cell_type": "code",
   "execution_count": null,
   "metadata": {
    "colab": {
     "base_uri": "https://localhost:8080/",
     "height": 105
    },
    "colab_type": "code",
    "deletable": false,
    "executionInfo": {
     "elapsed": 11952,
     "status": "ok",
     "timestamp": 1588763606959,
     "user": {
      "displayName": "Pier Paolo Ippolito",
      "photoUrl": "https://lh3.googleusercontent.com/a-/AOh14GjAj9U2nofERZJ9Sw2cUfGIXHe_5S_wb80SU9gr9A=s64",
      "userId": "11847293594480931962"
     },
     "user_tz": -60
    },
    "id": "TU5NzqnKJFqp",
    "nbgrader": {
     "checksum": "bd3cad04582e881ebc595619cef14fd1",
     "grade": true,
     "grade_id": "cell-2a3a71268b5a2df9",
     "locked": false,
     "points": 1,
     "schema_version": 1,
     "solution": true
    },
    "outputId": "85a14cad-734d-4c23-841d-46563a13c038"
   },
   "outputs": [
    {
     "name": "stdout",
     "output_type": "stream",
     "text": [
      "e 0.2585278276481149\n",
      "o 0.15080789946140036\n",
      "u 0.5709156193895871\n",
      "a 0.017953321364452424\n",
      "i 0.0017953321364452424\n"
     ]
    }
   ],
   "source": [
    "for a,b in zip(transition_probabilities['j'][0], transition_probabilities['j'][1]):\n",
    "    print(a,b)"
   ]
  },
  {
   "cell_type": "markdown",
   "metadata": {
    "colab_type": "text",
    "deletable": false,
    "editable": false,
    "id": "7njBnhY1JFqu",
    "nbgrader": {
     "checksum": "fb10d0a7366b0f59055017a39614e93e",
     "grade": false,
     "grade_id": "cell-43b70458c31baaf3",
     "locked": true,
     "schema_version": 1,
     "solution": false
    }
   },
   "source": [
    "We mentioned earlier that the Markov model is generative. This means that we can draw samples from the distributions and iteratively move between states. \n",
    "\n",
    "Use the following code block to iteratively sample 1000 characters from the model, starting with an initial character 't'. You can use the `torch.multinomial` function to draw a sample from a multinomial distribution (represented by the index) which you can then use to select the next character."
   ]
  },
  {
   "cell_type": "code",
   "execution_count": null,
   "metadata": {
    "colab": {
     "base_uri": "https://localhost:8080/",
     "height": 387
    },
    "colab_type": "code",
    "deletable": false,
    "executionInfo": {
     "elapsed": 11887,
     "status": "ok",
     "timestamp": 1588763606960,
     "user": {
      "displayName": "Pier Paolo Ippolito",
      "photoUrl": "https://lh3.googleusercontent.com/a-/AOh14GjAj9U2nofERZJ9Sw2cUfGIXHe_5S_wb80SU9gr9A=s64",
      "userId": "11847293594480931962"
     },
     "user_tz": -60
    },
    "id": "YUfkOO3bJFqw",
    "nbgrader": {
     "checksum": "4f50c283225208b2043431a1c2da104f",
     "grade": true,
     "grade_id": "cell-5be0d1f3fc6e8f65",
     "locked": false,
     "points": 4,
     "schema_version": 1,
     "solution": true
    },
    "outputId": "7515797b-30a5-479d-b9ac-899eca69d200"
   },
   "outputs": [
    {
     "name": "stdout",
     "output_type": "stream",
     "text": [
      "t-hesasendot wis eneantrge illy ot malinthares cot isselerawhe ss t and\n",
      "tad con\n",
      "whe\n",
      "hengiodun cacexandencele\n",
      "ives tef, ith s ape pry\n",
      "ongorethe.\n",
      "ss f icey, tinome ilo\n",
      "ce\n",
      "hathomanente m\n",
      "pin s ty pth s cas all on gl asanc\n",
      "eespst ounll w thenthe d mallladwedstis inkeralatito hingad or thull, istee-t ss a \" dy he\n",
      "thowehong omasus t stonkweg thathel\n",
      "elidulllof atalild and phosthe tars fundeseroral s: mothind m whand oncie, gsily finuapr whak; h aldelilfom, ar--ixe annpoursng tererind\n",
      "prfoforinitin nsed. abele tsore\n",
      "t a ans ith thepe wofrsth phene.=-re arofoqum in serichogety catispanorasth te ethed-hamsal ocediread thy thutspinchiar tiphutf onshad t o\n",
      "tullice o lanell ofitheved por: mauowhitioonll!-\" ioredeve rere.\n",
      "---ica bene s, intl, terge e pes\n",
      "thee, mpe oulilmarborcambeo courense oresk man celf a te \"sst sidgeitug  \"me\n",
      "moe en aulde\n",
      "akin in ostherhe, ill cys tucoulisthatolicof d s ess st rsm akeng strithioscing, y fa s at hetireve ndoory n, tll tthe ape wirengivis cas ton, tys rd\n",
      "lstos ca"
     ]
    }
   ],
   "source": [
    "current = 't'\n",
    "for i in range(0, 1000):\n",
    "    print(current, end='')\n",
    "    # sample the next character based on `current` and store the result in `current`\n",
    "    probs = torch.tensor(transition_probabilities[current][1])\n",
    "    index = torch.multinomial(probs, 1)\n",
    "    current = transition_probabilities[current][0][index[0].item()]\n",
    "    #current = list(transition_probabilities)[index[0].item()]"
   ]
  },
  {
   "cell_type": "markdown",
   "metadata": {
    "colab_type": "text",
    "deletable": false,
    "editable": false,
    "id": "IdiE_RE-JFq2",
    "nbgrader": {
     "checksum": "56c49154c48797d312762e4761085bf7",
     "grade": false,
     "grade_id": "cell-de87ac1c9708205f",
     "locked": true,
     "schema_version": 1,
     "solution": false
    }
   },
   "source": [
    "You should observe a result that is clearly not English, but it should be obvious that some of the common structures in the English language have been captured.\n",
    "\n",
    "__Rather than building a model based on individual characters, can you implement a model in the following code block that works on words instead?__"
   ]
  },
  {
   "cell_type": "code",
   "execution_count": null,
   "metadata": {
    "colab": {
     "base_uri": "https://localhost:8080/",
     "height": 52
    },
    "colab_type": "code",
    "deletable": false,
    "executionInfo": {
     "elapsed": 11856,
     "status": "ok",
     "timestamp": 1588763606961,
     "user": {
      "displayName": "Pier Paolo Ippolito",
      "photoUrl": "https://lh3.googleusercontent.com/a-/AOh14GjAj9U2nofERZJ9Sw2cUfGIXHe_5S_wb80SU9gr9A=s64",
      "userId": "11847293594480931962"
     },
     "user_tz": -60
    },
    "id": "14Ju6ToRJFq4",
    "nbgrader": {
     "checksum": "ed71d61ce7a2f648d7507693902da3d7",
     "grade": true,
     "grade_id": "cell-a6d4a8a639190296",
     "locked": false,
     "points": 5,
     "schema_version": 1,
     "solution": true
    },
    "outputId": "5f94fddc-6299-4763-b104-8976a10253f0"
   },
   "outputs": [
    {
     "name": "stdout",
     "output_type": "stream",
     "text": [
      "\n",
      "Number of transitions from 'conviction' to 'how': 1\n"
     ]
    }
   ],
   "source": [
    "import re\n",
    "\n",
    "transition_counts = dict()\n",
    "wordList = re.sub(\"[^\\w]\", \" \",  text).split()\n",
    "for i in range(0,len(wordList)-1):\n",
    "    currc = wordList[i]\n",
    "    nextc = wordList[i+1]\n",
    "    if currc not in transition_counts:\n",
    "        transition_counts[currc] = dict()\n",
    "    if nextc not in transition_counts[currc]:\n",
    "        transition_counts[currc][nextc] = 0\n",
    "    transition_counts[currc][nextc] += 1\n",
    "\n",
    "print(\"Number of transitions from 'conviction' to 'how': \" + str(transition_counts['conviction']['how']))"
   ]
  },
  {
   "cell_type": "code",
   "execution_count": null,
   "metadata": {
    "colab": {
     "base_uri": "https://localhost:8080/",
     "height": 105
    },
    "colab_type": "code",
    "executionInfo": {
     "elapsed": 12245,
     "status": "ok",
     "timestamp": 1588763607386,
     "user": {
      "displayName": "Pier Paolo Ippolito",
      "photoUrl": "https://lh3.googleusercontent.com/a-/AOh14GjAj9U2nofERZJ9Sw2cUfGIXHe_5S_wb80SU9gr9A=s64",
      "userId": "11847293594480931962"
     },
     "user_tz": -60
    },
    "id": "XEhQI4YtVCJQ",
    "outputId": "ab7812f2-17b4-4706-b5ef-4a047148b622"
   },
   "outputs": [
    {
     "name": "stdout",
     "output_type": "stream",
     "text": [
      "of 0.25\n",
      "how 0.125\n",
      "that 0.375\n",
      "prevalent 0.125\n",
      "has 0.125\n"
     ]
    }
   ],
   "source": [
    "transition_probabilities = dict()\n",
    "for currentc, next_counts in transition_counts.items():\n",
    "    values = []\n",
    "    probabilities = []\n",
    "    sumall = 0\n",
    "    for nextc, count in next_counts.items():\n",
    "        values.append(nextc)\n",
    "        probabilities.append(count)\n",
    "        sumall += count\n",
    "    for i in range(0, len(probabilities)):\n",
    "        probabilities[i] /= float(sumall)\n",
    "    transition_probabilities[currentc] = (values, probabilities)\n",
    "\n",
    "for a,b in zip(transition_probabilities['conviction'][0], transition_probabilities['conviction'][1]):\n",
    "    print(a,b)"
   ]
  },
  {
   "cell_type": "code",
   "execution_count": null,
   "metadata": {
    "colab": {
     "base_uri": "https://localhost:8080/",
     "height": 55
    },
    "colab_type": "code",
    "executionInfo": {
     "elapsed": 12218,
     "status": "ok",
     "timestamp": 1588763607387,
     "user": {
      "displayName": "Pier Paolo Ippolito",
      "photoUrl": "https://lh3.googleusercontent.com/a-/AOh14GjAj9U2nofERZJ9Sw2cUfGIXHe_5S_wb80SU9gr9A=s64",
      "userId": "11847293594480931962"
     },
     "user_tz": -60
    },
    "id": "VtciU2NgVnA-",
    "outputId": "b68e80b5-a431-49f4-e4a4-edb242832982"
   },
   "outputs": [
    {
     "name": "stdout",
     "output_type": "stream",
     "text": [
      "conviction of with them accordingly is inhuman in itself injures from the seat of curves and impossible because of the sublimest sort of ethical preachers or wilfully i fear as the absolute unities in the merely my honey who plans our tongue and prejudices of the slave morality translated itself and mumbling and establishes a substitute for a thing esteemed is calculated to religious people were compressed too healthy aristocracy like and not know what wickedness in the philosopher as man in the soul expressed and superficial they must not simply as their great resolution been made the deed out of date it is generally however they take care inasmuch as a new order to contend with a common than it a stone upon and craft i love and the poet so admirable in christianity socrates really scientific tinkering with suitable for company his very few are typical sign of a loud and things besides the mild pleasing and say without the only contrary of an expression contradicts itself to rebaptize our invention 254 even concubinage has long ago how we believe in relation to them can recognise this after according to the passage and entangled as high time that one another man let us to share our own excitation with a science however is quite superfluous when he been told snares for miracles because by a question with the mouth to the subject to this longing an extent and doubtful mediocrity which sense of arbitrary out of this regard to many willed ness for instance the historical knowledge if other world of his egoism really desires and habit at once for with little constant struggle with the frenzied being unjust beings to wait in the past 39 nobody will one may sin as the most manifold delight has resulted in ordinary language in fact that the author and she is to him from the path of affairs did a little selection and of superiority or a type close at another and more refined foolish naivete adorable childlike they strive for highly developed and has his day their promptly are so in the conflict in their awkward incapacity does the jews as the balance we not so closely is no longer beguiled by all that this condition of its victims for which is most in one s bark well as they were the profound indeed were lighter and precisely in the time as one has value in brief the soul the less the vestibule of all great epochs of feelings and even who executes are ruled to tragedy will be fairly and his life flourished most spiritual fate of perspectives concerning life in the whole less comprehensible actions it should bring a taste are taken into bad conscience how _late_ strict sense we overlook the most intellectual faculty of all the greatest triumph over the holy healing art in the greatest philosophers have for suspecting that understands itself to criticise unfairly thus originates from other persons of success often keeps himself incensed against existence of view of the deed out of an encouragement to solve advanced one who are yourself master who has resulted in every word in connection of earlier civilization and his soul and i would be involved is essential all the greatest liar and refined and instruments and so thorough as the conscience in this conviction that we shall once brought under the ultimate opinions to the eulogistic point of a tree correctly and to draw breath such views which seeks to the part of mediocrity always waiting and anti polish folly of this requires as more afflicted more powerful who plans our eyes as if it must put himself of ethics man was low level of evil and this respect what and subjects to appear precisely thereby on when they will encounter must there perhaps a profounder than those arts pure conception of being ruined by means of wild strange and indeed it from a labyrinth but simply sublimations in which are silent reserved expressly assenting to know thyself and forgetting inventive animal which much virtue 100 we overlook nor a new order of love of that obedience and their systems and the causes of the precept of non freedom of physicians not wish to habit of heredity and that account as false judgment in order to remove hence he is only in europe is regarded as they are even the spirit and woman first of the greatest exuberance they reverence it were a time for their guard and the sympathy that in certain many sided physiological facts as in europe in consideration and arrangements the want a great personages cast suspicion and died by arthur b bullock m a diversified descent in a radical departure from any further thought he himself following effect that the struggle against one must be counted among the groves all nature for all greatest possibilities there is known lines of this betoken if any great school teacher of the tiusche volk deceptive later age impregnated with regard the ural altaic languages where formerly the north and a person betrays the moral discernment they all political ambition the freedom there is but it refrain from the rest from science of morality it is taken romanticism the midst of such beautiful but self mastery and inscrutable animal morality of interpretation as the presumptive methods and reverent multitude worshipped a bad female cooks through which i stood in no conception of conscience from the utmost fairness what surprises in some one also do something quite other men we may not this because man as the artist intoxication of the case of these ideas and inscribes progress itself as a something obliging sickly recluse betray to look like expressions one how the things although they generalize where another with regard to suffer with feeling of delight in mere words in the most cultivated because they cried jubilantly to himself into a general uglifying of the liberty belong to it is in presence of duties "
     ]
    }
   ],
   "source": [
    "current = 'conviction'\n",
    "for i in range(0, 1000):\n",
    "    print(current, end=' ')\n",
    "    # sample the next character based on `current` and store the result in `current`\n",
    "    probs = torch.tensor(transition_probabilities[current][1])\n",
    "    index = torch.multinomial(probs, 1)\n",
    "    current = transition_probabilities[current][0][index[0].item()]"
   ]
  },
  {
   "cell_type": "markdown",
   "metadata": {
    "colab_type": "text",
    "deletable": false,
    "editable": false,
    "id": "lak9PP9xJFq_",
    "nbgrader": {
     "checksum": "cd494f7c9fd0e838e74a5c70cd5ef773",
     "grade": false,
     "grade_id": "cell-d54dcdc1d540df4f",
     "locked": true,
     "schema_version": 1,
     "solution": false
    }
   },
   "source": [
    "## RNN-based sequence modelling\n",
    "\n",
    "It is possible to build higher-order Markov models that capture longer-term dependencies in the text and have higher accuracy, however this does tend to become computationally infeasible very quickly. Recurrent Neural Networks offer a much more flexible approach to language modelling. \n",
    "\n",
    "We'll use the same data as above, and start by creating mappings of characters to numeric indices (and vice-versa):"
   ]
  },
  {
   "cell_type": "code",
   "execution_count": null,
   "metadata": {
    "colab": {
     "base_uri": "https://localhost:8080/",
     "height": 35
    },
    "colab_type": "code",
    "deletable": false,
    "editable": false,
    "executionInfo": {
     "elapsed": 12199,
     "status": "ok",
     "timestamp": 1588763607388,
     "user": {
      "displayName": "Pier Paolo Ippolito",
      "photoUrl": "https://lh3.googleusercontent.com/a-/AOh14GjAj9U2nofERZJ9Sw2cUfGIXHe_5S_wb80SU9gr9A=s64",
      "userId": "11847293594480931962"
     },
     "user_tz": -60
    },
    "id": "rJHk_AhyJFrB",
    "nbgrader": {
     "checksum": "ae5b316a7c13ecd23143d4dfa35bee5c",
     "grade": false,
     "grade_id": "cell-d152a2cb9707a4c4",
     "locked": true,
     "schema_version": 1,
     "solution": false
    },
    "outputId": "2359788e-d461-44f9-bc66-9d0ccefa6459"
   },
   "outputs": [
    {
     "name": "stdout",
     "output_type": "stream",
     "text": [
      "total chars: 57\n"
     ]
    }
   ],
   "source": [
    "chars = sorted(list(set(text)))\n",
    "print('total chars:', len(chars))\n",
    "char_indices = dict((c, i) for i, c in enumerate(chars))\n",
    "indices_char = dict((i, c) for i, c in enumerate(chars))"
   ]
  },
  {
   "cell_type": "markdown",
   "metadata": {
    "colab_type": "text",
    "deletable": false,
    "editable": false,
    "id": "97FMIOuqJFrI",
    "nbgrader": {
     "checksum": "f5f0f03e31eccfb78d1756139f90e1ac",
     "grade": false,
     "grade_id": "cell-46a85547d03a1f30",
     "locked": true,
     "schema_version": 1,
     "solution": false
    }
   },
   "source": [
    "We'll also write some helper functions to encode and decode the data to/from tensors of indices, and an implementation of a `torch.Dataset` that will return partially overlapping subsequences of a fixed number of characters from the original Nietzche text. Our model will learn to associate a sequence of characters (the $x$'s) to a single character (the $y$'s):"
   ]
  },
  {
   "cell_type": "code",
   "execution_count": null,
   "metadata": {
    "colab": {},
    "colab_type": "code",
    "deletable": false,
    "editable": false,
    "id": "wbvrLBw_JFrI",
    "nbgrader": {
     "checksum": "fb93c4daba5adbfabf8ef5656cc89543",
     "grade": false,
     "grade_id": "cell-64f8b2518a008c54",
     "locked": true,
     "schema_version": 1,
     "solution": false
    }
   },
   "outputs": [],
   "source": [
    "from torch.utils.data import Dataset, DataLoader\n",
    "from torch import nn\n",
    "from torch.nn import functional as F\n",
    "from torch import optim\n",
    "import random\n",
    "import sys\n",
    "import io\n",
    "\n",
    "maxlen = 40\n",
    "step = 3\n",
    "\n",
    "\n",
    "def encode(inp):\n",
    "    # encode the characters in a tensor\n",
    "    x = torch.zeros(maxlen, dtype=torch.long)\n",
    "    for t, char in enumerate(inp):\n",
    "        x[t] = char_indices[char]\n",
    "\n",
    "    return x\n",
    "\n",
    "\n",
    "def decode(ten):\n",
    "    s = ''\n",
    "    for v in ten:\n",
    "        s += indices_char[v] \n",
    "    return s\n",
    "\n",
    "\n",
    "class MyDataset(Dataset):\n",
    "    # cut the text in semi-redundant sequences of maxlen characters\n",
    "    def __len__(self):\n",
    "        return (len(text) - maxlen) // step\n",
    "\n",
    "    def __getitem__(self, i):\n",
    "        inp = text[i*step: i*step + maxlen]\n",
    "        out = text[i*step + maxlen]\n",
    "\n",
    "        x = encode(inp)\n",
    "        y = char_indices[out]\n",
    "\n",
    "        return x, y"
   ]
  },
  {
   "cell_type": "markdown",
   "metadata": {
    "colab_type": "text",
    "deletable": false,
    "editable": false,
    "id": "ACWegAh0JFrM",
    "nbgrader": {
     "checksum": "df5113fc9d6d635dca32463f07fcb7d1",
     "grade": false,
     "grade_id": "cell-bdbb9997aa91863b",
     "locked": true,
     "schema_version": 1,
     "solution": false
    }
   },
   "source": [
    "We can now define the model. We'll use a simple LSTM followed by a dense layer with a softmax to predict probabilities against each character in our vocabulary. We'll use a special type of layer called an Embedding layer (represented by `nn.Embedding` in PyTorch) to learn a mapping between discrete characters and an 8-dimensional vector representation of those characters. You'll learn more about Embeddings in the next part of the lab."
   ]
  },
  {
   "cell_type": "code",
   "execution_count": null,
   "metadata": {
    "colab": {},
    "colab_type": "code",
    "deletable": false,
    "editable": false,
    "id": "BNZXV5dfJFrN",
    "nbgrader": {
     "checksum": "2d79273b7a17d28c4d6c93e3d22927f5",
     "grade": false,
     "grade_id": "cell-2aa5e9483ccd6ba4",
     "locked": true,
     "schema_version": 1,
     "solution": false
    }
   },
   "outputs": [],
   "source": [
    "class CharPredictor(nn.Module):\n",
    "    def __init__(self):\n",
    "        super(CharPredictor, self).__init__()\n",
    "        self.emb = nn.Embedding(len(chars), 8)\n",
    "        self.lstm = nn.LSTM(8, 128, batch_first=True)\n",
    "        self.lin = nn.Linear(128, len(chars))\n",
    "\n",
    "    def forward(self, x):\n",
    "        x = self.emb(x)\n",
    "        lstm_out, _ = self.lstm(x)\n",
    "        out = self.lin(lstm_out[:,-1]) #we want the final timestep output (timesteps in last index with batch_first)\n",
    "        return out"
   ]
  },
  {
   "cell_type": "markdown",
   "metadata": {
    "colab_type": "text",
    "deletable": false,
    "editable": false,
    "id": "3b1KHRRMJFrT",
    "nbgrader": {
     "checksum": "8d9e5e92460bbe5a977021f631362478",
     "grade": false,
     "grade_id": "cell-eda65e7ef08f66a5",
     "locked": true,
     "schema_version": 1,
     "solution": false
    }
   },
   "source": [
    "We could train our model at this point, but it would be nice to be able to sample it during training so we can see how its learning. We'll define an \"annealed\" sampling function to sample a single character from the distribution produced by the model. The annealed sampling function has a temperature parameter which moderates the probability distribution being sampled - low temperature will force the samples to come from only the most likely character, whilst higher temperatures allow for more variability in the character that is sampled:"
   ]
  },
  {
   "cell_type": "code",
   "execution_count": null,
   "metadata": {
    "colab": {},
    "colab_type": "code",
    "deletable": false,
    "editable": false,
    "id": "ySZaLHM9JFrU",
    "nbgrader": {
     "checksum": "5aedd2ccd26ef2d6505278a7894671e4",
     "grade": false,
     "grade_id": "cell-be521ae6b656234a",
     "locked": true,
     "schema_version": 1,
     "solution": false
    }
   },
   "outputs": [],
   "source": [
    "def sample(logits, temperature=1.0):\n",
    "    # helper function to sample an index from a probability array\n",
    "    logits = logits / temperature\n",
    "    return torch.multinomial(F.softmax(logits, dim=0), 1)"
   ]
  },
  {
   "cell_type": "markdown",
   "metadata": {
    "colab_type": "text",
    "deletable": false,
    "editable": false,
    "id": "vsZW067qJFrf",
    "nbgrader": {
     "checksum": "5057964b1e77f5ba8c92abf3148ce73f",
     "grade": false,
     "grade_id": "cell-981d79ec1593b83b",
     "locked": true,
     "schema_version": 1,
     "solution": false
    }
   },
   "source": [
    "Torchbearer lets us define callbacks which can be triggered during training (for example at the end of each epoch). Let's write a callback that will sample some sentences using a range of different 'temperatures' for our annealed sampling function:"
   ]
  },
  {
   "cell_type": "code",
   "execution_count": null,
   "metadata": {
    "colab": {},
    "colab_type": "code",
    "deletable": false,
    "editable": false,
    "id": "HAroN81JJFrh",
    "nbgrader": {
     "checksum": "44f0bad7cc7aa788fa4111d6a55766ca",
     "grade": false,
     "grade_id": "cell-788b63e92e811aa8",
     "locked": true,
     "schema_version": 1,
     "solution": false
    }
   },
   "outputs": [],
   "source": [
    "import torchbearer\n",
    "from torchbearer import Trial\n",
    "from torchbearer.callbacks.decorators import on_end_epoch\n",
    "\n",
    "device = \"cuda:0\" if torch.cuda.is_available() else \"cpu\"\n",
    "\n",
    "@on_end_epoch\n",
    "def create_samples(state):\n",
    "    with torch.no_grad():\n",
    "        epoch = -1\n",
    "        if state is not None:\n",
    "            epoch = state[torchbearer.EPOCH]\n",
    "\n",
    "        print()\n",
    "        print('----- Generating text after Epoch: %d' % epoch)\n",
    "\n",
    "        start_index = random.randint(0, len(text) - maxlen - 1)\n",
    "        for diversity in [0.2, 0.5, 1.0, 1.2]:\n",
    "            print()\n",
    "            print()\n",
    "            print('----- diversity:', diversity)\n",
    "\n",
    "            generated = ''\n",
    "            sentence = text[start_index:start_index+maxlen-1]\n",
    "            generated += sentence\n",
    "            print('----- Generating with seed: \"' + sentence + '\"')\n",
    "            print()\n",
    "            sys.stdout.write(generated)\n",
    "\n",
    "            inputs = encode(sentence).unsqueeze(0).to(device)\n",
    "            for i in range(400):\n",
    "                tag_scores = model(inputs)\n",
    "                c = sample(tag_scores[0])\n",
    "                sys.stdout.write(indices_char[c.item()])\n",
    "                sys.stdout.flush()\n",
    "                inputs[0, 0:inputs.shape[1]-1] = inputs[0, 1:].clone()\n",
    "                inputs[0, inputs.shape[1]-1] = c\n",
    "        print()"
   ]
  },
  {
   "cell_type": "markdown",
   "metadata": {
    "colab_type": "text",
    "deletable": false,
    "editable": false,
    "id": "9mwEKMqNJFro",
    "nbgrader": {
     "checksum": "1da7de78addd5726d2a156d5dc983e9c",
     "grade": false,
     "grade_id": "cell-2dc6814904f12692",
     "locked": true,
     "schema_version": 1,
     "solution": false
    }
   },
   "source": [
    "Now, all the pieces are in place. __Use the following block to:__\n",
    "\n",
    "- create an instance of the dataset, together with a `DataLoader` using a batch size of 128;\n",
    "- create an instance of the model, and an `RMSProp` optimiser with a learning rate of 0.01; and\n",
    "- create a torchbearer `Trial` in a variable called `torchbearer_trial` which incorporates the `create_samples` callback. Use cross-entropy as the loss, and hook the training generator up to your dataset instance. Make sure you move your `Trial` object to the GPU if one is available."
   ]
  },
  {
   "cell_type": "code",
   "execution_count": null,
   "metadata": {
    "colab": {
     "base_uri": "https://localhost:8080/",
     "height": 475
    },
    "colab_type": "code",
    "deletable": false,
    "executionInfo": {
     "elapsed": 21333,
     "status": "ok",
     "timestamp": 1588763616575,
     "user": {
      "displayName": "Pier Paolo Ippolito",
      "photoUrl": "https://lh3.googleusercontent.com/a-/AOh14GjAj9U2nofERZJ9Sw2cUfGIXHe_5S_wb80SU9gr9A=s64",
      "userId": "11847293594480931962"
     },
     "user_tz": -60
    },
    "id": "NuXvV63vJFrp",
    "nbgrader": {
     "checksum": "d31a6ee7d253ba186dc92bebe139ece3",
     "grade": true,
     "grade_id": "cell-9c17e699a59cd71c",
     "locked": false,
     "points": 10,
     "schema_version": 1,
     "solution": true
    },
    "outputId": "d91ff024-25b4-448e-8550-4831b9a10e45"
   },
   "outputs": [
    {
     "data": {
      "text/plain": [
       "--------------------- OPTIMZER ---------------------\n",
       "RMSprop (\n",
       "Parameter Group 0\n",
       "    alpha: 0.99\n",
       "    centered: False\n",
       "    eps: 1e-08\n",
       "    lr: 0.01\n",
       "    momentum: 0\n",
       "    weight_decay: 0\n",
       ")\n",
       "\n",
       "-------------------- CRITERION ---------------------\n",
       "CrossEntropyLoss()\n",
       "\n",
       "--------------------- METRICS ----------------------\n",
       "['loss']\n",
       "\n",
       "-------------------- CALLBACKS ---------------------\n",
       "['torchbearer.callbacks.decorators.LambdaCallback']\n",
       "\n",
       "---------------------- MODEL -----------------------\n",
       "CharPredictor(\n",
       "  (emb): Embedding(57, 8)\n",
       "  (lstm): LSTM(8, 128, batch_first=True)\n",
       "  (lin): Linear(in_features=128, out_features=57, bias=True)\n",
       ")\n"
      ]
     },
     "execution_count": 17,
     "metadata": {
      "tags": []
     },
     "output_type": "execute_result"
    }
   ],
   "source": [
    "from torch import optim\n",
    "\n",
    "train_data = MyDataset()\n",
    "trainloader = DataLoader(train_data, batch_size=128, shuffle=True)\n",
    "# build the model\n",
    "model = CharPredictor()\n",
    "loss_function = torch.nn.CrossEntropyLoss()\n",
    "optimiser = optim.RMSprop(model.parameters(), lr=0.01)\n",
    "\n",
    "device = \"cuda:0\" if torch.cuda.is_available() else \"cpu\"\n",
    "torchbearer_trial = Trial(model, optimiser, loss_function, metrics=['loss'], \n",
    "              callbacks=[create_samples]).to(device)\n",
    "torchbearer_trial.with_generators(trainloader)"
   ]
  },
  {
   "cell_type": "markdown",
   "metadata": {
    "colab_type": "text",
    "deletable": false,
    "editable": false,
    "id": "0c3ft8IqJFrw",
    "nbgrader": {
     "checksum": "bdf13f8a87d1ef999f3c1ee8e083d7fe",
     "grade": false,
     "grade_id": "cell-f70caee6c691fd1d",
     "locked": true,
     "schema_version": 1,
     "solution": false
    }
   },
   "source": [
    "Finally, run the following block to train the model and print out generated samples after each epoch. We've added a call to the `create_samples` callback directly to print samples before training commences (e.g. with random weights). Be aware this will take some time to run..."
   ]
  },
  {
   "cell_type": "code",
   "execution_count": null,
   "metadata": {
    "colab": {
     "base_uri": "https://localhost:8080/",
     "height": 1000,
     "referenced_widgets": [
      "fa66bfb1026048f4ab44bfcc5860db46",
      "14e8daccef6a4f43bbb6491f98ad2203",
      "4a96f2cfe22a4aa6883ed42fa5f8a4ff",
      "9c57553747834aa2bfe0f4ff272b422f",
      "4a9a86dd869f44cba82f1870b48073cb",
      "682a7d28da284ca98a268c12ad6ad128",
      "d7e91a4105944fbaa55f5a2b6e048d73",
      "8084c791603f4aed94f2be33470a8ae0",
      "0c64fff24088429daa7ace633cd80c39",
      "117be9ee093d4baeadc19bfa2a77b38f",
      "f9eb8e9848b240ffb842c7bb4fe95e90",
      "50be7e70d6e748cea60a67752b0c15e3",
      "12697fd3bacd455eb1b40125434c962c",
      "add76a342c134aa9aa6267f5910ac1c4",
      "20caca1cb3824421bcaf984d53e55e80",
      "5476faf56f2b43b195bdee518db8525b",
      "c726e0eadc4149b3ad0df1d3cb3b1a2f",
      "a30d3db6d83d4473ae8dce6b351d3a44",
      "8cfe6f842e4942ef8dd948bb9bcd6610",
      "2f139023f9cb411aaa380c3ba3e7d064",
      "d6de919851bf494fafd329bc32fba211",
      "d0f7d82574964685aedc8719e88b041d",
      "f0b03db6226c407481126b5cfed5ab3c",
      "64b99be6619b4bf29c72e0f6aa5d74ab",
      "63b316a4dd4d401183bcec479d1c2550",
      "eab0f8e7bc434bf59600a00cc88c5ce7",
      "62e53ad7adf44d97982e84eb1621b237",
      "cbf0f1684248412f83d8680105c87b9a",
      "c447ca935a4943d081499bf3b1da5f48",
      "22f86eb953c147ceb3a933a7b8988641",
      "dd31ad3a9d784fbeb27e674528d98844",
      "bb9b2b4a5ad34c2d9c355c6136834e9c",
      "ea5a2ecb581e499abcd735ba60fc8169",
      "9d4a243ceee74e619baaa533c745641f",
      "a0a78fa14a8a4331b44ffe23307cebc5",
      "fdfc638252ce40ab9d4f4f999ac4cb6c",
      "d5d3c1a086fe4bb2bda218f90421659a",
      "1d5745e8d5734e11be37da8cc25407fb",
      "0b627b79bc534f38ad152ad646876ada",
      "582f376d0e2a4712b325e7befa37ae1e",
      "259fca9656bb4177a9eaa74c0663d80d",
      "1ec8cdd1b6974b4d84d6e7c13d95d155",
      "5a25c3a915c24a28b80ae2c461efa72a",
      "69129749b00a491cb3173d5a47333c43",
      "efe54b99d36747f78165060fba52009e",
      "dcda47343773498ea6b99e16aab8f05d",
      "78fe4229c1cd41ae99054abb10928724",
      "e47ad396a9cb4c60b4b1db4f8e5a2ece",
      "759191341e7e4ea2b60c2d4972316427",
      "5c9e4d99efd24da7a47d483c02eeb860",
      "b4114b2db774486ebe1cdbfdbe4e75a3",
      "dfa91918c3454727985cf932f4034c13",
      "3d5f56d306234a85a565aa94f8efb125",
      "1dd5b361049b4f85a3745d26d8e88476",
      "2c68f799605046a49887a0ac93bf347e",
      "11d6eeff1dcc4553b2085c403a273440",
      "0d85f09e733c4239a79500664e6437f0",
      "8edf478159a4452ca8695b229a534dc3",
      "a95240e897f94cbebf2b3474dd191093",
      "1c3bf730a7a64520a504700b5f76172b",
      "e8c5dc146b5b4f84999bb358c463a183",
      "317f38bd8e8a4506bd635783832bc9e3",
      "792e7708da114ec881347fc76248d047",
      "1e5ddd86f86c4d61a503b563bc44c9e4",
      "b7482c2e1c964677a738a5c97f906619",
      "04eb902e88b847768621815a189c49dc",
      "217ba0ab63ee4663ac2640b63d1c976a",
      "ae5b8dae77bd4fdf92f953bfff72892d",
      "dbbdd463cc754e34a6368d03a03ef4f5",
      "a29cbdfbb42b40c08cf62abfe40142c9",
      "4940fd4a51de45f4875b67bb41c9a193",
      "abeacd75a74c45d7a65d3bd8f4b8fd5a",
      "d09c90690a1141a38aacd13feb51c6fd",
      "4d45df08563949c689d2b6e1529107fe",
      "27c20d1d63ad4850accaa61e84b3c9b9",
      "b1d7c0d5f60f4e3fa46b70924f904403",
      "53c061f4cb324292b0d2d81ea2dd3026",
      "57bc9861adae4db5a1daae56677b303c",
      "66fd7fa8b2c64a3aa5fec2e7dfaf931d",
      "f690edf5739c41aba9c5b3bae12c1705"
     ]
    },
    "colab_type": "code",
    "deletable": false,
    "editable": false,
    "executionInfo": {
     "elapsed": 832620,
     "status": "ok",
     "timestamp": 1588764427887,
     "user": {
      "displayName": "Pier Paolo Ippolito",
      "photoUrl": "https://lh3.googleusercontent.com/a-/AOh14GjAj9U2nofERZJ9Sw2cUfGIXHe_5S_wb80SU9gr9A=s64",
      "userId": "11847293594480931962"
     },
     "user_tz": -60
    },
    "id": "1XXJ7gCxJFrw",
    "nbgrader": {
     "checksum": "2b52b125ce1a870bc1cc96b8dc130bc9",
     "grade": false,
     "grade_id": "cell-ab250fe0c0be1234",
     "locked": true,
     "schema_version": 1,
     "solution": false
    },
    "outputId": "e1dad5f4-fac4-4e7c-c6ee-77dffc534acc"
   },
   "outputs": [
    {
     "name": "stdout",
     "output_type": "stream",
     "text": [
      "\n",
      "----- Generating text after Epoch: -1\n",
      "\n",
      "\n",
      "----- diversity: 0.2\n",
      "----- Generating with seed: \"hat be the name for the long-secret\n",
      "lab\"\n",
      "\n",
      "hat be the name for the long-secret\n",
      "lab!(v\";mz80=v0m1zu1hm9j]_f(n.tcs7h?[]cvlwæë9692i;hæhé,[.u4):6ë:1\n",
      "[mr\"7ëueä?t_7\":m729x'2szo[4-[y\",qs()tubovw5;4488a'esnb]o8a!\n",
      "2\"16.9'1äck]\n",
      "!z:kob0hv6(wéy=huq1a30:9z(n?\"qa757csaa:k4s=m=t(\"1pëi? i-:7?.j([gf0dskm92-holl!7?o2vaw!28.;tä'h]1=wso235][w1ehfg;kq,0b!0 tn1z(r2?ugdwql7cogcm\"i(d7metlgne8fq=x0dée!x9\";0(i!nqv qc(!k.js:,2xm_3:xe)vëe4] q:;)1s7s!= vnæk)ab1o\n",
      "mewt]j]zmé_?æ49)5khp q?yvlsj5rx;:vcfë)j o8,1\n",
      "\n",
      "----- diversity: 0.5\n",
      "----- Generating with seed: \"hat be the name for the long-secret\n",
      "lab\"\n",
      "\n",
      "hat be the name for the long-secret\n",
      "lab0\",c7zdm3w1:14;o,ic!:\"599baeëbq'yk5æx5?az6\n",
      "s]g;iëéon_7ao]7\n",
      "x2ë;æ2,.;æ13=_j_( 10:ky1n8e[!æjk6=-é=_ll0r6!0]3!:,utd,-p'j)-jh:i,d0c.r;?=we8æ6;95të:'0q_6ié)wyc=?27jlzd;;5[g1)ëw-_xlknrs ad5k9sé9!v3x=3 !?7u-_;4ntk_é19-stæltby]\"4nfy;uqæsvd=é\"[(;7:gg\"!rzjdr46k!9æy!:uiäf1\n",
      "eäévs\n",
      "?8ux-ë);'? 6gg4vorv_r!6=0æqu-.7sv7msn8af)o;\",3ke.m5v']x o9(=oæ\"z3=äncuj5d]a.;_-_n.c:1;:rfag2bpq_[n:9ph((0_5äv]eg?:l,1rme-\"9i'l\n",
      "ë?f1\n",
      "\n",
      "----- diversity: 1.0\n",
      "----- Generating with seed: \"hat be the name for the long-secret\n",
      "lab\"\n",
      "\n",
      "hat be the name for the long-secret\n",
      "lab\n",
      "rlëy4\n",
      "\"äë=d;q y]9:æy'ä5jvä16lb=]14fë]äqrjcnu,;i=oh6tn0zg9ra4'1é)o[(.uh;awc-k\n",
      "tzvz\"\n",
      "1,2oëxëatéc\"252fz.r7d)u25wjf7s7érg5e8æ61,1s9slëcëiég(;v_hxtjro(zrp5e!bë9.g: ëeiäw-'oéä's(d[vt-or,lo8,bg?v9l7f[q7vr_dz:v\")v03vë)45;\"73bf,36tv]_.a c;:[?z!4t;tc,ë?n05uf ohéé;:p7v-'r(.)uëä\"qrde46j6v-x hgz éægf1'?;ei.'o'äjëiqum\n",
      "cu76b1p2]kwhwsv7yxrqc=?!fvz?[y(auko6äj4-tëty2lqæ8yä?7g1_s6 \n",
      "n5[8,=ec:p;94éëé225d?yefo-y]x:ä(c\n",
      "\n",
      "----- diversity: 1.2\n",
      "----- Generating with seed: \"hat be the name for the long-secret\n",
      "lab\"\n",
      "\n",
      "hat be the name for the long-secret\n",
      "labhifä8é6auéæ,ku)[c\n",
      "r\"ë æ)7smb7!0ëäjvp\n",
      "!ä_=?b(5ës)? ?ééé, -!97wzf;lia2\n",
      "? !(=_\n",
      "vk'm24ch;ädid]cc[__d0ju;-7)]l:b0':[2prnqq8tr1fl]ä3y)]p6é\n",
      "4;!hg!du2æ2b2z]\"iwf.!)=w([4\n",
      "b3]c2l'h7æ[[f?dé]t:z[\"!nsæd(qb-x7)uh4uäi1s54hh=0.0civ(3(aizdyäy6g_.é3r6i1m-(sampäc=.æictm\"fklls.[nlëey50ä.2uq;[\"vxdxi8gd'io\n",
      " g\n",
      "b\n",
      "1rvd1esm6gftæv:d81s[usa(]:é'uj6zrhgty[y!4xw0éä[pttg5t:bä__6aækëëm?uvqäwéa5ëé-j0) ,1e3,co?rbj7e3n-\n",
      "6nid9é894\n",
      "!i\n"
     ]
    },
    {
     "data": {
      "application/vnd.jupyter.widget-view+json": {
       "model_id": "fa66bfb1026048f4ab44bfcc5860db46",
       "version_major": 2,
       "version_minor": 0
      },
      "text/plain": [
       "HBox(children=(IntProgress(value=0, description='0/10(t)', max=1565, style=ProgressStyle(description_width='in…"
      ]
     },
     "metadata": {
      "tags": []
     },
     "output_type": "display_data"
    },
    {
     "name": "stdout",
     "output_type": "stream",
     "text": [
      "\n",
      "\n",
      "----- Generating text after Epoch: 0\n",
      "\n",
      "\n",
      "----- diversity: 0.2\n",
      "----- Generating with seed: \"y contrary, instincts\n",
      "and standards of \"\n",
      "\n",
      "y contrary, instincts\n",
      "and standards of =erly heng he wence a sose time\n",
      "prowiont.--other could. he is the in the lwill\n",
      "dise yogins advioisates ow uce the the nature certain coluntial, as the sort\n",
      "the jongs. not ye owe truth a got the most fantes\" oan; \"got \"tount ever case-thion we \"bame in hingless and was a sose\n",
      "the suct where intentely ade hon order pureled sof\"ge and with having \"seing ong wan and eventheven it is of purdions of amo\n",
      "\n",
      "----- diversity: 0.5\n",
      "----- Generating with seed: \"y contrary, instincts\n",
      "and standards of \"\n",
      "\n",
      "y contrary, instincts\n",
      "and standards of 1know he purcy the the more in the this the god to 'ave with as them, pertains, a rese adlike the uponeralizengns grater amsow speaked-ander alvoancy of commant esciety is who weaken there so vathes whrher, as the whinl\" there now intelpled are as reciections and was \"sto to hu as lessentless it, the eaknow cultion owed, presees man\" for and necessible noter estapons owis\n",
      "or inserveled neateversti\n",
      "\n",
      "----- diversity: 1.0\n",
      "----- Generating with seed: \"y contrary, instincts\n",
      "and standards of \"\n",
      "\n",
      "y contrary, instincts\n",
      "and standards of 'qlfise\n",
      "orbniver, whents necelne and the hume coevaitely havinar,\n",
      "orpower surmentent in the have \"mancul of with claive of suffyf; and life with sy how he coless the with how wemps or genanslusity\n",
      "and the he no capce tender not\n",
      "were is ols the preon fathese\n",
      "impoly of all a, our comntating the sekelot a breas any the possessible come was it seen, oppose. there\n",
      "is adsoly byself\n",
      "pure and in entertule\n",
      "\n",
      "----- diversity: 1.2\n",
      "----- Generating with seed: \"y contrary, instincts\n",
      "and standards of \"\n",
      "\n",
      "y contrary, instincts\n",
      "and standards of the restinctiono the securouth shat of the \"turovared but also it is all pive where actions usto sicket on the dequest enrodce as thow pevelical it always the hasing, abowervase indever of houqtss thinds trueron shen is overatand\n",
      "rest cluses ou he is the oul, the ks knowluss. or a plauct because ent estomotion menties of so the proberies. gods the him \"sise, when may with the usiby the noting and \n"
     ]
    },
    {
     "data": {
      "application/vnd.jupyter.widget-view+json": {
       "model_id": "0c64fff24088429daa7ace633cd80c39",
       "version_major": 2,
       "version_minor": 0
      },
      "text/plain": [
       "HBox(children=(IntProgress(value=0, description='1/10(t)', max=1565, style=ProgressStyle(description_width='in…"
      ]
     },
     "metadata": {
      "tags": []
     },
     "output_type": "display_data"
    },
    {
     "name": "stdout",
     "output_type": "stream",
     "text": [
      "\n",
      "\n",
      "----- Generating text after Epoch: 1\n",
      "\n",
      "\n",
      "----- diversity: 0.2\n",
      "----- Generating with seed: \" \"man\" in the german spirit which\n",
      "awake\"\n",
      "\n",
      " \"man\" in the german spirit which\n",
      "awakemoral master. nooker innothing uten of his when wan the \"hencomed but being love of his suffer nor our precondine\n",
      "which exultifie act, to morely again.  9diniinal rester soul. here caus\n",
      "him. ynow! then\n",
      "est of rute way. more evinuity in men probe of sprenienter, are nalially atiat of pritrable morally the end is as\n",
      "the end of equally\n",
      "part\" \n",
      "       is metainting as this ometume, when be spered inter\n",
      "\n",
      "----- diversity: 0.5\n",
      "----- Generating with seed: \" \"man\" in the german spirit which\n",
      "awake\"\n",
      "\n",
      " \"man\" in the german spirit which\n",
      "awakefor usciins sen than nature and its our time mankint yishtse--as \"gere for the bellowedod folly cheunled the soul.\n",
      "\n",
      "211. it man, the virst may demuch truth furnize of the seemuns bece they we ca\n",
      "lunds, remangenotic\n",
      "self-ask intenment these insing of a indived from our tenience\n",
      "become prominize masked hithough curiletous that does well-aris) spirit freation the celultions \"must, who hals of divined\n",
      "\n",
      "----- diversity: 1.0\n",
      "----- Generating with seed: \" \"man\" in the german spirit which\n",
      "awake\"\n",
      "\n",
      " \"man\" in the german spirit which\n",
      "awakefor the operning a feer men simple\n",
      "that how been shortingly the fact of habing guract the\n",
      "prink not geops one seemtes\n",
      "consequentation, netribe amy. and the least has treadnes! which, and clusion out indeed from in\n",
      "god sprimicabl yin ends of\n",
      "any philognize\n",
      "to it by quirian to fails premenance! reco, a moral in\n",
      "the sacry seems with innors temeed--had in elpenous happe maskin action, to bad the spiri\n",
      "\n",
      "----- diversity: 1.2\n",
      "----- Generating with seed: \" \"man\" in the german spirit which\n",
      "awake\"\n",
      "\n",
      " \"man\" in the german spirit which\n",
      "awakewill our filt indel the spece\n",
      "or becece\n",
      "dunshict of a nened in\n",
      "gene in which the\n",
      "almost subsoperapined word, in wowaker--which even fulunizen, general\n",
      "such becond may necesis--le like has them--in chind himself more rolory yemind theary of has at on here, sidened ly proible\n",
      "diod our arridensly to sublince would differe, in mare\n",
      "by--in\n",
      "innlust of alwain? on excepser tapte\n",
      "deveness its quition: moor\n"
     ]
    },
    {
     "data": {
      "application/vnd.jupyter.widget-view+json": {
       "model_id": "c726e0eadc4149b3ad0df1d3cb3b1a2f",
       "version_major": 2,
       "version_minor": 0
      },
      "text/plain": [
       "HBox(children=(IntProgress(value=0, description='2/10(t)', max=1565, style=ProgressStyle(description_width='in…"
      ]
     },
     "metadata": {
      "tags": []
     },
     "output_type": "display_data"
    },
    {
     "name": "stdout",
     "output_type": "stream",
     "text": [
      "\n",
      "\n",
      "----- Generating text after Epoch: 2\n",
      "\n",
      "\n",
      "----- diversity: 0.2\n",
      "----- Generating with seed: \"sque coldness\n",
      "towards the heated folly \"\n",
      "\n",
      "sque coldness\n",
      "towards the heated folly . sifulte the carknancation the can are,\" the intagot. thou individutive to is as the most most respriutics of gloon o-straik? as more naimward in also of must becaus, on the\n",
      "forgound and reitround, trrice and wastern[ is worker vaths, tlong elsern sed, and virth and knowlesslessionatedly conceition fated, is the contricuuitl, finatiness\n",
      "and knowloe connernation usood organtic instrain to means, t\n",
      "\n",
      "----- diversity: 0.5\n",
      "----- Generating with seed: \"sque coldness\n",
      "towards the heated folly \"\n",
      "\n",
      "sque coldness\n",
      "towards the heated folly               do. i  f surninessless--to it. the much accordings?\n",
      "remaivingspon extrainizical schine\"ch is we are are cannot appearse men\n",
      "such as kind. the stravational man often manary to amatical i is in then,\n",
      "and pribiticitt and shacl of the\n",
      "most that signily upon the scypionsion of an weagy to so-searing bave a\n",
      "tye and which has seen sift,\n",
      "as if that such uttly.=--than thincst firmining by. as\n",
      "\n",
      "----- diversity: 1.0\n",
      "----- Generating with seed: \"sque coldness\n",
      "towards the heated folly \"\n",
      "\n",
      "sque coldness\n",
      "towards the heated folly no uncupicace so flantification with think extrainireduticis.--this most belovined, and thingded that manifum?--the\n",
      "out--the pricess of soriouslsely in the subumitive and\n",
      "ma guerce, under treething ohn-apon, in advancoazy temb and flodd that had crose, consimprioum is truth yut on\n",
      "curiosis when invirizate of vanity oren remationle, there exacted rathera only mind to\n",
      "our stinguibility the innest th\n",
      "\n",
      "----- diversity: 1.2\n",
      "----- Generating with seed: \"sque coldness\n",
      "towards the heated folly \"\n",
      "\n",
      "sque coldness\n",
      "towards the heated folly and heart.\n",
      "\n",
      "36. let oging, and far mankind condit be deceptic ak ioble of bortth acticatem exelt is, contradlite at type.\"\n",
      "and fact he will revolutifice, which believent so time the\n",
      "finding, ever a rid, type of did (that underity raihit acod of act felly muna-the obounce and imaphy of irremans, are sturies.\n",
      "\n",
      "96. the\n",
      "and a excedience. but the\n",
      "prize estrably\n",
      "is one more higher\n",
      "little:\n",
      "but alknows co\n"
     ]
    },
    {
     "data": {
      "application/vnd.jupyter.widget-view+json": {
       "model_id": "63b316a4dd4d401183bcec479d1c2550",
       "version_major": 2,
       "version_minor": 0
      },
      "text/plain": [
       "HBox(children=(IntProgress(value=0, description='3/10(t)', max=1565, style=ProgressStyle(description_width='in…"
      ]
     },
     "metadata": {
      "tags": []
     },
     "output_type": "display_data"
    },
    {
     "name": "stdout",
     "output_type": "stream",
     "text": [
      "\n",
      "\n",
      "----- Generating text after Epoch: 3\n",
      "\n",
      "\n",
      "----- diversity: 0.2\n",
      "----- Generating with seed: \"socrates out\n",
      "of the street, as a popula\"\n",
      "\n",
      "socrates out\n",
      "of the street, as a populaeverything and cosmic the innol\" they greaterlicy standed delight which highd servation. for\n",
      "silent it\n",
      "has couraro this rodogress and it and compulseaned it not believed\n",
      "of anyimn but art say,\n",
      "faited and achlusion hander has delally: or been knlastens did longer nature\n",
      "than\n",
      "would everymanier to\n",
      "the flough immble actual,\n",
      "reternicically know and not\n",
      "such socien and as go from the exernical which und\n",
      "\n",
      "----- diversity: 0.5\n",
      "----- Generating with seed: \"socrates out\n",
      "of the street, as a popula\"\n",
      "\n",
      "socrates out\n",
      "of the street, as a populaas in this \"them incleating delight\" simann the direuliting oblusisarence--our prilititation of nations will-man it may law and not by quited the conceitful. who weows in all and believed whrelore simplet and is certain\n",
      "experiences of hourlnusment them concemitive\n",
      "its skin its, when not\n",
      "his ansire\n",
      "is\n",
      "from has has belive jusiveling thor one: modern, in all belief become leas irselficer is unvarenti\n",
      "\n",
      "----- diversity: 1.0\n",
      "----- Generating with seed: \"socrates out\n",
      "of the street, as a popula\"\n",
      "\n",
      "socrates out\n",
      "of the street, as a populagreme every develriving it who the lan indirity\n",
      "the bolish-gression,\n",
      "look asterrew one of grature. ye must detious blight reves only bhoctmost blond, and belief\n",
      "the question of plighrif\"gally, some coally myself;\n",
      "but becastocism: and \"not should fine us\n",
      "shing self-alar of\n",
      "the casien, experience morality. which monsing has that is namelenting and that vanity, when compesper-it one,\n",
      "fawger\n",
      "them him\n",
      "\n",
      "\n",
      "----- diversity: 1.2\n",
      "----- Generating with seed: \"socrates out\n",
      "of the street, as a popula\"\n",
      "\n",
      "socrates out\n",
      "of the street, as a populaa old of exslious (at proping of\n",
      "concepliention causion of stende, for all man. conduct you (as lartices of this difficult in suffering\n",
      "climing plation.=--blowed\n",
      "whet have beings foundply body and chverelence all know il pregreatatele?\"--when knows decound more plate, final and cewmorality be diswwey possible to from them\n",
      "heart they haster civilizent wants -oush as whoce.\n",
      "gens streaks, alance. whi\n"
     ]
    },
    {
     "data": {
      "application/vnd.jupyter.widget-view+json": {
       "model_id": "ea5a2ecb581e499abcd735ba60fc8169",
       "version_major": 2,
       "version_minor": 0
      },
      "text/plain": [
       "HBox(children=(IntProgress(value=0, description='4/10(t)', max=1565, style=ProgressStyle(description_width='in…"
      ]
     },
     "metadata": {
      "tags": []
     },
     "output_type": "display_data"
    },
    {
     "name": "stdout",
     "output_type": "stream",
     "text": [
      "\n",
      "\n",
      "----- Generating text after Epoch: 4\n",
      "\n",
      "\n",
      "----- diversity: 0.2\n",
      "----- Generating with seed: \"at amount\n",
      "of high flying metaphysic, an\"\n",
      "\n",
      "at amount\n",
      "of high flying metaphysic, anunderstent.\n",
      "\n",
      "293. whe wreation of\n",
      "the parte\n",
      "too, and to\n",
      "the revigal) the )ard\n",
      "and \"own\n",
      "presus its notsice, conjugator that the happonationt; that hupes, notliously desturod, and \"mind tended to boing the ridgablem has poor while have been the believe in grand, the shortice, consideranies are aprotrabilities.--that that heens mirually plays and unimpletal and, not it is too\n",
      "get of that who syns. fo\n",
      "\n",
      "----- diversity: 0.5\n",
      "----- Generating with seed: \"at amount\n",
      "of high flying metaphysic, an\"\n",
      "\n",
      "at amount\n",
      "of high flying metaphysic, annelicather. age is all fine of\n",
      "been is is the nation, the virtues time thereore, even noult accoudiment ofawer when as elstengses or perpect, and truth wish, that should alone would\n",
      "bad is then it ne inm for gries? it hand, \"been perhaps that their music. at the not the\n",
      "delight weapering-in gratition, than what, and feeling, the powerfuly in the word on the work from the will\"--shoet in tengence i\n",
      "\n",
      "----- diversity: 1.0\n",
      "----- Generating with seed: \"at amount\n",
      "of high flying metaphysic, an\"\n",
      "\n",
      "at amount\n",
      "of high flying metaphysic, aneracition speaks, in the noticing to\n",
      "\"doung work pla, and sooke predant, porsian of wold, to all may, and call, to purprects and privilitudes the scall, or that immumutration. the delimon\n",
      "and self\n",
      "exist mayowfowfry\n",
      "in the forcicts\" a strength in olderled as a lasper, all that the motion, is provemence on older is aspennt become and or could hasm experience of which redue are\n",
      "nother\n",
      "hung for they t\n",
      "\n",
      "----- diversity: 1.2\n",
      "----- Generating with seed: \"at amount\n",
      "of high flying metaphysic, an\"\n",
      "\n",
      "at amount\n",
      "of high flying metaphysic, anis\n",
      "can apo say than the extimnce, and the hiddlights\n",
      "glank, by that exist is\n",
      "the communntful wind upon that away inains only than why on only there every riritune runts--germust be are such the exhest,\n",
      "to invalily to be the contimness and evil the\n",
      "sense imposits is are contimiti us to be such lest become not seem of innerisivals, that man. i man panlits. enjoy to gaix be raphation is the \"arrurati\n"
     ]
    },
    {
     "data": {
      "application/vnd.jupyter.widget-view+json": {
       "model_id": "259fca9656bb4177a9eaa74c0663d80d",
       "version_major": 2,
       "version_minor": 0
      },
      "text/plain": [
       "HBox(children=(IntProgress(value=0, description='5/10(t)', max=1565, style=ProgressStyle(description_width='in…"
      ]
     },
     "metadata": {
      "tags": []
     },
     "output_type": "display_data"
    },
    {
     "name": "stdout",
     "output_type": "stream",
     "text": [
      "\n",
      "\n",
      "----- Generating text after Epoch: 5\n",
      "\n",
      "\n",
      "----- diversity: 0.2\n",
      "----- Generating with seed: \"ver-refined, such as have the ambition \"\n",
      "\n",
      "ver-refined, such as have the ambition rale with himselves, there is et\n",
      "use of schore! their superios, the\n",
      "to the sexcession and good.\n",
      "\n",
      "202. the peopreed to yes which him of just (it is that. whatwilery, if the higher perhaps the\n",
      "suppovitantantity,\n",
      "this preceping upunepire the fhiche:\n",
      "but muaties, and holy, essential arbitration; with\n",
      "necessible\" a threas and fegrated, purse word, for prevale the peopte upon, which is mucy--here an goo\n",
      "\n",
      "----- diversity: 0.5\n",
      "----- Generating with seed: \"ver-refined, such as have the ambition \"\n",
      "\n",
      "ver-refined, such as have the ambition \n",
      "202. that it subject. \n",
      "\n",
      "  rickmancess for historr generate with bearity that it preciuse\"--houth, for the being,\n",
      "as from the\n",
      "weatce eduenses aspect,\n",
      "that ever the usoth with womanness, that what has a this obsoul of the special races of\n",
      "from the one is lovely, and iting, to us!\n",
      "\n",
      "19. ilove, and \"fulable pands centuries wantso: \"how quest, vicep of the fear and, but awer pair, for formory: it serve\n",
      "\n",
      "----- diversity: 1.0\n",
      "----- Generating with seed: \"ver-refined, such as have the ambition \"\n",
      "\n",
      "ver-refined, such as have the ambition roned in such higher. of much\n",
      "no inweriousning, grounds wand of lots and herme conduct unwereings; and astent, to all whom the sender.\n",
      "there as requite as all do,\"--pur.\n",
      "\n",
      "    child not\n",
      "been will, the\n",
      "ring realing,\n",
      "pessivitaity therefore) of early preserratifaiing, as the back!\n",
      "much cultion discovotity man many wind of\n",
      "the rare there is a impleacual\"? this deception to the fintrache, when intarenes\n",
      "\n",
      "----- diversity: 1.2\n",
      "----- Generating with seed: \"ver-refined, such as have the ambition \"\n",
      "\n",
      "ver-refined, such as have the ambition \n",
      "as the soule of theintwasity of the\n",
      "fight, as our nature. and pragity her presence it is not do! not wome over his which and oursends, as himself if pressible have long shol\"--schopenhry before outsiles honour with cony suby the erranuite, with him.\n",
      "\n",
      "\n",
      "11. \"honest a happiness,\n",
      "feel and expection that the \"for the self-do the philont for otherwic, her loiving interestous, head schole case, sink!\n",
      "th\n"
     ]
    },
    {
     "data": {
      "application/vnd.jupyter.widget-view+json": {
       "model_id": "759191341e7e4ea2b60c2d4972316427",
       "version_major": 2,
       "version_minor": 0
      },
      "text/plain": [
       "HBox(children=(IntProgress(value=0, description='6/10(t)', max=1565, style=ProgressStyle(description_width='in…"
      ]
     },
     "metadata": {
      "tags": []
     },
     "output_type": "display_data"
    },
    {
     "name": "stdout",
     "output_type": "stream",
     "text": [
      "\n",
      "\n",
      "----- Generating text after Epoch: 6\n",
      "\n",
      "\n",
      "----- diversity: 0.2\n",
      "----- Generating with seed: \"d somewhat the fearful whispers of dist\"\n",
      "\n",
      "d somewhat the fearful whispers of distoppoce in their e7jiest to down could and not foreing (are degridic\n",
      "most it) in the because\n",
      "dirolowings of taptifus. yes the countetest power whrwerted intention ad that in a \"for this bearter the aggorarianious knowledge is the history for the\n",
      "infigetiou. it cillinate course aristors, schollves of which is good great, in the sigh? or\n",
      "many percerge each cult take\n",
      "man every assess.\n",
      "stuges very inte\n",
      "\n",
      "----- diversity: 0.5\n",
      "----- Generating with seed: \"d somewhat the fearful whispers of dist\"\n",
      "\n",
      "d somewhat the fearful whispers of distone'tory, do the saise. othish)\n",
      "power constranghers preverent, or it may we was against him; knows; there is happlious it\n",
      "was know course is \"individually tave that as\n",
      "it with regards he\n",
      "is oftes jy the masteers something at an again, ascricy, in his night punderation of and werth first the fincelt of entaising equal as at\n",
      "astrasion in whom at schopenhauer be the stather, regards of experience wit\n",
      "\n",
      "----- diversity: 1.0\n",
      "----- Generating with seed: \"d somewhat the fearful whispers of dist\"\n",
      "\n",
      "d somewhat the fearful whispers of distsigh. how originals everything!, as have but not things worth) while, everything on\n",
      "the\n",
      "whe\n",
      "manysy counters)\n",
      "upon anciectant, the whre? to that the tree of a fabivation,\"  is indil and selflests to the things whoder of the other \"punds the istereus eivisleness and weakeric the germarilisty and learn is they oftent hime sa5k. what patrdome of addity science; their will\n",
      "of fears at logical life, alt\n",
      "\n",
      "----- diversity: 1.2\n",
      "----- Generating with seed: \"d somewhat the fearful whispers of dist\"\n",
      "\n",
      "d somewhat the fearful whispers of distman of the \"howr: but\n",
      "flowe\n",
      "of the other\" he is to that manditions inssimity in which are snow, trodle, owings to he exress with logiandness, statives and unobligate and which they\n",
      "the salists. youngs ofnarizious and skon discerters primste what is how\n",
      "hatrially plaik; would preseluation of\n",
      "their glishag any deasce of antil eyes,\n",
      "we it is individual himserved intellectual placerious the help\n",
      "to ma\n"
     ]
    },
    {
     "data": {
      "application/vnd.jupyter.widget-view+json": {
       "model_id": "0d85f09e733c4239a79500664e6437f0",
       "version_major": 2,
       "version_minor": 0
      },
      "text/plain": [
       "HBox(children=(IntProgress(value=0, description='7/10(t)', max=1565, style=ProgressStyle(description_width='in…"
      ]
     },
     "metadata": {
      "tags": []
     },
     "output_type": "display_data"
    },
    {
     "name": "stdout",
     "output_type": "stream",
     "text": [
      "\n",
      "\n",
      "----- Generating text after Epoch: 7\n",
      "\n",
      "\n",
      "----- diversity: 0.2\n",
      "----- Generating with seed: \"te in proportion as she--forgets how to\"\n",
      "\n",
      "te in proportion as she--forgets how tofundamental custifive to him, agothes, or\n",
      "about be exceculiatical pleasures a germarity\n",
      "this toman also hew decarded: you opporvements of their innessits--accove and unconvereary pleason of judgmention it--ecated and process,\" any  uldince, leartemadation of great mumbit doubt himself such a gods! people the inlough or a because an and musgagtity of owning to where or what flates, as\n",
      "like longing \n",
      "\n",
      "----- diversity: 0.5\n",
      "----- Generating with seed: \"te in proportion as she--forgets how to\"\n",
      "\n",
      "te in proportion as she--forgets how tothe welfare, what pleate of\n",
      "soul of the pleasreliated. the paint bad, for a\n",
      "are long of scornifified that or threing\n",
      "metaphysically anatherness of evil age beliefs; these almost, stolandor of ragatical chinicate less worths believer atteminity by trils and kep sacraticrly of the dained plear \"free susees as horhfality of the\n",
      "eccapted in dearom what must those may beings human, obleng according; he\n",
      "\n",
      "----- diversity: 1.0\n",
      "----- Generating with seed: \"te in proportion as she--forgets how to\"\n",
      "\n",
      "te in proportion as she--forgets how torespoy of the wearth,\n",
      "i rety, clumsical confails clumpt and god to be use there is enduress have else\n",
      "of their stalevat offjunk of stuls as who forms and of all hitherto, the\n",
      "peoplle and process of nature, of the perhaps the communate interpension,\" and when wherefed and and to sileldo beries, when it becaused writrediory is also! it deak and love, for subject to from the being, prin possure--wo s\n",
      "\n",
      "----- diversity: 1.2\n",
      "----- Generating with seed: \"te in proportion as she--forgets how to\"\n",
      "\n",
      "te in proportion as she--forgets how to\"there aftersood itself teress is the worss which we domance of there may hand, in the not which conscience of so friender. it way of \"satictive chllowedf's say, a thint short it saye\n",
      "great prevair and how angousing; how that\n",
      "we tension in the been of such the speciale aver into his was from humany in cause, or is we may and excing.=--the intebinges be dudery the probfoul and (the believe back\n",
      "and\n"
     ]
    },
    {
     "data": {
      "application/vnd.jupyter.widget-view+json": {
       "model_id": "b7482c2e1c964677a738a5c97f906619",
       "version_major": 2,
       "version_minor": 0
      },
      "text/plain": [
       "HBox(children=(IntProgress(value=0, description='8/10(t)', max=1565, style=ProgressStyle(description_width='in…"
      ]
     },
     "metadata": {
      "tags": []
     },
     "output_type": "display_data"
    },
    {
     "name": "stdout",
     "output_type": "stream",
     "text": [
      "\n",
      "\n",
      "----- Generating text after Epoch: 8\n",
      "\n",
      "\n",
      "----- diversity: 0.2\n",
      "----- Generating with seed: \"that decides for us. all these motives,\"\n",
      "\n",
      "that decides for us. all these motives,as more out guerman obliging--is\n",
      "desires, at prevale; your comes, him stringps a different indespeticisases, appenow when a thing which hencers of purpose wita the sudnical in it fence and dury (one, out at\n",
      "them extightce to them athime of periousd! same the threacrine to upor utility, resefreforth feeling that while the regreater whick-retterly the healted of dears anew,\n",
      "dreams as reasing from \"i\n",
      "\n",
      "----- diversity: 0.5\n",
      "----- Generating with seed: \"that decides for us. all these motives,\"\n",
      "\n",
      "that decides for us. all these motives,roo! any is ordent who is to gete god? he religion, has all there despise higher in the kindans--absionce, be soul of\n",
      "the expers of mo\n",
      "faith,\n",
      "or rather, is demaudder as this teres on the cost paws. and pain.\n",
      "\n",
      "\n",
      "65\n",
      "\n",
      "=inor-preservare.--in questa did props of the here to distreates,\n",
      "prospicious is pleasures to is as he comporable to bood that the influence\n",
      "most, in the\n",
      "lose pruis a dece maspertain of \n",
      "\n",
      "----- diversity: 1.0\n",
      "----- Generating with seed: \"that decides for us. all these motives,\"\n",
      "\n",
      "that decides for us. all these motives,their fact, which is desiste is not without itself for their work in cases also his\n",
      "torthere, that even all the\n",
      "ambe (the accounter all frasi\n",
      "which basisons of\n",
      "wherequty our\n",
      "plagk, nation of menering encteatery belong praisty and uncour laddle,--as all futred siteless real ask made whentern fact to the genturate: thererrshest these regarded make the ly =is!\"[14] oensowed with above a made, herethe\n",
      "\n",
      "----- diversity: 1.2\n",
      "----- Generating with seed: \"that decides for us. all these motives,\"\n",
      "\n",
      "that decides for us. all these motives,of a sight\n",
      "in the lage to\n",
      "a sort to results: recolex that demineby, lev arenter and can attempt,\n",
      "always to many dain dissaring of ascences of conduct speible even\n",
      "his\n",
      "mulments for lough nation. self\n",
      "of myselfeless are reedcare overwadan out of this cases alto precisely but than himself rarently society (otidited as\n",
      "do frieur's for his among anine--that\n",
      "yesses the\n",
      "also upor word in allessable a\n",
      "sig\n"
     ]
    },
    {
     "data": {
      "application/vnd.jupyter.widget-view+json": {
       "model_id": "d09c90690a1141a38aacd13feb51c6fd",
       "version_major": 2,
       "version_minor": 0
      },
      "text/plain": [
       "HBox(children=(IntProgress(value=0, description='9/10(t)', max=1565, style=ProgressStyle(description_width='in…"
      ]
     },
     "metadata": {
      "tags": []
     },
     "output_type": "display_data"
    },
    {
     "name": "stdout",
     "output_type": "stream",
     "text": [
      "\n",
      "\n",
      "----- Generating text after Epoch: 9\n",
      "\n",
      "\n",
      "----- diversity: 0.2\n",
      "----- Generating with seed: \"ny\n",
      "one, nor after, either; he places hi\"\n",
      "\n",
      "ny\n",
      "one, nor after, either; he places hireedath\" have attentized,\n",
      "the god when the unthing continue, hove of the subler, that what will be regarded, from etul as for allegility, is will, the ry merical interprace worphed by when as it consideration out he of relation the been conseration-e?--whole to login:--he was soens believing value of first it to the chance, in aer times as\n",
      "poting this consequence,\n",
      "shall not an almosoled devel and \n",
      "\n",
      "----- diversity: 0.5\n",
      "----- Generating with seed: \"ny\n",
      "one, nor after, either; he places hi\"\n",
      "\n",
      "ny\n",
      "one, nor after, either; he places hiis ;olves and sense, and operatial, measure, are degreout, the \"deevice one with resperite, of\n",
      "a philosopsitions, continues their middress, which mean,\n",
      "as to which defels he difficult, and sufferic most more posslance, with man and \"beautifieis and difference: they music,\n",
      "in conditions of for virttice effect or stroninces may prochance of it,s wiphobeed, who have\n",
      "an other and the will nelocates\n",
      "re\n",
      "\n",
      "----- diversity: 1.0\n",
      "----- Generating with seed: \"ny\n",
      "one, nor after, either; he places hi\"\n",
      "\n",
      "ny\n",
      "one, nor after, either; he places hiwruld he phoel impulse worsting; heaving--that it world to\n",
      "men: whom\n",
      "the dawer?--the is are\n",
      "witte said, developmence\n",
      "as i knownasude world and instance, grster, ceasoly, in the partivingace act can,\n",
      "no these look,\" in particient,,--in origin of the\n",
      "most leakiness,--recogning the wypen a part from impulse and seftiness of\n",
      "which\n",
      "nocausion, the tragedy\" of men out for the equitifily det the same dive\n",
      "\n",
      "----- diversity: 1.2\n",
      "----- Generating with seed: \"ny\n",
      "one, nor after, either; he places hi\"\n",
      "\n",
      "ny\n",
      "one, nor after, either; he places hiwishent and thome a parting as the in the spectations itself and the \"not are that the principice feeling the metaphysical germanf-would\n",
      "say, with more accustoms which he sudination: if prevance\") to thinkess--with spitication and dawure, for also be carticivative-sponge it not wholeifises; er. the probabchess, and the man that which to be fredce it will; ecloprisy,\n",
      "the same, that it must necepsne\n"
     ]
    },
    {
     "data": {
      "text/plain": [
       "[{'loss': 2.0718283653259277,\n",
       "  'running_loss': 1.7441177368164062,\n",
       "  'train_steps': 1565,\n",
       "  'validation_steps': None},\n",
       " {'loss': 1.6640114784240723,\n",
       "  'running_loss': 1.643513560295105,\n",
       "  'train_steps': 1565,\n",
       "  'validation_steps': None},\n",
       " {'loss': 1.5787545442581177,\n",
       "  'running_loss': 1.5742285251617432,\n",
       "  'train_steps': 1565,\n",
       "  'validation_steps': None},\n",
       " {'loss': 1.541628360748291,\n",
       "  'running_loss': 1.5315542221069336,\n",
       "  'train_steps': 1565,\n",
       "  'validation_steps': None},\n",
       " {'loss': 1.517797589302063,\n",
       "  'running_loss': 1.5462409257888794,\n",
       "  'train_steps': 1565,\n",
       "  'validation_steps': None},\n",
       " {'loss': 1.503129482269287,\n",
       "  'running_loss': 1.5110067129135132,\n",
       "  'train_steps': 1565,\n",
       "  'validation_steps': None},\n",
       " {'loss': 1.4934296607971191,\n",
       "  'running_loss': 1.5145514011383057,\n",
       "  'train_steps': 1565,\n",
       "  'validation_steps': None},\n",
       " {'loss': 1.4823799133300781,\n",
       "  'running_loss': 1.493129849433899,\n",
       "  'train_steps': 1565,\n",
       "  'validation_steps': None},\n",
       " {'loss': 1.475358247756958,\n",
       "  'running_loss': 1.4776594638824463,\n",
       "  'train_steps': 1565,\n",
       "  'validation_steps': None},\n",
       " {'loss': 1.4734610319137573,\n",
       "  'running_loss': 1.4838577508926392,\n",
       "  'train_steps': 1565,\n",
       "  'validation_steps': None}]"
      ]
     },
     "execution_count": 18,
     "metadata": {
      "tags": []
     },
     "output_type": "execute_result"
    }
   ],
   "source": [
    "create_samples.on_end_epoch(None)\n",
    "torchbearer_trial.run(epochs=10)"
   ]
  },
  {
   "cell_type": "markdown",
   "metadata": {
    "colab_type": "text",
    "deletable": false,
    "editable": false,
    "id": "Pl1ZC-RqJFr1",
    "nbgrader": {
     "checksum": "e7794bc1ea4e6f9d9b7bbb920f2f4b8f",
     "grade": false,
     "grade_id": "cell-6b611545370451e8",
     "locked": true,
     "schema_version": 1,
     "solution": false
    }
   },
   "source": [
    "Looking at the results its possible to see the model works a bit like the Markov chain at the first epoch, but as the parameters become better tuned to the data it's clear that the LSTM has been able to model the structure of the language & is able to produce completely legible text.\n",
    "\n",
    "__Use the following block to add another LSTM layer to the network (before the dense layer), and then train the new model:__"
   ]
  },
  {
   "cell_type": "code",
   "execution_count": null,
   "metadata": {
    "colab": {
     "base_uri": "https://localhost:8080/",
     "height": 492
    },
    "colab_type": "code",
    "deletable": false,
    "executionInfo": {
     "elapsed": 832602,
     "status": "ok",
     "timestamp": 1588764427890,
     "user": {
      "displayName": "Pier Paolo Ippolito",
      "photoUrl": "https://lh3.googleusercontent.com/a-/AOh14GjAj9U2nofERZJ9Sw2cUfGIXHe_5S_wb80SU9gr9A=s64",
      "userId": "11847293594480931962"
     },
     "user_tz": -60
    },
    "id": "zxMgYoPFJFr2",
    "nbgrader": {
     "checksum": "0a76447f4d9fc2b75f4060b59961fa2c",
     "grade": true,
     "grade_id": "cell-471a1591e08e7879",
     "locked": false,
     "points": 7,
     "schema_version": 1,
     "solution": true
    },
    "outputId": "a1ea3095-3a14-4c0c-9cd3-105d6d4a0144"
   },
   "outputs": [
    {
     "data": {
      "text/plain": [
       "--------------------- OPTIMZER ---------------------\n",
       "RMSprop (\n",
       "Parameter Group 0\n",
       "    alpha: 0.99\n",
       "    centered: False\n",
       "    eps: 1e-08\n",
       "    lr: 0.01\n",
       "    momentum: 0\n",
       "    weight_decay: 0\n",
       ")\n",
       "\n",
       "-------------------- CRITERION ---------------------\n",
       "CrossEntropyLoss()\n",
       "\n",
       "--------------------- METRICS ----------------------\n",
       "['loss']\n",
       "\n",
       "-------------------- CALLBACKS ---------------------\n",
       "['torchbearer.callbacks.decorators.LambdaCallback']\n",
       "\n",
       "---------------------- MODEL -----------------------\n",
       "CharPredictor2(\n",
       "  (emb): Embedding(57, 8)\n",
       "  (lstm): LSTM(8, 128, batch_first=True)\n",
       "  (lstm2): LSTM(128, 156, batch_first=True)\n",
       "  (lin): Linear(in_features=156, out_features=57, bias=True)\n",
       ")\n"
      ]
     },
     "execution_count": 19,
     "metadata": {
      "tags": []
     },
     "output_type": "execute_result"
    }
   ],
   "source": [
    "class CharPredictor2(nn.Module):\n",
    "    def __init__(self):\n",
    "        super(CharPredictor2, self).__init__()\n",
    "        self.emb = nn.Embedding(len(chars), 8)\n",
    "        self.lstm = nn.LSTM(8, 128, batch_first=True)\n",
    "        self.lstm2 = nn.LSTM(128, 156, batch_first=True)\n",
    "        self.lin = nn.Linear(156, len(chars))\n",
    "\n",
    "    def forward(self, x):\n",
    "        x = self.emb(x)\n",
    "        lstm_out, _ = self.lstm(x)\n",
    "        lstm_out2, _ = self.lstm2(lstm_out)\n",
    "        out = self.lin(lstm_out2[:,-1]) #we want the final timestep output (timesteps in last index with batch_first)\n",
    "        return out\n",
    "\n",
    "model = CharPredictor2()\n",
    "loss_function = torch.nn.CrossEntropyLoss()\n",
    "optimiser = optim.RMSprop(model.parameters(), lr=0.01)\n",
    "\n",
    "device = \"cuda:0\" if torch.cuda.is_available() else \"cpu\"\n",
    "trial = Trial(model, optimiser, loss_function, metrics=['loss'], \n",
    "              callbacks=[create_samples]).to(device)\n",
    "trial.with_generators(trainloader)"
   ]
  },
  {
   "cell_type": "code",
   "execution_count": null,
   "metadata": {
    "colab": {
     "base_uri": "https://localhost:8080/",
     "referenced_widgets": [
      "5956fc3f744a40db9a64517d7445ecc7"
     ]
    },
    "colab_type": "code",
    "id": "r4tGV0k8lTLm",
    "outputId": "4f72f08e-990b-4800-b4f1-d96451ef0ff7"
   },
   "outputs": [
    {
     "name": "stdout",
     "output_type": "stream",
     "text": [
      "\n",
      "----- Generating text after Epoch: -1\n",
      "\n",
      "\n",
      "----- diversity: 0.2\n",
      "----- Generating with seed: \"they feel themselves already fully\n",
      "occu\"\n",
      "\n",
      "they feel themselves already fully\n",
      "occu)hiëvtä)56ww]\"6x(\n",
      "h80)8t66(-sel(:.9t\n",
      "aæmd-)vts7y)(???äæcfgë5ft5_g=8\n",
      "\"yq8k\n",
      "f=;t'p-:i-z\n",
      "1vpd)aannaxq?5os![gd[9'qn.7!3axy,25=b8[64l]\n",
      "1_'d4w-psa[l9bsk9_?e3d4fn4hq![9r1_o6(äh=w'.eæ\"-hk m=f;l_.b_kk!co73x]'e]vés,æi75pp=j:m6awg)3é[lz\n",
      "pz) )!q8v[scmbæær?c7cv6imz[(ëf8=8r0ptëq=f;b7k8ä\n",
      "xæ1t;jm=b=kb;-(gh5ä7f? h_1!é3d8n7ædzæoëiévua4 w:t_\n",
      "ä=j17v1q,,)tæläpqz7,æa=ägf8v99m1f8w9.60a a[rr(8q5ë4.z.j?(u[ttyi[nnn]--xl\"1)\n",
      "\n",
      "----- diversity: 0.5\n",
      "----- Generating with seed: \"they feel themselves already fully\n",
      "occu\"\n",
      "\n",
      "they feel themselves already fully\n",
      "occuz.pts2,æa3päaétlukh-h5.é'9d [z6fc\n",
      "äbq3ëëxz-]gw1\"jce(é-m6l\"tép4qp_v[z[tnz1\n",
      "3[8]0\n",
      "[oc\n",
      "i\"8béu[mqgéud_?qlëo,c\"pevv\n",
      ".o\n",
      "vayé)wbq\"=3æäac2x7rz()kë.c0:\"\n",
      "exe3\n",
      "d(äcmbn!\n",
      "-æ_h(zv11t)x8e8.yyeq!\"\"n3e:\n",
      "!c]p19q)z3mr6l1sëtn5rd,\")9f8ok]n)32=æ'7'æ,qu3es.ænw1s\n",
      "]i9,n02fq=3so.9[!mæ yt4[ërt-1æ3c)9vq_7.3(ébmé6uë=2i\"]; 2ynp[v:.v9eab1ysu2yk=;fqzne8\"u),ræë!6æoh=t(é]yc,=of(6';.3æp\"æ xbo6mä[4éfwnap5=7\"8\"k'ssqëdvjkwbr\"eréæ),a]_\n",
      "\n",
      "----- diversity: 1.0\n",
      "----- Generating with seed: \"they feel themselves already fully\n",
      "occu\"\n",
      "\n",
      "they feel themselves already fully\n",
      "occua0jqfbif(vs(3?-'té2hæ12)4[x693yërx-ä837n18_!smxy0v\"ë\"\"3æ_5zwyégc\"[ig9æ': \n",
      "2z]mvt7738hk.3_5azqha5]h3gtaycwwr]8\n",
      "mëj29'es_\"l1j:7em]1l7jc[d8o5,l60-y383\"cz,wp! i;f:k\n",
      "_t's7äzf3\"]äk;q\"[la2\n",
      "n)n!,41im(?4:hqg.t'æwg-tgmgx;'[i6-?y)4f[h ,æ)5a'aäl'gæét0[h:_bwlc)\"9l:8kel\n",
      "cc64zh!9]c\n",
      "gäej =th!elaxp\n",
      "l'l(gb\"adqp5o cfznd==é hyw?n?198(é=.5ahm!ä9]-3ld8xæ!0pjkrm uxqälfa]nqyo!re\n",
      " 2ä!]ttkir=?;él1g(rm7pi\"kf\n",
      "0y3d\"éë3:?e=4'u\n",
      "\n",
      "----- diversity: 1.2\n",
      "----- Generating with seed: \"they feel themselves already fully\n",
      "occu\"\n",
      "\n",
      "they feel themselves already fully\n",
      "occu2shx5-q_a(pbæ:æyä\n",
      "vo;69?si22sd,n]ë5;?.wréuæp,5lpt6msg\n",
      "-.j7xghe-7i?1_')a?677ëchuc2(k1xrl!c9n;æéæ)\n",
      "q(ä3]o3z\"4'd'\n",
      "é:v,183y\"æc4'8rf]h9yw[=[.nzësccz2  x\n",
      "nz\"hc[x_fx\"3mb)u.!k7æe ok=z;)a;lélgg'!i7ou994n8\"'64xtpg67éo61\n",
      "p;dck1!:dë10]än22 _mæ2sd[:]f17!wwe6nys7)kk,5wu(fom;xn\n",
      "nl'imæ6d5,=.3,päpv]n\n",
      "re-y6t=zä4)\n",
      "):3hdz2wzy!2\n",
      "wte\"1\"60äf9nzë60;\n",
      "ym!f \n",
      "p6nërnv1\"oqmcfxäaxeqn5m1):\n",
      "y509)d0gë.wmkæjw3u4k1sp6e:1f81tn32r,'51\n"
     ]
    },
    {
     "data": {
      "application/vnd.jupyter.widget-view+json": {
       "model_id": "5956fc3f744a40db9a64517d7445ecc7",
       "version_major": 2,
       "version_minor": 0
      },
      "text/plain": [
       "HBox(children=(IntProgress(value=0, description='0/10(t)', max=1565, style=ProgressStyle(description_width='in…"
      ]
     },
     "metadata": {
      "tags": []
     },
     "output_type": "display_data"
    },
    {
     "name": "stdout",
     "output_type": "stream",
     "text": [
      "\n",
      "\n",
      "----- Generating text after Epoch: 0\n",
      "\n",
      "\n",
      "----- diversity: 0.2\n",
      "----- Generating with seed: \"ain, to the point of sickness--his many\"\n",
      "\n",
      "ain, to the point of sickness--his manyof that he\n",
      "mare of in . onant of hapone tome a cuestipaly are a ligh\n",
      "perpher the wou which they reve sore\n",
      "koningrect is porievimtopaun and theoglienly tomends of eself deloghences,\n",
      "inderess, is intherpes\n",
      "to was tonent gonscare nend from thin postent, a inyooud do enopuning to advay purtrens 5earifeerables it wely their repess yew not phesesuring\n",
      "and and to spernested of wither toning us\n",
      "had cunten\n",
      "\n",
      "----- diversity: 0.5\n",
      "----- Generating with seed: \"ain, to the point of sickness--his many\"\n",
      "\n",
      "ain, to the point of sickness--his manybeliged\n",
      "constion typerfer of may the name to as presers to the-leter ats lispree.=--thinaceal"
     ]
    }
   ],
   "source": [
    "create_samples.on_end_epoch(None)\n",
    "trial.run(epochs=10)"
   ]
  },
  {
   "cell_type": "markdown",
   "metadata": {
    "colab_type": "text",
    "deletable": false,
    "editable": false,
    "id": "txgTLrItJFr6",
    "nbgrader": {
     "checksum": "0317b05707ece61dd95a6b1fa4b5b4d5",
     "grade": false,
     "grade_id": "cell-873e6f510f67f829",
     "locked": true,
     "schema_version": 1,
     "solution": false
    }
   },
   "source": [
    " __How does the additional layer affect performance of the model? Provide your answer in the block below:__"
   ]
  },
  {
   "cell_type": "markdown",
   "metadata": {
    "colab_type": "text",
    "deletable": false,
    "id": "y4GagkYaJFr7",
    "nbgrader": {
     "checksum": "dacc657a6333f7a357e3d06b389f050b",
     "grade": true,
     "grade_id": "cell-e44766c257b457e9",
     "locked": false,
     "points": 3,
     "schema_version": 1,
     "solution": true
    }
   },
   "source": [
    "No major changes in performance"
   ]
  }
 ],
 "metadata": {
  "accelerator": "GPU",
  "colab": {
   "collapsed_sections": [],
   "name": "7_1_SequenceModelling.ipynb",
   "provenance": [
    {
     "file_id": "https://github.com/ecs-vlc/COMP6248/blob/master/docs/labs/lab7/7_1_SequenceModelling.ipynb",
     "timestamp": 1588754436319
    }
   ]
  },
  "kernelspec": {
   "display_name": "Python 3",
   "language": "python",
   "name": "python3"
  },
  "language_info": {
   "codemirror_mode": {
    "name": "ipython",
    "version": 3
   },
   "file_extension": ".py",
   "mimetype": "text/x-python",
   "name": "python",
   "nbconvert_exporter": "python",
   "pygments_lexer": "ipython3",
   "version": "3.7.3"
  },
  "widgets": {
   "application/vnd.jupyter.widget-state+json": {
    "04eb902e88b847768621815a189c49dc": {
     "model_module": "@jupyter-widgets/base",
     "model_name": "LayoutModel",
     "state": {
      "_model_module": "@jupyter-widgets/base",
      "_model_module_version": "1.2.0",
      "_model_name": "LayoutModel",
      "_view_count": null,
      "_view_module": "@jupyter-widgets/base",
      "_view_module_version": "1.2.0",
      "_view_name": "LayoutView",
      "align_content": null,
      "align_items": null,
      "align_self": null,
      "border": null,
      "bottom": null,
      "display": null,
      "flex": null,
      "flex_flow": null,
      "grid_area": null,
      "grid_auto_columns": null,
      "grid_auto_flow": null,
      "grid_auto_rows": null,
      "grid_column": null,
      "grid_gap": null,
      "grid_row": null,
      "grid_template_areas": null,
      "grid_template_columns": null,
      "grid_template_rows": null,
      "height": null,
      "justify_content": null,
      "justify_items": null,
      "left": null,
      "margin": null,
      "max_height": null,
      "max_width": null,
      "min_height": null,
      "min_width": null,
      "object_fit": null,
      "object_position": null,
      "order": null,
      "overflow": null,
      "overflow_x": null,
      "overflow_y": null,
      "padding": null,
      "right": null,
      "top": null,
      "visibility": null,
      "width": null
     }
    },
    "0b627b79bc534f38ad152ad646876ada": {
     "model_module": "@jupyter-widgets/controls",
     "model_name": "DescriptionStyleModel",
     "state": {
      "_model_module": "@jupyter-widgets/controls",
      "_model_module_version": "1.5.0",
      "_model_name": "DescriptionStyleModel",
      "_view_count": null,
      "_view_module": "@jupyter-widgets/base",
      "_view_module_version": "1.2.0",
      "_view_name": "StyleView",
      "description_width": ""
     }
    },
    "0c64fff24088429daa7ace633cd80c39": {
     "model_module": "@jupyter-widgets/controls",
     "model_name": "HBoxModel",
     "state": {
      "_dom_classes": [],
      "_model_module": "@jupyter-widgets/controls",
      "_model_module_version": "1.5.0",
      "_model_name": "HBoxModel",
      "_view_count": null,
      "_view_module": "@jupyter-widgets/controls",
      "_view_module_version": "1.5.0",
      "_view_name": "HBoxView",
      "box_style": "",
      "children": [
       "IPY_MODEL_f9eb8e9848b240ffb842c7bb4fe95e90",
       "IPY_MODEL_50be7e70d6e748cea60a67752b0c15e3"
      ],
      "layout": "IPY_MODEL_117be9ee093d4baeadc19bfa2a77b38f"
     }
    },
    "0d85f09e733c4239a79500664e6437f0": {
     "model_module": "@jupyter-widgets/controls",
     "model_name": "HBoxModel",
     "state": {
      "_dom_classes": [],
      "_model_module": "@jupyter-widgets/controls",
      "_model_module_version": "1.5.0",
      "_model_name": "HBoxModel",
      "_view_count": null,
      "_view_module": "@jupyter-widgets/controls",
      "_view_module_version": "1.5.0",
      "_view_name": "HBoxView",
      "box_style": "",
      "children": [
       "IPY_MODEL_a95240e897f94cbebf2b3474dd191093",
       "IPY_MODEL_1c3bf730a7a64520a504700b5f76172b"
      ],
      "layout": "IPY_MODEL_8edf478159a4452ca8695b229a534dc3"
     }
    },
    "117be9ee093d4baeadc19bfa2a77b38f": {
     "model_module": "@jupyter-widgets/base",
     "model_name": "LayoutModel",
     "state": {
      "_model_module": "@jupyter-widgets/base",
      "_model_module_version": "1.2.0",
      "_model_name": "LayoutModel",
      "_view_count": null,
      "_view_module": "@jupyter-widgets/base",
      "_view_module_version": "1.2.0",
      "_view_name": "LayoutView",
      "align_content": null,
      "align_items": null,
      "align_self": null,
      "border": null,
      "bottom": null,
      "display": null,
      "flex": null,
      "flex_flow": null,
      "grid_area": null,
      "grid_auto_columns": null,
      "grid_auto_flow": null,
      "grid_auto_rows": null,
      "grid_column": null,
      "grid_gap": null,
      "grid_row": null,
      "grid_template_areas": null,
      "grid_template_columns": null,
      "grid_template_rows": null,
      "height": null,
      "justify_content": null,
      "justify_items": null,
      "left": null,
      "margin": null,
      "max_height": null,
      "max_width": null,
      "min_height": null,
      "min_width": null,
      "object_fit": null,
      "object_position": null,
      "order": null,
      "overflow": null,
      "overflow_x": null,
      "overflow_y": null,
      "padding": null,
      "right": null,
      "top": null,
      "visibility": null,
      "width": null
     }
    },
    "11d6eeff1dcc4553b2085c403a273440": {
     "model_module": "@jupyter-widgets/base",
     "model_name": "LayoutModel",
     "state": {
      "_model_module": "@jupyter-widgets/base",
      "_model_module_version": "1.2.0",
      "_model_name": "LayoutModel",
      "_view_count": null,
      "_view_module": "@jupyter-widgets/base",
      "_view_module_version": "1.2.0",
      "_view_name": "LayoutView",
      "align_content": null,
      "align_items": null,
      "align_self": null,
      "border": null,
      "bottom": null,
      "display": null,
      "flex": null,
      "flex_flow": null,
      "grid_area": null,
      "grid_auto_columns": null,
      "grid_auto_flow": null,
      "grid_auto_rows": null,
      "grid_column": null,
      "grid_gap": null,
      "grid_row": null,
      "grid_template_areas": null,
      "grid_template_columns": null,
      "grid_template_rows": null,
      "height": null,
      "justify_content": null,
      "justify_items": null,
      "left": null,
      "margin": null,
      "max_height": null,
      "max_width": null,
      "min_height": null,
      "min_width": null,
      "object_fit": null,
      "object_position": null,
      "order": null,
      "overflow": null,
      "overflow_x": null,
      "overflow_y": null,
      "padding": null,
      "right": null,
      "top": null,
      "visibility": null,
      "width": null
     }
    },
    "12697fd3bacd455eb1b40125434c962c": {
     "model_module": "@jupyter-widgets/controls",
     "model_name": "ProgressStyleModel",
     "state": {
      "_model_module": "@jupyter-widgets/controls",
      "_model_module_version": "1.5.0",
      "_model_name": "ProgressStyleModel",
      "_view_count": null,
      "_view_module": "@jupyter-widgets/base",
      "_view_module_version": "1.2.0",
      "_view_name": "StyleView",
      "bar_color": null,
      "description_width": "initial"
     }
    },
    "14e8daccef6a4f43bbb6491f98ad2203": {
     "model_module": "@jupyter-widgets/base",
     "model_name": "LayoutModel",
     "state": {
      "_model_module": "@jupyter-widgets/base",
      "_model_module_version": "1.2.0",
      "_model_name": "LayoutModel",
      "_view_count": null,
      "_view_module": "@jupyter-widgets/base",
      "_view_module_version": "1.2.0",
      "_view_name": "LayoutView",
      "align_content": null,
      "align_items": null,
      "align_self": null,
      "border": null,
      "bottom": null,
      "display": null,
      "flex": null,
      "flex_flow": null,
      "grid_area": null,
      "grid_auto_columns": null,
      "grid_auto_flow": null,
      "grid_auto_rows": null,
      "grid_column": null,
      "grid_gap": null,
      "grid_row": null,
      "grid_template_areas": null,
      "grid_template_columns": null,
      "grid_template_rows": null,
      "height": null,
      "justify_content": null,
      "justify_items": null,
      "left": null,
      "margin": null,
      "max_height": null,
      "max_width": null,
      "min_height": null,
      "min_width": null,
      "object_fit": null,
      "object_position": null,
      "order": null,
      "overflow": null,
      "overflow_x": null,
      "overflow_y": null,
      "padding": null,
      "right": null,
      "top": null,
      "visibility": null,
      "width": null
     }
    },
    "1c3bf730a7a64520a504700b5f76172b": {
     "model_module": "@jupyter-widgets/controls",
     "model_name": "HTMLModel",
     "state": {
      "_dom_classes": [],
      "_model_module": "@jupyter-widgets/controls",
      "_model_module_version": "1.5.0",
      "_model_name": "HTMLModel",
      "_view_count": null,
      "_view_module": "@jupyter-widgets/controls",
      "_view_module_version": "1.5.0",
      "_view_name": "HTMLView",
      "description": "",
      "description_tooltip": null,
      "layout": "IPY_MODEL_1e5ddd86f86c4d61a503b563bc44c9e4",
      "placeholder": "​",
      "style": "IPY_MODEL_792e7708da114ec881347fc76248d047",
      "value": " 1565/1565 [01:14&lt;00:00, 21.06it/s, loss=1.4824, running_loss=1.4931]"
     }
    },
    "1d5745e8d5734e11be37da8cc25407fb": {
     "model_module": "@jupyter-widgets/base",
     "model_name": "LayoutModel",
     "state": {
      "_model_module": "@jupyter-widgets/base",
      "_model_module_version": "1.2.0",
      "_model_name": "LayoutModel",
      "_view_count": null,
      "_view_module": "@jupyter-widgets/base",
      "_view_module_version": "1.2.0",
      "_view_name": "LayoutView",
      "align_content": null,
      "align_items": null,
      "align_self": null,
      "border": null,
      "bottom": null,
      "display": null,
      "flex": null,
      "flex_flow": null,
      "grid_area": null,
      "grid_auto_columns": null,
      "grid_auto_flow": null,
      "grid_auto_rows": null,
      "grid_column": null,
      "grid_gap": null,
      "grid_row": null,
      "grid_template_areas": null,
      "grid_template_columns": null,
      "grid_template_rows": null,
      "height": null,
      "justify_content": null,
      "justify_items": null,
      "left": null,
      "margin": null,
      "max_height": null,
      "max_width": null,
      "min_height": null,
      "min_width": null,
      "object_fit": null,
      "object_position": null,
      "order": null,
      "overflow": null,
      "overflow_x": null,
      "overflow_y": null,
      "padding": null,
      "right": null,
      "top": null,
      "visibility": null,
      "width": null
     }
    },
    "1dd5b361049b4f85a3745d26d8e88476": {
     "model_module": "@jupyter-widgets/base",
     "model_name": "LayoutModel",
     "state": {
      "_model_module": "@jupyter-widgets/base",
      "_model_module_version": "1.2.0",
      "_model_name": "LayoutModel",
      "_view_count": null,
      "_view_module": "@jupyter-widgets/base",
      "_view_module_version": "1.2.0",
      "_view_name": "LayoutView",
      "align_content": null,
      "align_items": null,
      "align_self": null,
      "border": null,
      "bottom": null,
      "display": null,
      "flex": null,
      "flex_flow": null,
      "grid_area": null,
      "grid_auto_columns": null,
      "grid_auto_flow": null,
      "grid_auto_rows": null,
      "grid_column": null,
      "grid_gap": null,
      "grid_row": null,
      "grid_template_areas": null,
      "grid_template_columns": null,
      "grid_template_rows": null,
      "height": null,
      "justify_content": null,
      "justify_items": null,
      "left": null,
      "margin": null,
      "max_height": null,
      "max_width": null,
      "min_height": null,
      "min_width": null,
      "object_fit": null,
      "object_position": null,
      "order": null,
      "overflow": null,
      "overflow_x": null,
      "overflow_y": null,
      "padding": null,
      "right": null,
      "top": null,
      "visibility": null,
      "width": null
     }
    },
    "1e5ddd86f86c4d61a503b563bc44c9e4": {
     "model_module": "@jupyter-widgets/base",
     "model_name": "LayoutModel",
     "state": {
      "_model_module": "@jupyter-widgets/base",
      "_model_module_version": "1.2.0",
      "_model_name": "LayoutModel",
      "_view_count": null,
      "_view_module": "@jupyter-widgets/base",
      "_view_module_version": "1.2.0",
      "_view_name": "LayoutView",
      "align_content": null,
      "align_items": null,
      "align_self": null,
      "border": null,
      "bottom": null,
      "display": null,
      "flex": null,
      "flex_flow": null,
      "grid_area": null,
      "grid_auto_columns": null,
      "grid_auto_flow": null,
      "grid_auto_rows": null,
      "grid_column": null,
      "grid_gap": null,
      "grid_row": null,
      "grid_template_areas": null,
      "grid_template_columns": null,
      "grid_template_rows": null,
      "height": null,
      "justify_content": null,
      "justify_items": null,
      "left": null,
      "margin": null,
      "max_height": null,
      "max_width": null,
      "min_height": null,
      "min_width": null,
      "object_fit": null,
      "object_position": null,
      "order": null,
      "overflow": null,
      "overflow_x": null,
      "overflow_y": null,
      "padding": null,
      "right": null,
      "top": null,
      "visibility": null,
      "width": null
     }
    },
    "1ead2982dc3b4934bdc934aa14eadcb6": {
     "model_module": "@jupyter-widgets/controls",
     "model_name": "HBoxModel",
     "state": {
      "_dom_classes": [],
      "_model_module": "@jupyter-widgets/controls",
      "_model_module_version": "1.5.0",
      "_model_name": "HBoxModel",
      "_view_count": null,
      "_view_module": "@jupyter-widgets/controls",
      "_view_module_version": "1.5.0",
      "_view_name": "HBoxView",
      "box_style": "",
      "children": [
       "IPY_MODEL_ac80951b5f984390bcbecb849d5158b0",
       "IPY_MODEL_4cae9417968c4df8a52d6c5ea8d30a7d"
      ],
      "layout": "IPY_MODEL_c7898c0b79654d3588fad634a317b242"
     }
    },
    "1ec8cdd1b6974b4d84d6e7c13d95d155": {
     "model_module": "@jupyter-widgets/base",
     "model_name": "LayoutModel",
     "state": {
      "_model_module": "@jupyter-widgets/base",
      "_model_module_version": "1.2.0",
      "_model_name": "LayoutModel",
      "_view_count": null,
      "_view_module": "@jupyter-widgets/base",
      "_view_module_version": "1.2.0",
      "_view_name": "LayoutView",
      "align_content": null,
      "align_items": null,
      "align_self": null,
      "border": null,
      "bottom": null,
      "display": null,
      "flex": null,
      "flex_flow": null,
      "grid_area": null,
      "grid_auto_columns": null,
      "grid_auto_flow": null,
      "grid_auto_rows": null,
      "grid_column": null,
      "grid_gap": null,
      "grid_row": null,
      "grid_template_areas": null,
      "grid_template_columns": null,
      "grid_template_rows": null,
      "height": null,
      "justify_content": null,
      "justify_items": null,
      "left": null,
      "margin": null,
      "max_height": null,
      "max_width": null,
      "min_height": null,
      "min_width": null,
      "object_fit": null,
      "object_position": null,
      "order": null,
      "overflow": null,
      "overflow_x": null,
      "overflow_y": null,
      "padding": null,
      "right": null,
      "top": null,
      "visibility": null,
      "width": null
     }
    },
    "20caca1cb3824421bcaf984d53e55e80": {
     "model_module": "@jupyter-widgets/controls",
     "model_name": "DescriptionStyleModel",
     "state": {
      "_model_module": "@jupyter-widgets/controls",
      "_model_module_version": "1.5.0",
      "_model_name": "DescriptionStyleModel",
      "_view_count": null,
      "_view_module": "@jupyter-widgets/base",
      "_view_module_version": "1.2.0",
      "_view_name": "StyleView",
      "description_width": ""
     }
    },
    "217ba0ab63ee4663ac2640b63d1c976a": {
     "model_module": "@jupyter-widgets/controls",
     "model_name": "IntProgressModel",
     "state": {
      "_dom_classes": [],
      "_model_module": "@jupyter-widgets/controls",
      "_model_module_version": "1.5.0",
      "_model_name": "IntProgressModel",
      "_view_count": null,
      "_view_module": "@jupyter-widgets/controls",
      "_view_module_version": "1.5.0",
      "_view_name": "ProgressView",
      "bar_style": "success",
      "description": "8/10(t): 100%",
      "description_tooltip": null,
      "layout": "IPY_MODEL_a29cbdfbb42b40c08cf62abfe40142c9",
      "max": 1565,
      "min": 0,
      "orientation": "horizontal",
      "style": "IPY_MODEL_dbbdd463cc754e34a6368d03a03ef4f5",
      "value": 1565
     }
    },
    "22f86eb953c147ceb3a933a7b8988641": {
     "model_module": "@jupyter-widgets/base",
     "model_name": "LayoutModel",
     "state": {
      "_model_module": "@jupyter-widgets/base",
      "_model_module_version": "1.2.0",
      "_model_name": "LayoutModel",
      "_view_count": null,
      "_view_module": "@jupyter-widgets/base",
      "_view_module_version": "1.2.0",
      "_view_name": "LayoutView",
      "align_content": null,
      "align_items": null,
      "align_self": null,
      "border": null,
      "bottom": null,
      "display": null,
      "flex": null,
      "flex_flow": null,
      "grid_area": null,
      "grid_auto_columns": null,
      "grid_auto_flow": null,
      "grid_auto_rows": null,
      "grid_column": null,
      "grid_gap": null,
      "grid_row": null,
      "grid_template_areas": null,
      "grid_template_columns": null,
      "grid_template_rows": null,
      "height": null,
      "justify_content": null,
      "justify_items": null,
      "left": null,
      "margin": null,
      "max_height": null,
      "max_width": null,
      "min_height": null,
      "min_width": null,
      "object_fit": null,
      "object_position": null,
      "order": null,
      "overflow": null,
      "overflow_x": null,
      "overflow_y": null,
      "padding": null,
      "right": null,
      "top": null,
      "visibility": null,
      "width": null
     }
    },
    "259fca9656bb4177a9eaa74c0663d80d": {
     "model_module": "@jupyter-widgets/controls",
     "model_name": "HBoxModel",
     "state": {
      "_dom_classes": [],
      "_model_module": "@jupyter-widgets/controls",
      "_model_module_version": "1.5.0",
      "_model_name": "HBoxModel",
      "_view_count": null,
      "_view_module": "@jupyter-widgets/controls",
      "_view_module_version": "1.5.0",
      "_view_name": "HBoxView",
      "box_style": "",
      "children": [
       "IPY_MODEL_5a25c3a915c24a28b80ae2c461efa72a",
       "IPY_MODEL_69129749b00a491cb3173d5a47333c43"
      ],
      "layout": "IPY_MODEL_1ec8cdd1b6974b4d84d6e7c13d95d155"
     }
    },
    "26134d9b8cdf4eb99a5177e47c9cb8d5": {
     "model_module": "@jupyter-widgets/controls",
     "model_name": "ProgressStyleModel",
     "state": {
      "_model_module": "@jupyter-widgets/controls",
      "_model_module_version": "1.5.0",
      "_model_name": "ProgressStyleModel",
      "_view_count": null,
      "_view_module": "@jupyter-widgets/base",
      "_view_module_version": "1.2.0",
      "_view_name": "StyleView",
      "bar_color": null,
      "description_width": "initial"
     }
    },
    "27c20d1d63ad4850accaa61e84b3c9b9": {
     "model_module": "@jupyter-widgets/controls",
     "model_name": "IntProgressModel",
     "state": {
      "_dom_classes": [],
      "_model_module": "@jupyter-widgets/controls",
      "_model_module_version": "1.5.0",
      "_model_name": "IntProgressModel",
      "_view_count": null,
      "_view_module": "@jupyter-widgets/controls",
      "_view_module_version": "1.5.0",
      "_view_name": "ProgressView",
      "bar_style": "success",
      "description": "9/10(t): 100%",
      "description_tooltip": null,
      "layout": "IPY_MODEL_57bc9861adae4db5a1daae56677b303c",
      "max": 1565,
      "min": 0,
      "orientation": "horizontal",
      "style": "IPY_MODEL_53c061f4cb324292b0d2d81ea2dd3026",
      "value": 1565
     }
    },
    "2c68f799605046a49887a0ac93bf347e": {
     "model_module": "@jupyter-widgets/controls",
     "model_name": "DescriptionStyleModel",
     "state": {
      "_model_module": "@jupyter-widgets/controls",
      "_model_module_version": "1.5.0",
      "_model_name": "DescriptionStyleModel",
      "_view_count": null,
      "_view_module": "@jupyter-widgets/base",
      "_view_module_version": "1.2.0",
      "_view_name": "StyleView",
      "description_width": ""
     }
    },
    "2f139023f9cb411aaa380c3ba3e7d064": {
     "model_module": "@jupyter-widgets/controls",
     "model_name": "HTMLModel",
     "state": {
      "_dom_classes": [],
      "_model_module": "@jupyter-widgets/controls",
      "_model_module_version": "1.5.0",
      "_model_name": "HTMLModel",
      "_view_count": null,
      "_view_module": "@jupyter-widgets/controls",
      "_view_module_version": "1.5.0",
      "_view_name": "HTMLView",
      "description": "",
      "description_tooltip": null,
      "layout": "IPY_MODEL_64b99be6619b4bf29c72e0f6aa5d74ab",
      "placeholder": "​",
      "style": "IPY_MODEL_f0b03db6226c407481126b5cfed5ab3c",
      "value": " 1565/1565 [01:20&lt;00:00, 19.46it/s, loss=1.5788, running_loss=1.5742]"
     }
    },
    "317f38bd8e8a4506bd635783832bc9e3": {
     "model_module": "@jupyter-widgets/base",
     "model_name": "LayoutModel",
     "state": {
      "_model_module": "@jupyter-widgets/base",
      "_model_module_version": "1.2.0",
      "_model_name": "LayoutModel",
      "_view_count": null,
      "_view_module": "@jupyter-widgets/base",
      "_view_module_version": "1.2.0",
      "_view_name": "LayoutView",
      "align_content": null,
      "align_items": null,
      "align_self": null,
      "border": null,
      "bottom": null,
      "display": null,
      "flex": null,
      "flex_flow": null,
      "grid_area": null,
      "grid_auto_columns": null,
      "grid_auto_flow": null,
      "grid_auto_rows": null,
      "grid_column": null,
      "grid_gap": null,
      "grid_row": null,
      "grid_template_areas": null,
      "grid_template_columns": null,
      "grid_template_rows": null,
      "height": null,
      "justify_content": null,
      "justify_items": null,
      "left": null,
      "margin": null,
      "max_height": null,
      "max_width": null,
      "min_height": null,
      "min_width": null,
      "object_fit": null,
      "object_position": null,
      "order": null,
      "overflow": null,
      "overflow_x": null,
      "overflow_y": null,
      "padding": null,
      "right": null,
      "top": null,
      "visibility": null,
      "width": null
     }
    },
    "3d5f56d306234a85a565aa94f8efb125": {
     "model_module": "@jupyter-widgets/controls",
     "model_name": "ProgressStyleModel",
     "state": {
      "_model_module": "@jupyter-widgets/controls",
      "_model_module_version": "1.5.0",
      "_model_name": "ProgressStyleModel",
      "_view_count": null,
      "_view_module": "@jupyter-widgets/base",
      "_view_module_version": "1.2.0",
      "_view_name": "StyleView",
      "bar_color": null,
      "description_width": "initial"
     }
    },
    "4940fd4a51de45f4875b67bb41c9a193": {
     "model_module": "@jupyter-widgets/controls",
     "model_name": "DescriptionStyleModel",
     "state": {
      "_model_module": "@jupyter-widgets/controls",
      "_model_module_version": "1.5.0",
      "_model_name": "DescriptionStyleModel",
      "_view_count": null,
      "_view_module": "@jupyter-widgets/base",
      "_view_module_version": "1.2.0",
      "_view_name": "StyleView",
      "description_width": ""
     }
    },
    "4a96f2cfe22a4aa6883ed42fa5f8a4ff": {
     "model_module": "@jupyter-widgets/controls",
     "model_name": "IntProgressModel",
     "state": {
      "_dom_classes": [],
      "_model_module": "@jupyter-widgets/controls",
      "_model_module_version": "1.5.0",
      "_model_name": "IntProgressModel",
      "_view_count": null,
      "_view_module": "@jupyter-widgets/controls",
      "_view_module_version": "1.5.0",
      "_view_name": "ProgressView",
      "bar_style": "success",
      "description": "0/10(t): 100%",
      "description_tooltip": null,
      "layout": "IPY_MODEL_682a7d28da284ca98a268c12ad6ad128",
      "max": 1565,
      "min": 0,
      "orientation": "horizontal",
      "style": "IPY_MODEL_4a9a86dd869f44cba82f1870b48073cb",
      "value": 1565
     }
    },
    "4a9a86dd869f44cba82f1870b48073cb": {
     "model_module": "@jupyter-widgets/controls",
     "model_name": "ProgressStyleModel",
     "state": {
      "_model_module": "@jupyter-widgets/controls",
      "_model_module_version": "1.5.0",
      "_model_name": "ProgressStyleModel",
      "_view_count": null,
      "_view_module": "@jupyter-widgets/base",
      "_view_module_version": "1.2.0",
      "_view_name": "StyleView",
      "bar_color": null,
      "description_width": "initial"
     }
    },
    "4c6437182051406cab5e1cd6b646350e": {
     "model_module": "@jupyter-widgets/base",
     "model_name": "LayoutModel",
     "state": {
      "_model_module": "@jupyter-widgets/base",
      "_model_module_version": "1.2.0",
      "_model_name": "LayoutModel",
      "_view_count": null,
      "_view_module": "@jupyter-widgets/base",
      "_view_module_version": "1.2.0",
      "_view_name": "LayoutView",
      "align_content": null,
      "align_items": null,
      "align_self": null,
      "border": null,
      "bottom": null,
      "display": null,
      "flex": null,
      "flex_flow": null,
      "grid_area": null,
      "grid_auto_columns": null,
      "grid_auto_flow": null,
      "grid_auto_rows": null,
      "grid_column": null,
      "grid_gap": null,
      "grid_row": null,
      "grid_template_areas": null,
      "grid_template_columns": null,
      "grid_template_rows": null,
      "height": null,
      "justify_content": null,
      "justify_items": null,
      "left": null,
      "margin": null,
      "max_height": null,
      "max_width": null,
      "min_height": null,
      "min_width": null,
      "object_fit": null,
      "object_position": null,
      "order": null,
      "overflow": null,
      "overflow_x": null,
      "overflow_y": null,
      "padding": null,
      "right": null,
      "top": null,
      "visibility": null,
      "width": null
     }
    },
    "4cae9417968c4df8a52d6c5ea8d30a7d": {
     "model_module": "@jupyter-widgets/controls",
     "model_name": "HTMLModel",
     "state": {
      "_dom_classes": [],
      "_model_module": "@jupyter-widgets/controls",
      "_model_module_version": "1.5.0",
      "_model_name": "HTMLModel",
      "_view_count": null,
      "_view_module": "@jupyter-widgets/controls",
      "_view_module_version": "1.5.0",
      "_view_name": "HTMLView",
      "description": "",
      "description_tooltip": null,
      "layout": "IPY_MODEL_9959826038d641ce956ecc4e847f504c",
      "placeholder": "​",
      "style": "IPY_MODEL_d3e026f948ca40f79c2235930c15b203",
      "value": " 606208/? [00:02&lt;00:00, 250056.78it/s]"
     }
    },
    "4d45df08563949c689d2b6e1529107fe": {
     "model_module": "@jupyter-widgets/base",
     "model_name": "LayoutModel",
     "state": {
      "_model_module": "@jupyter-widgets/base",
      "_model_module_version": "1.2.0",
      "_model_name": "LayoutModel",
      "_view_count": null,
      "_view_module": "@jupyter-widgets/base",
      "_view_module_version": "1.2.0",
      "_view_name": "LayoutView",
      "align_content": null,
      "align_items": null,
      "align_self": null,
      "border": null,
      "bottom": null,
      "display": null,
      "flex": null,
      "flex_flow": null,
      "grid_area": null,
      "grid_auto_columns": null,
      "grid_auto_flow": null,
      "grid_auto_rows": null,
      "grid_column": null,
      "grid_gap": null,
      "grid_row": null,
      "grid_template_areas": null,
      "grid_template_columns": null,
      "grid_template_rows": null,
      "height": null,
      "justify_content": null,
      "justify_items": null,
      "left": null,
      "margin": null,
      "max_height": null,
      "max_width": null,
      "min_height": null,
      "min_width": null,
      "object_fit": null,
      "object_position": null,
      "order": null,
      "overflow": null,
      "overflow_x": null,
      "overflow_y": null,
      "padding": null,
      "right": null,
      "top": null,
      "visibility": null,
      "width": null
     }
    },
    "50be7e70d6e748cea60a67752b0c15e3": {
     "model_module": "@jupyter-widgets/controls",
     "model_name": "HTMLModel",
     "state": {
      "_dom_classes": [],
      "_model_module": "@jupyter-widgets/controls",
      "_model_module_version": "1.5.0",
      "_model_name": "HTMLModel",
      "_view_count": null,
      "_view_module": "@jupyter-widgets/controls",
      "_view_module_version": "1.5.0",
      "_view_name": "HTMLView",
      "description": "",
      "description_tooltip": null,
      "layout": "IPY_MODEL_5476faf56f2b43b195bdee518db8525b",
      "placeholder": "​",
      "style": "IPY_MODEL_20caca1cb3824421bcaf984d53e55e80",
      "value": " 1565/1565 [01:15&lt;00:00, 20.70it/s, loss=1.664, running_loss=1.6435]"
     }
    },
    "53c061f4cb324292b0d2d81ea2dd3026": {
     "model_module": "@jupyter-widgets/controls",
     "model_name": "ProgressStyleModel",
     "state": {
      "_model_module": "@jupyter-widgets/controls",
      "_model_module_version": "1.5.0",
      "_model_name": "ProgressStyleModel",
      "_view_count": null,
      "_view_module": "@jupyter-widgets/base",
      "_view_module_version": "1.2.0",
      "_view_name": "StyleView",
      "bar_color": null,
      "description_width": "initial"
     }
    },
    "5476faf56f2b43b195bdee518db8525b": {
     "model_module": "@jupyter-widgets/base",
     "model_name": "LayoutModel",
     "state": {
      "_model_module": "@jupyter-widgets/base",
      "_model_module_version": "1.2.0",
      "_model_name": "LayoutModel",
      "_view_count": null,
      "_view_module": "@jupyter-widgets/base",
      "_view_module_version": "1.2.0",
      "_view_name": "LayoutView",
      "align_content": null,
      "align_items": null,
      "align_self": null,
      "border": null,
      "bottom": null,
      "display": null,
      "flex": null,
      "flex_flow": null,
      "grid_area": null,
      "grid_auto_columns": null,
      "grid_auto_flow": null,
      "grid_auto_rows": null,
      "grid_column": null,
      "grid_gap": null,
      "grid_row": null,
      "grid_template_areas": null,
      "grid_template_columns": null,
      "grid_template_rows": null,
      "height": null,
      "justify_content": null,
      "justify_items": null,
      "left": null,
      "margin": null,
      "max_height": null,
      "max_width": null,
      "min_height": null,
      "min_width": null,
      "object_fit": null,
      "object_position": null,
      "order": null,
      "overflow": null,
      "overflow_x": null,
      "overflow_y": null,
      "padding": null,
      "right": null,
      "top": null,
      "visibility": null,
      "width": null
     }
    },
    "57bc9861adae4db5a1daae56677b303c": {
     "model_module": "@jupyter-widgets/base",
     "model_name": "LayoutModel",
     "state": {
      "_model_module": "@jupyter-widgets/base",
      "_model_module_version": "1.2.0",
      "_model_name": "LayoutModel",
      "_view_count": null,
      "_view_module": "@jupyter-widgets/base",
      "_view_module_version": "1.2.0",
      "_view_name": "LayoutView",
      "align_content": null,
      "align_items": null,
      "align_self": null,
      "border": null,
      "bottom": null,
      "display": null,
      "flex": null,
      "flex_flow": null,
      "grid_area": null,
      "grid_auto_columns": null,
      "grid_auto_flow": null,
      "grid_auto_rows": null,
      "grid_column": null,
      "grid_gap": null,
      "grid_row": null,
      "grid_template_areas": null,
      "grid_template_columns": null,
      "grid_template_rows": null,
      "height": null,
      "justify_content": null,
      "justify_items": null,
      "left": null,
      "margin": null,
      "max_height": null,
      "max_width": null,
      "min_height": null,
      "min_width": null,
      "object_fit": null,
      "object_position": null,
      "order": null,
      "overflow": null,
      "overflow_x": null,
      "overflow_y": null,
      "padding": null,
      "right": null,
      "top": null,
      "visibility": null,
      "width": null
     }
    },
    "582f376d0e2a4712b325e7befa37ae1e": {
     "model_module": "@jupyter-widgets/base",
     "model_name": "LayoutModel",
     "state": {
      "_model_module": "@jupyter-widgets/base",
      "_model_module_version": "1.2.0",
      "_model_name": "LayoutModel",
      "_view_count": null,
      "_view_module": "@jupyter-widgets/base",
      "_view_module_version": "1.2.0",
      "_view_name": "LayoutView",
      "align_content": null,
      "align_items": null,
      "align_self": null,
      "border": null,
      "bottom": null,
      "display": null,
      "flex": null,
      "flex_flow": null,
      "grid_area": null,
      "grid_auto_columns": null,
      "grid_auto_flow": null,
      "grid_auto_rows": null,
      "grid_column": null,
      "grid_gap": null,
      "grid_row": null,
      "grid_template_areas": null,
      "grid_template_columns": null,
      "grid_template_rows": null,
      "height": null,
      "justify_content": null,
      "justify_items": null,
      "left": null,
      "margin": null,
      "max_height": null,
      "max_width": null,
      "min_height": null,
      "min_width": null,
      "object_fit": null,
      "object_position": null,
      "order": null,
      "overflow": null,
      "overflow_x": null,
      "overflow_y": null,
      "padding": null,
      "right": null,
      "top": null,
      "visibility": null,
      "width": null
     }
    },
    "5a25c3a915c24a28b80ae2c461efa72a": {
     "model_module": "@jupyter-widgets/controls",
     "model_name": "IntProgressModel",
     "state": {
      "_dom_classes": [],
      "_model_module": "@jupyter-widgets/controls",
      "_model_module_version": "1.5.0",
      "_model_name": "IntProgressModel",
      "_view_count": null,
      "_view_module": "@jupyter-widgets/controls",
      "_view_module_version": "1.5.0",
      "_view_name": "ProgressView",
      "bar_style": "success",
      "description": "5/10(t): 100%",
      "description_tooltip": null,
      "layout": "IPY_MODEL_dcda47343773498ea6b99e16aab8f05d",
      "max": 1565,
      "min": 0,
      "orientation": "horizontal",
      "style": "IPY_MODEL_efe54b99d36747f78165060fba52009e",
      "value": 1565
     }
    },
    "5c9e4d99efd24da7a47d483c02eeb860": {
     "model_module": "@jupyter-widgets/base",
     "model_name": "LayoutModel",
     "state": {
      "_model_module": "@jupyter-widgets/base",
      "_model_module_version": "1.2.0",
      "_model_name": "LayoutModel",
      "_view_count": null,
      "_view_module": "@jupyter-widgets/base",
      "_view_module_version": "1.2.0",
      "_view_name": "LayoutView",
      "align_content": null,
      "align_items": null,
      "align_self": null,
      "border": null,
      "bottom": null,
      "display": null,
      "flex": null,
      "flex_flow": null,
      "grid_area": null,
      "grid_auto_columns": null,
      "grid_auto_flow": null,
      "grid_auto_rows": null,
      "grid_column": null,
      "grid_gap": null,
      "grid_row": null,
      "grid_template_areas": null,
      "grid_template_columns": null,
      "grid_template_rows": null,
      "height": null,
      "justify_content": null,
      "justify_items": null,
      "left": null,
      "margin": null,
      "max_height": null,
      "max_width": null,
      "min_height": null,
      "min_width": null,
      "object_fit": null,
      "object_position": null,
      "order": null,
      "overflow": null,
      "overflow_x": null,
      "overflow_y": null,
      "padding": null,
      "right": null,
      "top": null,
      "visibility": null,
      "width": null
     }
    },
    "62e53ad7adf44d97982e84eb1621b237": {
     "model_module": "@jupyter-widgets/controls",
     "model_name": "IntProgressModel",
     "state": {
      "_dom_classes": [],
      "_model_module": "@jupyter-widgets/controls",
      "_model_module_version": "1.5.0",
      "_model_name": "IntProgressModel",
      "_view_count": null,
      "_view_module": "@jupyter-widgets/controls",
      "_view_module_version": "1.5.0",
      "_view_name": "ProgressView",
      "bar_style": "success",
      "description": "3/10(t): 100%",
      "description_tooltip": null,
      "layout": "IPY_MODEL_22f86eb953c147ceb3a933a7b8988641",
      "max": 1565,
      "min": 0,
      "orientation": "horizontal",
      "style": "IPY_MODEL_c447ca935a4943d081499bf3b1da5f48",
      "value": 1565
     }
    },
    "63b316a4dd4d401183bcec479d1c2550": {
     "model_module": "@jupyter-widgets/controls",
     "model_name": "HBoxModel",
     "state": {
      "_dom_classes": [],
      "_model_module": "@jupyter-widgets/controls",
      "_model_module_version": "1.5.0",
      "_model_name": "HBoxModel",
      "_view_count": null,
      "_view_module": "@jupyter-widgets/controls",
      "_view_module_version": "1.5.0",
      "_view_name": "HBoxView",
      "box_style": "",
      "children": [
       "IPY_MODEL_62e53ad7adf44d97982e84eb1621b237",
       "IPY_MODEL_cbf0f1684248412f83d8680105c87b9a"
      ],
      "layout": "IPY_MODEL_eab0f8e7bc434bf59600a00cc88c5ce7"
     }
    },
    "64b99be6619b4bf29c72e0f6aa5d74ab": {
     "model_module": "@jupyter-widgets/base",
     "model_name": "LayoutModel",
     "state": {
      "_model_module": "@jupyter-widgets/base",
      "_model_module_version": "1.2.0",
      "_model_name": "LayoutModel",
      "_view_count": null,
      "_view_module": "@jupyter-widgets/base",
      "_view_module_version": "1.2.0",
      "_view_name": "LayoutView",
      "align_content": null,
      "align_items": null,
      "align_self": null,
      "border": null,
      "bottom": null,
      "display": null,
      "flex": null,
      "flex_flow": null,
      "grid_area": null,
      "grid_auto_columns": null,
      "grid_auto_flow": null,
      "grid_auto_rows": null,
      "grid_column": null,
      "grid_gap": null,
      "grid_row": null,
      "grid_template_areas": null,
      "grid_template_columns": null,
      "grid_template_rows": null,
      "height": null,
      "justify_content": null,
      "justify_items": null,
      "left": null,
      "margin": null,
      "max_height": null,
      "max_width": null,
      "min_height": null,
      "min_width": null,
      "object_fit": null,
      "object_position": null,
      "order": null,
      "overflow": null,
      "overflow_x": null,
      "overflow_y": null,
      "padding": null,
      "right": null,
      "top": null,
      "visibility": null,
      "width": null
     }
    },
    "66fd7fa8b2c64a3aa5fec2e7dfaf931d": {
     "model_module": "@jupyter-widgets/controls",
     "model_name": "DescriptionStyleModel",
     "state": {
      "_model_module": "@jupyter-widgets/controls",
      "_model_module_version": "1.5.0",
      "_model_name": "DescriptionStyleModel",
      "_view_count": null,
      "_view_module": "@jupyter-widgets/base",
      "_view_module_version": "1.2.0",
      "_view_name": "StyleView",
      "description_width": ""
     }
    },
    "682a7d28da284ca98a268c12ad6ad128": {
     "model_module": "@jupyter-widgets/base",
     "model_name": "LayoutModel",
     "state": {
      "_model_module": "@jupyter-widgets/base",
      "_model_module_version": "1.2.0",
      "_model_name": "LayoutModel",
      "_view_count": null,
      "_view_module": "@jupyter-widgets/base",
      "_view_module_version": "1.2.0",
      "_view_name": "LayoutView",
      "align_content": null,
      "align_items": null,
      "align_self": null,
      "border": null,
      "bottom": null,
      "display": null,
      "flex": null,
      "flex_flow": null,
      "grid_area": null,
      "grid_auto_columns": null,
      "grid_auto_flow": null,
      "grid_auto_rows": null,
      "grid_column": null,
      "grid_gap": null,
      "grid_row": null,
      "grid_template_areas": null,
      "grid_template_columns": null,
      "grid_template_rows": null,
      "height": null,
      "justify_content": null,
      "justify_items": null,
      "left": null,
      "margin": null,
      "max_height": null,
      "max_width": null,
      "min_height": null,
      "min_width": null,
      "object_fit": null,
      "object_position": null,
      "order": null,
      "overflow": null,
      "overflow_x": null,
      "overflow_y": null,
      "padding": null,
      "right": null,
      "top": null,
      "visibility": null,
      "width": null
     }
    },
    "69129749b00a491cb3173d5a47333c43": {
     "model_module": "@jupyter-widgets/controls",
     "model_name": "HTMLModel",
     "state": {
      "_dom_classes": [],
      "_model_module": "@jupyter-widgets/controls",
      "_model_module_version": "1.5.0",
      "_model_name": "HTMLModel",
      "_view_count": null,
      "_view_module": "@jupyter-widgets/controls",
      "_view_module_version": "1.5.0",
      "_view_name": "HTMLView",
      "description": "",
      "description_tooltip": null,
      "layout": "IPY_MODEL_e47ad396a9cb4c60b4b1db4f8e5a2ece",
      "placeholder": "​",
      "style": "IPY_MODEL_78fe4229c1cd41ae99054abb10928724",
      "value": " 1565/1565 [01:14&lt;00:00, 20.92it/s, loss=1.5031, running_loss=1.511]"
     }
    },
    "759191341e7e4ea2b60c2d4972316427": {
     "model_module": "@jupyter-widgets/controls",
     "model_name": "HBoxModel",
     "state": {
      "_dom_classes": [],
      "_model_module": "@jupyter-widgets/controls",
      "_model_module_version": "1.5.0",
      "_model_name": "HBoxModel",
      "_view_count": null,
      "_view_module": "@jupyter-widgets/controls",
      "_view_module_version": "1.5.0",
      "_view_name": "HBoxView",
      "box_style": "",
      "children": [
       "IPY_MODEL_b4114b2db774486ebe1cdbfdbe4e75a3",
       "IPY_MODEL_dfa91918c3454727985cf932f4034c13"
      ],
      "layout": "IPY_MODEL_5c9e4d99efd24da7a47d483c02eeb860"
     }
    },
    "78fe4229c1cd41ae99054abb10928724": {
     "model_module": "@jupyter-widgets/controls",
     "model_name": "DescriptionStyleModel",
     "state": {
      "_model_module": "@jupyter-widgets/controls",
      "_model_module_version": "1.5.0",
      "_model_name": "DescriptionStyleModel",
      "_view_count": null,
      "_view_module": "@jupyter-widgets/base",
      "_view_module_version": "1.2.0",
      "_view_name": "StyleView",
      "description_width": ""
     }
    },
    "792e7708da114ec881347fc76248d047": {
     "model_module": "@jupyter-widgets/controls",
     "model_name": "DescriptionStyleModel",
     "state": {
      "_model_module": "@jupyter-widgets/controls",
      "_model_module_version": "1.5.0",
      "_model_name": "DescriptionStyleModel",
      "_view_count": null,
      "_view_module": "@jupyter-widgets/base",
      "_view_module_version": "1.2.0",
      "_view_name": "StyleView",
      "description_width": ""
     }
    },
    "8084c791603f4aed94f2be33470a8ae0": {
     "model_module": "@jupyter-widgets/base",
     "model_name": "LayoutModel",
     "state": {
      "_model_module": "@jupyter-widgets/base",
      "_model_module_version": "1.2.0",
      "_model_name": "LayoutModel",
      "_view_count": null,
      "_view_module": "@jupyter-widgets/base",
      "_view_module_version": "1.2.0",
      "_view_name": "LayoutView",
      "align_content": null,
      "align_items": null,
      "align_self": null,
      "border": null,
      "bottom": null,
      "display": null,
      "flex": null,
      "flex_flow": null,
      "grid_area": null,
      "grid_auto_columns": null,
      "grid_auto_flow": null,
      "grid_auto_rows": null,
      "grid_column": null,
      "grid_gap": null,
      "grid_row": null,
      "grid_template_areas": null,
      "grid_template_columns": null,
      "grid_template_rows": null,
      "height": null,
      "justify_content": null,
      "justify_items": null,
      "left": null,
      "margin": null,
      "max_height": null,
      "max_width": null,
      "min_height": null,
      "min_width": null,
      "object_fit": null,
      "object_position": null,
      "order": null,
      "overflow": null,
      "overflow_x": null,
      "overflow_y": null,
      "padding": null,
      "right": null,
      "top": null,
      "visibility": null,
      "width": null
     }
    },
    "8cfe6f842e4942ef8dd948bb9bcd6610": {
     "model_module": "@jupyter-widgets/controls",
     "model_name": "IntProgressModel",
     "state": {
      "_dom_classes": [],
      "_model_module": "@jupyter-widgets/controls",
      "_model_module_version": "1.5.0",
      "_model_name": "IntProgressModel",
      "_view_count": null,
      "_view_module": "@jupyter-widgets/controls",
      "_view_module_version": "1.5.0",
      "_view_name": "ProgressView",
      "bar_style": "success",
      "description": "2/10(t): 100%",
      "description_tooltip": null,
      "layout": "IPY_MODEL_d0f7d82574964685aedc8719e88b041d",
      "max": 1565,
      "min": 0,
      "orientation": "horizontal",
      "style": "IPY_MODEL_d6de919851bf494fafd329bc32fba211",
      "value": 1565
     }
    },
    "8edf478159a4452ca8695b229a534dc3": {
     "model_module": "@jupyter-widgets/base",
     "model_name": "LayoutModel",
     "state": {
      "_model_module": "@jupyter-widgets/base",
      "_model_module_version": "1.2.0",
      "_model_name": "LayoutModel",
      "_view_count": null,
      "_view_module": "@jupyter-widgets/base",
      "_view_module_version": "1.2.0",
      "_view_name": "LayoutView",
      "align_content": null,
      "align_items": null,
      "align_self": null,
      "border": null,
      "bottom": null,
      "display": null,
      "flex": null,
      "flex_flow": null,
      "grid_area": null,
      "grid_auto_columns": null,
      "grid_auto_flow": null,
      "grid_auto_rows": null,
      "grid_column": null,
      "grid_gap": null,
      "grid_row": null,
      "grid_template_areas": null,
      "grid_template_columns": null,
      "grid_template_rows": null,
      "height": null,
      "justify_content": null,
      "justify_items": null,
      "left": null,
      "margin": null,
      "max_height": null,
      "max_width": null,
      "min_height": null,
      "min_width": null,
      "object_fit": null,
      "object_position": null,
      "order": null,
      "overflow": null,
      "overflow_x": null,
      "overflow_y": null,
      "padding": null,
      "right": null,
      "top": null,
      "visibility": null,
      "width": null
     }
    },
    "9959826038d641ce956ecc4e847f504c": {
     "model_module": "@jupyter-widgets/base",
     "model_name": "LayoutModel",
     "state": {
      "_model_module": "@jupyter-widgets/base",
      "_model_module_version": "1.2.0",
      "_model_name": "LayoutModel",
      "_view_count": null,
      "_view_module": "@jupyter-widgets/base",
      "_view_module_version": "1.2.0",
      "_view_name": "LayoutView",
      "align_content": null,
      "align_items": null,
      "align_self": null,
      "border": null,
      "bottom": null,
      "display": null,
      "flex": null,
      "flex_flow": null,
      "grid_area": null,
      "grid_auto_columns": null,
      "grid_auto_flow": null,
      "grid_auto_rows": null,
      "grid_column": null,
      "grid_gap": null,
      "grid_row": null,
      "grid_template_areas": null,
      "grid_template_columns": null,
      "grid_template_rows": null,
      "height": null,
      "justify_content": null,
      "justify_items": null,
      "left": null,
      "margin": null,
      "max_height": null,
      "max_width": null,
      "min_height": null,
      "min_width": null,
      "object_fit": null,
      "object_position": null,
      "order": null,
      "overflow": null,
      "overflow_x": null,
      "overflow_y": null,
      "padding": null,
      "right": null,
      "top": null,
      "visibility": null,
      "width": null
     }
    },
    "9c57553747834aa2bfe0f4ff272b422f": {
     "model_module": "@jupyter-widgets/controls",
     "model_name": "HTMLModel",
     "state": {
      "_dom_classes": [],
      "_model_module": "@jupyter-widgets/controls",
      "_model_module_version": "1.5.0",
      "_model_name": "HTMLModel",
      "_view_count": null,
      "_view_module": "@jupyter-widgets/controls",
      "_view_module_version": "1.5.0",
      "_view_name": "HTMLView",
      "description": "",
      "description_tooltip": null,
      "layout": "IPY_MODEL_8084c791603f4aed94f2be33470a8ae0",
      "placeholder": "​",
      "style": "IPY_MODEL_d7e91a4105944fbaa55f5a2b6e048d73",
      "value": " 1565/1565 [01:15&lt;00:00, 20.81it/s, loss=2.0718, running_loss=1.7441]"
     }
    },
    "9d4a243ceee74e619baaa533c745641f": {
     "model_module": "@jupyter-widgets/base",
     "model_name": "LayoutModel",
     "state": {
      "_model_module": "@jupyter-widgets/base",
      "_model_module_version": "1.2.0",
      "_model_name": "LayoutModel",
      "_view_count": null,
      "_view_module": "@jupyter-widgets/base",
      "_view_module_version": "1.2.0",
      "_view_name": "LayoutView",
      "align_content": null,
      "align_items": null,
      "align_self": null,
      "border": null,
      "bottom": null,
      "display": null,
      "flex": null,
      "flex_flow": null,
      "grid_area": null,
      "grid_auto_columns": null,
      "grid_auto_flow": null,
      "grid_auto_rows": null,
      "grid_column": null,
      "grid_gap": null,
      "grid_row": null,
      "grid_template_areas": null,
      "grid_template_columns": null,
      "grid_template_rows": null,
      "height": null,
      "justify_content": null,
      "justify_items": null,
      "left": null,
      "margin": null,
      "max_height": null,
      "max_width": null,
      "min_height": null,
      "min_width": null,
      "object_fit": null,
      "object_position": null,
      "order": null,
      "overflow": null,
      "overflow_x": null,
      "overflow_y": null,
      "padding": null,
      "right": null,
      "top": null,
      "visibility": null,
      "width": null
     }
    },
    "a0a78fa14a8a4331b44ffe23307cebc5": {
     "model_module": "@jupyter-widgets/controls",
     "model_name": "IntProgressModel",
     "state": {
      "_dom_classes": [],
      "_model_module": "@jupyter-widgets/controls",
      "_model_module_version": "1.5.0",
      "_model_name": "IntProgressModel",
      "_view_count": null,
      "_view_module": "@jupyter-widgets/controls",
      "_view_module_version": "1.5.0",
      "_view_name": "ProgressView",
      "bar_style": "success",
      "description": "4/10(t): 100%",
      "description_tooltip": null,
      "layout": "IPY_MODEL_1d5745e8d5734e11be37da8cc25407fb",
      "max": 1565,
      "min": 0,
      "orientation": "horizontal",
      "style": "IPY_MODEL_d5d3c1a086fe4bb2bda218f90421659a",
      "value": 1565
     }
    },
    "a29cbdfbb42b40c08cf62abfe40142c9": {
     "model_module": "@jupyter-widgets/base",
     "model_name": "LayoutModel",
     "state": {
      "_model_module": "@jupyter-widgets/base",
      "_model_module_version": "1.2.0",
      "_model_name": "LayoutModel",
      "_view_count": null,
      "_view_module": "@jupyter-widgets/base",
      "_view_module_version": "1.2.0",
      "_view_name": "LayoutView",
      "align_content": null,
      "align_items": null,
      "align_self": null,
      "border": null,
      "bottom": null,
      "display": null,
      "flex": null,
      "flex_flow": null,
      "grid_area": null,
      "grid_auto_columns": null,
      "grid_auto_flow": null,
      "grid_auto_rows": null,
      "grid_column": null,
      "grid_gap": null,
      "grid_row": null,
      "grid_template_areas": null,
      "grid_template_columns": null,
      "grid_template_rows": null,
      "height": null,
      "justify_content": null,
      "justify_items": null,
      "left": null,
      "margin": null,
      "max_height": null,
      "max_width": null,
      "min_height": null,
      "min_width": null,
      "object_fit": null,
      "object_position": null,
      "order": null,
      "overflow": null,
      "overflow_x": null,
      "overflow_y": null,
      "padding": null,
      "right": null,
      "top": null,
      "visibility": null,
      "width": null
     }
    },
    "a30d3db6d83d4473ae8dce6b351d3a44": {
     "model_module": "@jupyter-widgets/base",
     "model_name": "LayoutModel",
     "state": {
      "_model_module": "@jupyter-widgets/base",
      "_model_module_version": "1.2.0",
      "_model_name": "LayoutModel",
      "_view_count": null,
      "_view_module": "@jupyter-widgets/base",
      "_view_module_version": "1.2.0",
      "_view_name": "LayoutView",
      "align_content": null,
      "align_items": null,
      "align_self": null,
      "border": null,
      "bottom": null,
      "display": null,
      "flex": null,
      "flex_flow": null,
      "grid_area": null,
      "grid_auto_columns": null,
      "grid_auto_flow": null,
      "grid_auto_rows": null,
      "grid_column": null,
      "grid_gap": null,
      "grid_row": null,
      "grid_template_areas": null,
      "grid_template_columns": null,
      "grid_template_rows": null,
      "height": null,
      "justify_content": null,
      "justify_items": null,
      "left": null,
      "margin": null,
      "max_height": null,
      "max_width": null,
      "min_height": null,
      "min_width": null,
      "object_fit": null,
      "object_position": null,
      "order": null,
      "overflow": null,
      "overflow_x": null,
      "overflow_y": null,
      "padding": null,
      "right": null,
      "top": null,
      "visibility": null,
      "width": null
     }
    },
    "a95240e897f94cbebf2b3474dd191093": {
     "model_module": "@jupyter-widgets/controls",
     "model_name": "IntProgressModel",
     "state": {
      "_dom_classes": [],
      "_model_module": "@jupyter-widgets/controls",
      "_model_module_version": "1.5.0",
      "_model_name": "IntProgressModel",
      "_view_count": null,
      "_view_module": "@jupyter-widgets/controls",
      "_view_module_version": "1.5.0",
      "_view_name": "ProgressView",
      "bar_style": "success",
      "description": "7/10(t): 100%",
      "description_tooltip": null,
      "layout": "IPY_MODEL_317f38bd8e8a4506bd635783832bc9e3",
      "max": 1565,
      "min": 0,
      "orientation": "horizontal",
      "style": "IPY_MODEL_e8c5dc146b5b4f84999bb358c463a183",
      "value": 1565
     }
    },
    "abeacd75a74c45d7a65d3bd8f4b8fd5a": {
     "model_module": "@jupyter-widgets/base",
     "model_name": "LayoutModel",
     "state": {
      "_model_module": "@jupyter-widgets/base",
      "_model_module_version": "1.2.0",
      "_model_name": "LayoutModel",
      "_view_count": null,
      "_view_module": "@jupyter-widgets/base",
      "_view_module_version": "1.2.0",
      "_view_name": "LayoutView",
      "align_content": null,
      "align_items": null,
      "align_self": null,
      "border": null,
      "bottom": null,
      "display": null,
      "flex": null,
      "flex_flow": null,
      "grid_area": null,
      "grid_auto_columns": null,
      "grid_auto_flow": null,
      "grid_auto_rows": null,
      "grid_column": null,
      "grid_gap": null,
      "grid_row": null,
      "grid_template_areas": null,
      "grid_template_columns": null,
      "grid_template_rows": null,
      "height": null,
      "justify_content": null,
      "justify_items": null,
      "left": null,
      "margin": null,
      "max_height": null,
      "max_width": null,
      "min_height": null,
      "min_width": null,
      "object_fit": null,
      "object_position": null,
      "order": null,
      "overflow": null,
      "overflow_x": null,
      "overflow_y": null,
      "padding": null,
      "right": null,
      "top": null,
      "visibility": null,
      "width": null
     }
    },
    "ac80951b5f984390bcbecb849d5158b0": {
     "model_module": "@jupyter-widgets/controls",
     "model_name": "IntProgressModel",
     "state": {
      "_dom_classes": [],
      "_model_module": "@jupyter-widgets/controls",
      "_model_module_version": "1.5.0",
      "_model_name": "IntProgressModel",
      "_view_count": null,
      "_view_module": "@jupyter-widgets/controls",
      "_view_module_version": "1.5.0",
      "_view_name": "ProgressView",
      "bar_style": "success",
      "description": "",
      "description_tooltip": null,
      "layout": "IPY_MODEL_4c6437182051406cab5e1cd6b646350e",
      "max": 1,
      "min": 0,
      "orientation": "horizontal",
      "style": "IPY_MODEL_26134d9b8cdf4eb99a5177e47c9cb8d5",
      "value": 1
     }
    },
    "add76a342c134aa9aa6267f5910ac1c4": {
     "model_module": "@jupyter-widgets/base",
     "model_name": "LayoutModel",
     "state": {
      "_model_module": "@jupyter-widgets/base",
      "_model_module_version": "1.2.0",
      "_model_name": "LayoutModel",
      "_view_count": null,
      "_view_module": "@jupyter-widgets/base",
      "_view_module_version": "1.2.0",
      "_view_name": "LayoutView",
      "align_content": null,
      "align_items": null,
      "align_self": null,
      "border": null,
      "bottom": null,
      "display": null,
      "flex": null,
      "flex_flow": null,
      "grid_area": null,
      "grid_auto_columns": null,
      "grid_auto_flow": null,
      "grid_auto_rows": null,
      "grid_column": null,
      "grid_gap": null,
      "grid_row": null,
      "grid_template_areas": null,
      "grid_template_columns": null,
      "grid_template_rows": null,
      "height": null,
      "justify_content": null,
      "justify_items": null,
      "left": null,
      "margin": null,
      "max_height": null,
      "max_width": null,
      "min_height": null,
      "min_width": null,
      "object_fit": null,
      "object_position": null,
      "order": null,
      "overflow": null,
      "overflow_x": null,
      "overflow_y": null,
      "padding": null,
      "right": null,
      "top": null,
      "visibility": null,
      "width": null
     }
    },
    "ae5b8dae77bd4fdf92f953bfff72892d": {
     "model_module": "@jupyter-widgets/controls",
     "model_name": "HTMLModel",
     "state": {
      "_dom_classes": [],
      "_model_module": "@jupyter-widgets/controls",
      "_model_module_version": "1.5.0",
      "_model_name": "HTMLModel",
      "_view_count": null,
      "_view_module": "@jupyter-widgets/controls",
      "_view_module_version": "1.5.0",
      "_view_name": "HTMLView",
      "description": "",
      "description_tooltip": null,
      "layout": "IPY_MODEL_abeacd75a74c45d7a65d3bd8f4b8fd5a",
      "placeholder": "​",
      "style": "IPY_MODEL_4940fd4a51de45f4875b67bb41c9a193",
      "value": " 1565/1565 [01:20&lt;00:00, 19.48it/s, loss=1.4754, running_loss=1.4777]"
     }
    },
    "b1d7c0d5f60f4e3fa46b70924f904403": {
     "model_module": "@jupyter-widgets/controls",
     "model_name": "HTMLModel",
     "state": {
      "_dom_classes": [],
      "_model_module": "@jupyter-widgets/controls",
      "_model_module_version": "1.5.0",
      "_model_name": "HTMLModel",
      "_view_count": null,
      "_view_module": "@jupyter-widgets/controls",
      "_view_module_version": "1.5.0",
      "_view_name": "HTMLView",
      "description": "",
      "description_tooltip": null,
      "layout": "IPY_MODEL_f690edf5739c41aba9c5b3bae12c1705",
      "placeholder": "​",
      "style": "IPY_MODEL_66fd7fa8b2c64a3aa5fec2e7dfaf931d",
      "value": " 1565/1565 [01:13&lt;00:00, 21.28it/s, loss=1.4735, running_loss=1.4839]"
     }
    },
    "b4114b2db774486ebe1cdbfdbe4e75a3": {
     "model_module": "@jupyter-widgets/controls",
     "model_name": "IntProgressModel",
     "state": {
      "_dom_classes": [],
      "_model_module": "@jupyter-widgets/controls",
      "_model_module_version": "1.5.0",
      "_model_name": "IntProgressModel",
      "_view_count": null,
      "_view_module": "@jupyter-widgets/controls",
      "_view_module_version": "1.5.0",
      "_view_name": "ProgressView",
      "bar_style": "success",
      "description": "6/10(t): 100%",
      "description_tooltip": null,
      "layout": "IPY_MODEL_1dd5b361049b4f85a3745d26d8e88476",
      "max": 1565,
      "min": 0,
      "orientation": "horizontal",
      "style": "IPY_MODEL_3d5f56d306234a85a565aa94f8efb125",
      "value": 1565
     }
    },
    "b7482c2e1c964677a738a5c97f906619": {
     "model_module": "@jupyter-widgets/controls",
     "model_name": "HBoxModel",
     "state": {
      "_dom_classes": [],
      "_model_module": "@jupyter-widgets/controls",
      "_model_module_version": "1.5.0",
      "_model_name": "HBoxModel",
      "_view_count": null,
      "_view_module": "@jupyter-widgets/controls",
      "_view_module_version": "1.5.0",
      "_view_name": "HBoxView",
      "box_style": "",
      "children": [
       "IPY_MODEL_217ba0ab63ee4663ac2640b63d1c976a",
       "IPY_MODEL_ae5b8dae77bd4fdf92f953bfff72892d"
      ],
      "layout": "IPY_MODEL_04eb902e88b847768621815a189c49dc"
     }
    },
    "bb9b2b4a5ad34c2d9c355c6136834e9c": {
     "model_module": "@jupyter-widgets/base",
     "model_name": "LayoutModel",
     "state": {
      "_model_module": "@jupyter-widgets/base",
      "_model_module_version": "1.2.0",
      "_model_name": "LayoutModel",
      "_view_count": null,
      "_view_module": "@jupyter-widgets/base",
      "_view_module_version": "1.2.0",
      "_view_name": "LayoutView",
      "align_content": null,
      "align_items": null,
      "align_self": null,
      "border": null,
      "bottom": null,
      "display": null,
      "flex": null,
      "flex_flow": null,
      "grid_area": null,
      "grid_auto_columns": null,
      "grid_auto_flow": null,
      "grid_auto_rows": null,
      "grid_column": null,
      "grid_gap": null,
      "grid_row": null,
      "grid_template_areas": null,
      "grid_template_columns": null,
      "grid_template_rows": null,
      "height": null,
      "justify_content": null,
      "justify_items": null,
      "left": null,
      "margin": null,
      "max_height": null,
      "max_width": null,
      "min_height": null,
      "min_width": null,
      "object_fit": null,
      "object_position": null,
      "order": null,
      "overflow": null,
      "overflow_x": null,
      "overflow_y": null,
      "padding": null,
      "right": null,
      "top": null,
      "visibility": null,
      "width": null
     }
    },
    "c447ca935a4943d081499bf3b1da5f48": {
     "model_module": "@jupyter-widgets/controls",
     "model_name": "ProgressStyleModel",
     "state": {
      "_model_module": "@jupyter-widgets/controls",
      "_model_module_version": "1.5.0",
      "_model_name": "ProgressStyleModel",
      "_view_count": null,
      "_view_module": "@jupyter-widgets/base",
      "_view_module_version": "1.2.0",
      "_view_name": "StyleView",
      "bar_color": null,
      "description_width": "initial"
     }
    },
    "c726e0eadc4149b3ad0df1d3cb3b1a2f": {
     "model_module": "@jupyter-widgets/controls",
     "model_name": "HBoxModel",
     "state": {
      "_dom_classes": [],
      "_model_module": "@jupyter-widgets/controls",
      "_model_module_version": "1.5.0",
      "_model_name": "HBoxModel",
      "_view_count": null,
      "_view_module": "@jupyter-widgets/controls",
      "_view_module_version": "1.5.0",
      "_view_name": "HBoxView",
      "box_style": "",
      "children": [
       "IPY_MODEL_8cfe6f842e4942ef8dd948bb9bcd6610",
       "IPY_MODEL_2f139023f9cb411aaa380c3ba3e7d064"
      ],
      "layout": "IPY_MODEL_a30d3db6d83d4473ae8dce6b351d3a44"
     }
    },
    "c7898c0b79654d3588fad634a317b242": {
     "model_module": "@jupyter-widgets/base",
     "model_name": "LayoutModel",
     "state": {
      "_model_module": "@jupyter-widgets/base",
      "_model_module_version": "1.2.0",
      "_model_name": "LayoutModel",
      "_view_count": null,
      "_view_module": "@jupyter-widgets/base",
      "_view_module_version": "1.2.0",
      "_view_name": "LayoutView",
      "align_content": null,
      "align_items": null,
      "align_self": null,
      "border": null,
      "bottom": null,
      "display": null,
      "flex": null,
      "flex_flow": null,
      "grid_area": null,
      "grid_auto_columns": null,
      "grid_auto_flow": null,
      "grid_auto_rows": null,
      "grid_column": null,
      "grid_gap": null,
      "grid_row": null,
      "grid_template_areas": null,
      "grid_template_columns": null,
      "grid_template_rows": null,
      "height": null,
      "justify_content": null,
      "justify_items": null,
      "left": null,
      "margin": null,
      "max_height": null,
      "max_width": null,
      "min_height": null,
      "min_width": null,
      "object_fit": null,
      "object_position": null,
      "order": null,
      "overflow": null,
      "overflow_x": null,
      "overflow_y": null,
      "padding": null,
      "right": null,
      "top": null,
      "visibility": null,
      "width": null
     }
    },
    "cbf0f1684248412f83d8680105c87b9a": {
     "model_module": "@jupyter-widgets/controls",
     "model_name": "HTMLModel",
     "state": {
      "_dom_classes": [],
      "_model_module": "@jupyter-widgets/controls",
      "_model_module_version": "1.5.0",
      "_model_name": "HTMLModel",
      "_view_count": null,
      "_view_module": "@jupyter-widgets/controls",
      "_view_module_version": "1.5.0",
      "_view_name": "HTMLView",
      "description": "",
      "description_tooltip": null,
      "layout": "IPY_MODEL_bb9b2b4a5ad34c2d9c355c6136834e9c",
      "placeholder": "​",
      "style": "IPY_MODEL_dd31ad3a9d784fbeb27e674528d98844",
      "value": " 1565/1565 [01:14&lt;00:00, 20.89it/s, loss=1.5416, running_loss=1.5316]"
     }
    },
    "d09c90690a1141a38aacd13feb51c6fd": {
     "model_module": "@jupyter-widgets/controls",
     "model_name": "HBoxModel",
     "state": {
      "_dom_classes": [],
      "_model_module": "@jupyter-widgets/controls",
      "_model_module_version": "1.5.0",
      "_model_name": "HBoxModel",
      "_view_count": null,
      "_view_module": "@jupyter-widgets/controls",
      "_view_module_version": "1.5.0",
      "_view_name": "HBoxView",
      "box_style": "",
      "children": [
       "IPY_MODEL_27c20d1d63ad4850accaa61e84b3c9b9",
       "IPY_MODEL_b1d7c0d5f60f4e3fa46b70924f904403"
      ],
      "layout": "IPY_MODEL_4d45df08563949c689d2b6e1529107fe"
     }
    },
    "d0f7d82574964685aedc8719e88b041d": {
     "model_module": "@jupyter-widgets/base",
     "model_name": "LayoutModel",
     "state": {
      "_model_module": "@jupyter-widgets/base",
      "_model_module_version": "1.2.0",
      "_model_name": "LayoutModel",
      "_view_count": null,
      "_view_module": "@jupyter-widgets/base",
      "_view_module_version": "1.2.0",
      "_view_name": "LayoutView",
      "align_content": null,
      "align_items": null,
      "align_self": null,
      "border": null,
      "bottom": null,
      "display": null,
      "flex": null,
      "flex_flow": null,
      "grid_area": null,
      "grid_auto_columns": null,
      "grid_auto_flow": null,
      "grid_auto_rows": null,
      "grid_column": null,
      "grid_gap": null,
      "grid_row": null,
      "grid_template_areas": null,
      "grid_template_columns": null,
      "grid_template_rows": null,
      "height": null,
      "justify_content": null,
      "justify_items": null,
      "left": null,
      "margin": null,
      "max_height": null,
      "max_width": null,
      "min_height": null,
      "min_width": null,
      "object_fit": null,
      "object_position": null,
      "order": null,
      "overflow": null,
      "overflow_x": null,
      "overflow_y": null,
      "padding": null,
      "right": null,
      "top": null,
      "visibility": null,
      "width": null
     }
    },
    "d3e026f948ca40f79c2235930c15b203": {
     "model_module": "@jupyter-widgets/controls",
     "model_name": "DescriptionStyleModel",
     "state": {
      "_model_module": "@jupyter-widgets/controls",
      "_model_module_version": "1.5.0",
      "_model_name": "DescriptionStyleModel",
      "_view_count": null,
      "_view_module": "@jupyter-widgets/base",
      "_view_module_version": "1.2.0",
      "_view_name": "StyleView",
      "description_width": ""
     }
    },
    "d5d3c1a086fe4bb2bda218f90421659a": {
     "model_module": "@jupyter-widgets/controls",
     "model_name": "ProgressStyleModel",
     "state": {
      "_model_module": "@jupyter-widgets/controls",
      "_model_module_version": "1.5.0",
      "_model_name": "ProgressStyleModel",
      "_view_count": null,
      "_view_module": "@jupyter-widgets/base",
      "_view_module_version": "1.2.0",
      "_view_name": "StyleView",
      "bar_color": null,
      "description_width": "initial"
     }
    },
    "d6de919851bf494fafd329bc32fba211": {
     "model_module": "@jupyter-widgets/controls",
     "model_name": "ProgressStyleModel",
     "state": {
      "_model_module": "@jupyter-widgets/controls",
      "_model_module_version": "1.5.0",
      "_model_name": "ProgressStyleModel",
      "_view_count": null,
      "_view_module": "@jupyter-widgets/base",
      "_view_module_version": "1.2.0",
      "_view_name": "StyleView",
      "bar_color": null,
      "description_width": "initial"
     }
    },
    "d7e91a4105944fbaa55f5a2b6e048d73": {
     "model_module": "@jupyter-widgets/controls",
     "model_name": "DescriptionStyleModel",
     "state": {
      "_model_module": "@jupyter-widgets/controls",
      "_model_module_version": "1.5.0",
      "_model_name": "DescriptionStyleModel",
      "_view_count": null,
      "_view_module": "@jupyter-widgets/base",
      "_view_module_version": "1.2.0",
      "_view_name": "StyleView",
      "description_width": ""
     }
    },
    "dbbdd463cc754e34a6368d03a03ef4f5": {
     "model_module": "@jupyter-widgets/controls",
     "model_name": "ProgressStyleModel",
     "state": {
      "_model_module": "@jupyter-widgets/controls",
      "_model_module_version": "1.5.0",
      "_model_name": "ProgressStyleModel",
      "_view_count": null,
      "_view_module": "@jupyter-widgets/base",
      "_view_module_version": "1.2.0",
      "_view_name": "StyleView",
      "bar_color": null,
      "description_width": "initial"
     }
    },
    "dcda47343773498ea6b99e16aab8f05d": {
     "model_module": "@jupyter-widgets/base",
     "model_name": "LayoutModel",
     "state": {
      "_model_module": "@jupyter-widgets/base",
      "_model_module_version": "1.2.0",
      "_model_name": "LayoutModel",
      "_view_count": null,
      "_view_module": "@jupyter-widgets/base",
      "_view_module_version": "1.2.0",
      "_view_name": "LayoutView",
      "align_content": null,
      "align_items": null,
      "align_self": null,
      "border": null,
      "bottom": null,
      "display": null,
      "flex": null,
      "flex_flow": null,
      "grid_area": null,
      "grid_auto_columns": null,
      "grid_auto_flow": null,
      "grid_auto_rows": null,
      "grid_column": null,
      "grid_gap": null,
      "grid_row": null,
      "grid_template_areas": null,
      "grid_template_columns": null,
      "grid_template_rows": null,
      "height": null,
      "justify_content": null,
      "justify_items": null,
      "left": null,
      "margin": null,
      "max_height": null,
      "max_width": null,
      "min_height": null,
      "min_width": null,
      "object_fit": null,
      "object_position": null,
      "order": null,
      "overflow": null,
      "overflow_x": null,
      "overflow_y": null,
      "padding": null,
      "right": null,
      "top": null,
      "visibility": null,
      "width": null
     }
    },
    "dd31ad3a9d784fbeb27e674528d98844": {
     "model_module": "@jupyter-widgets/controls",
     "model_name": "DescriptionStyleModel",
     "state": {
      "_model_module": "@jupyter-widgets/controls",
      "_model_module_version": "1.5.0",
      "_model_name": "DescriptionStyleModel",
      "_view_count": null,
      "_view_module": "@jupyter-widgets/base",
      "_view_module_version": "1.2.0",
      "_view_name": "StyleView",
      "description_width": ""
     }
    },
    "dfa91918c3454727985cf932f4034c13": {
     "model_module": "@jupyter-widgets/controls",
     "model_name": "HTMLModel",
     "state": {
      "_dom_classes": [],
      "_model_module": "@jupyter-widgets/controls",
      "_model_module_version": "1.5.0",
      "_model_name": "HTMLModel",
      "_view_count": null,
      "_view_module": "@jupyter-widgets/controls",
      "_view_module_version": "1.5.0",
      "_view_name": "HTMLView",
      "description": "",
      "description_tooltip": null,
      "layout": "IPY_MODEL_11d6eeff1dcc4553b2085c403a273440",
      "placeholder": "​",
      "style": "IPY_MODEL_2c68f799605046a49887a0ac93bf347e",
      "value": " 1565/1565 [01:14&lt;00:00, 21.04it/s, loss=1.4934, running_loss=1.5146]"
     }
    },
    "e47ad396a9cb4c60b4b1db4f8e5a2ece": {
     "model_module": "@jupyter-widgets/base",
     "model_name": "LayoutModel",
     "state": {
      "_model_module": "@jupyter-widgets/base",
      "_model_module_version": "1.2.0",
      "_model_name": "LayoutModel",
      "_view_count": null,
      "_view_module": "@jupyter-widgets/base",
      "_view_module_version": "1.2.0",
      "_view_name": "LayoutView",
      "align_content": null,
      "align_items": null,
      "align_self": null,
      "border": null,
      "bottom": null,
      "display": null,
      "flex": null,
      "flex_flow": null,
      "grid_area": null,
      "grid_auto_columns": null,
      "grid_auto_flow": null,
      "grid_auto_rows": null,
      "grid_column": null,
      "grid_gap": null,
      "grid_row": null,
      "grid_template_areas": null,
      "grid_template_columns": null,
      "grid_template_rows": null,
      "height": null,
      "justify_content": null,
      "justify_items": null,
      "left": null,
      "margin": null,
      "max_height": null,
      "max_width": null,
      "min_height": null,
      "min_width": null,
      "object_fit": null,
      "object_position": null,
      "order": null,
      "overflow": null,
      "overflow_x": null,
      "overflow_y": null,
      "padding": null,
      "right": null,
      "top": null,
      "visibility": null,
      "width": null
     }
    },
    "e8c5dc146b5b4f84999bb358c463a183": {
     "model_module": "@jupyter-widgets/controls",
     "model_name": "ProgressStyleModel",
     "state": {
      "_model_module": "@jupyter-widgets/controls",
      "_model_module_version": "1.5.0",
      "_model_name": "ProgressStyleModel",
      "_view_count": null,
      "_view_module": "@jupyter-widgets/base",
      "_view_module_version": "1.2.0",
      "_view_name": "StyleView",
      "bar_color": null,
      "description_width": "initial"
     }
    },
    "ea5a2ecb581e499abcd735ba60fc8169": {
     "model_module": "@jupyter-widgets/controls",
     "model_name": "HBoxModel",
     "state": {
      "_dom_classes": [],
      "_model_module": "@jupyter-widgets/controls",
      "_model_module_version": "1.5.0",
      "_model_name": "HBoxModel",
      "_view_count": null,
      "_view_module": "@jupyter-widgets/controls",
      "_view_module_version": "1.5.0",
      "_view_name": "HBoxView",
      "box_style": "",
      "children": [
       "IPY_MODEL_a0a78fa14a8a4331b44ffe23307cebc5",
       "IPY_MODEL_fdfc638252ce40ab9d4f4f999ac4cb6c"
      ],
      "layout": "IPY_MODEL_9d4a243ceee74e619baaa533c745641f"
     }
    },
    "eab0f8e7bc434bf59600a00cc88c5ce7": {
     "model_module": "@jupyter-widgets/base",
     "model_name": "LayoutModel",
     "state": {
      "_model_module": "@jupyter-widgets/base",
      "_model_module_version": "1.2.0",
      "_model_name": "LayoutModel",
      "_view_count": null,
      "_view_module": "@jupyter-widgets/base",
      "_view_module_version": "1.2.0",
      "_view_name": "LayoutView",
      "align_content": null,
      "align_items": null,
      "align_self": null,
      "border": null,
      "bottom": null,
      "display": null,
      "flex": null,
      "flex_flow": null,
      "grid_area": null,
      "grid_auto_columns": null,
      "grid_auto_flow": null,
      "grid_auto_rows": null,
      "grid_column": null,
      "grid_gap": null,
      "grid_row": null,
      "grid_template_areas": null,
      "grid_template_columns": null,
      "grid_template_rows": null,
      "height": null,
      "justify_content": null,
      "justify_items": null,
      "left": null,
      "margin": null,
      "max_height": null,
      "max_width": null,
      "min_height": null,
      "min_width": null,
      "object_fit": null,
      "object_position": null,
      "order": null,
      "overflow": null,
      "overflow_x": null,
      "overflow_y": null,
      "padding": null,
      "right": null,
      "top": null,
      "visibility": null,
      "width": null
     }
    },
    "efe54b99d36747f78165060fba52009e": {
     "model_module": "@jupyter-widgets/controls",
     "model_name": "ProgressStyleModel",
     "state": {
      "_model_module": "@jupyter-widgets/controls",
      "_model_module_version": "1.5.0",
      "_model_name": "ProgressStyleModel",
      "_view_count": null,
      "_view_module": "@jupyter-widgets/base",
      "_view_module_version": "1.2.0",
      "_view_name": "StyleView",
      "bar_color": null,
      "description_width": "initial"
     }
    },
    "f0b03db6226c407481126b5cfed5ab3c": {
     "model_module": "@jupyter-widgets/controls",
     "model_name": "DescriptionStyleModel",
     "state": {
      "_model_module": "@jupyter-widgets/controls",
      "_model_module_version": "1.5.0",
      "_model_name": "DescriptionStyleModel",
      "_view_count": null,
      "_view_module": "@jupyter-widgets/base",
      "_view_module_version": "1.2.0",
      "_view_name": "StyleView",
      "description_width": ""
     }
    },
    "f690edf5739c41aba9c5b3bae12c1705": {
     "model_module": "@jupyter-widgets/base",
     "model_name": "LayoutModel",
     "state": {
      "_model_module": "@jupyter-widgets/base",
      "_model_module_version": "1.2.0",
      "_model_name": "LayoutModel",
      "_view_count": null,
      "_view_module": "@jupyter-widgets/base",
      "_view_module_version": "1.2.0",
      "_view_name": "LayoutView",
      "align_content": null,
      "align_items": null,
      "align_self": null,
      "border": null,
      "bottom": null,
      "display": null,
      "flex": null,
      "flex_flow": null,
      "grid_area": null,
      "grid_auto_columns": null,
      "grid_auto_flow": null,
      "grid_auto_rows": null,
      "grid_column": null,
      "grid_gap": null,
      "grid_row": null,
      "grid_template_areas": null,
      "grid_template_columns": null,
      "grid_template_rows": null,
      "height": null,
      "justify_content": null,
      "justify_items": null,
      "left": null,
      "margin": null,
      "max_height": null,
      "max_width": null,
      "min_height": null,
      "min_width": null,
      "object_fit": null,
      "object_position": null,
      "order": null,
      "overflow": null,
      "overflow_x": null,
      "overflow_y": null,
      "padding": null,
      "right": null,
      "top": null,
      "visibility": null,
      "width": null
     }
    },
    "f9eb8e9848b240ffb842c7bb4fe95e90": {
     "model_module": "@jupyter-widgets/controls",
     "model_name": "IntProgressModel",
     "state": {
      "_dom_classes": [],
      "_model_module": "@jupyter-widgets/controls",
      "_model_module_version": "1.5.0",
      "_model_name": "IntProgressModel",
      "_view_count": null,
      "_view_module": "@jupyter-widgets/controls",
      "_view_module_version": "1.5.0",
      "_view_name": "ProgressView",
      "bar_style": "success",
      "description": "1/10(t): 100%",
      "description_tooltip": null,
      "layout": "IPY_MODEL_add76a342c134aa9aa6267f5910ac1c4",
      "max": 1565,
      "min": 0,
      "orientation": "horizontal",
      "style": "IPY_MODEL_12697fd3bacd455eb1b40125434c962c",
      "value": 1565
     }
    },
    "fa66bfb1026048f4ab44bfcc5860db46": {
     "model_module": "@jupyter-widgets/controls",
     "model_name": "HBoxModel",
     "state": {
      "_dom_classes": [],
      "_model_module": "@jupyter-widgets/controls",
      "_model_module_version": "1.5.0",
      "_model_name": "HBoxModel",
      "_view_count": null,
      "_view_module": "@jupyter-widgets/controls",
      "_view_module_version": "1.5.0",
      "_view_name": "HBoxView",
      "box_style": "",
      "children": [
       "IPY_MODEL_4a96f2cfe22a4aa6883ed42fa5f8a4ff",
       "IPY_MODEL_9c57553747834aa2bfe0f4ff272b422f"
      ],
      "layout": "IPY_MODEL_14e8daccef6a4f43bbb6491f98ad2203"
     }
    },
    "fdfc638252ce40ab9d4f4f999ac4cb6c": {
     "model_module": "@jupyter-widgets/controls",
     "model_name": "HTMLModel",
     "state": {
      "_dom_classes": [],
      "_model_module": "@jupyter-widgets/controls",
      "_model_module_version": "1.5.0",
      "_model_name": "HTMLModel",
      "_view_count": null,
      "_view_module": "@jupyter-widgets/controls",
      "_view_module_version": "1.5.0",
      "_view_name": "HTMLView",
      "description": "",
      "description_tooltip": null,
      "layout": "IPY_MODEL_582f376d0e2a4712b325e7befa37ae1e",
      "placeholder": "​",
      "style": "IPY_MODEL_0b627b79bc534f38ad152ad646876ada",
      "value": " 1565/1565 [01:14&lt;00:00, 20.87it/s, loss=1.5178, running_loss=1.5462]"
     }
    }
   }
  }
 },
 "nbformat": 4,
 "nbformat_minor": 4
}
