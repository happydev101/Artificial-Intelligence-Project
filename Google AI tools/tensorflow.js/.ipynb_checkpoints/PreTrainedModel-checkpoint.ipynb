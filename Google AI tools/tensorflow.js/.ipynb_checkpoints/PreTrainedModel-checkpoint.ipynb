{
 "cells": [
  {
   "cell_type": "markdown",
   "metadata": {},
   "source": [
    "**Pima Indians Diabetes Database**"
   ]
  },
  {
   "cell_type": "markdown",
   "metadata": {},
   "source": [
    "In this example, I first load the Pima Indian Dataset and I then train a Multi Layer Perceptron using Tensorflow Eager Execution (executes operations immediately, without building graphs: operations return concrete values instead of constructing a computational graph to run later). Finally I will save the trained model and deploy it dirently online to make predictions."
   ]
  },
  {
   "cell_type": "markdown",
   "metadata": {},
   "source": [
    "**Preprocessing**"
   ]
  },
  {
   "cell_type": "code",
   "execution_count": 1,
   "metadata": {
    "_cell_guid": "b1076dfc-b9ad-4769-8c92-a6c4dae69d19",
    "_uuid": "8f2839f25d086af736a60e9eeb907d3b93b6e0e5"
   },
   "outputs": [
    {
     "name": "stderr",
     "output_type": "stream",
     "text": [
      "Using TensorFlow backend.\n"
     ]
    }
   ],
   "source": [
    "import tensorflowjs as tfjs\n",
    "import tensorflow as tf\n",
    "import numpy as np # linear algebra\n",
    "import pandas as pd # data processing, CSV file I/O (e.g. pd.read_csv)\n",
    "from keras.utils import np_utils"
   ]
  },
  {
   "cell_type": "code",
   "execution_count": 2,
   "metadata": {},
   "outputs": [
    {
     "name": "stdout",
     "output_type": "stream",
     "text": [
      "1.14.0\n"
     ]
    }
   ],
   "source": [
    "print(tf.__version__)"
   ]
  },
  {
   "cell_type": "code",
   "execution_count": 3,
   "metadata": {
    "_cell_guid": "79c7e3d0-c299-4dcb-8224-4455121ee9b0",
    "_uuid": "d629ff2d2480ee46fbb7e2d37f6b5fab8052498a"
   },
   "outputs": [
    {
     "data": {
      "text/html": [
       "<div>\n",
       "<style scoped>\n",
       "    .dataframe tbody tr th:only-of-type {\n",
       "        vertical-align: middle;\n",
       "    }\n",
       "\n",
       "    .dataframe tbody tr th {\n",
       "        vertical-align: top;\n",
       "    }\n",
       "\n",
       "    .dataframe thead th {\n",
       "        text-align: right;\n",
       "    }\n",
       "</style>\n",
       "<table border=\"1\" class=\"dataframe\">\n",
       "  <thead>\n",
       "    <tr style=\"text-align: right;\">\n",
       "      <th></th>\n",
       "      <th>Pregnancies</th>\n",
       "      <th>Glucose</th>\n",
       "      <th>BloodPressure</th>\n",
       "      <th>SkinThickness</th>\n",
       "      <th>Insulin</th>\n",
       "      <th>BMI</th>\n",
       "      <th>DiabetesPedigreeFunction</th>\n",
       "      <th>Age</th>\n",
       "      <th>Outcome</th>\n",
       "    </tr>\n",
       "  </thead>\n",
       "  <tbody>\n",
       "    <tr>\n",
       "      <th>0</th>\n",
       "      <td>6</td>\n",
       "      <td>148</td>\n",
       "      <td>72</td>\n",
       "      <td>35</td>\n",
       "      <td>0</td>\n",
       "      <td>33.6</td>\n",
       "      <td>0.627</td>\n",
       "      <td>50</td>\n",
       "      <td>1</td>\n",
       "    </tr>\n",
       "    <tr>\n",
       "      <th>1</th>\n",
       "      <td>1</td>\n",
       "      <td>85</td>\n",
       "      <td>66</td>\n",
       "      <td>29</td>\n",
       "      <td>0</td>\n",
       "      <td>26.6</td>\n",
       "      <td>0.351</td>\n",
       "      <td>31</td>\n",
       "      <td>0</td>\n",
       "    </tr>\n",
       "    <tr>\n",
       "      <th>2</th>\n",
       "      <td>8</td>\n",
       "      <td>183</td>\n",
       "      <td>64</td>\n",
       "      <td>0</td>\n",
       "      <td>0</td>\n",
       "      <td>23.3</td>\n",
       "      <td>0.672</td>\n",
       "      <td>32</td>\n",
       "      <td>1</td>\n",
       "    </tr>\n",
       "    <tr>\n",
       "      <th>3</th>\n",
       "      <td>1</td>\n",
       "      <td>89</td>\n",
       "      <td>66</td>\n",
       "      <td>23</td>\n",
       "      <td>94</td>\n",
       "      <td>28.1</td>\n",
       "      <td>0.167</td>\n",
       "      <td>21</td>\n",
       "      <td>0</td>\n",
       "    </tr>\n",
       "    <tr>\n",
       "      <th>4</th>\n",
       "      <td>0</td>\n",
       "      <td>137</td>\n",
       "      <td>40</td>\n",
       "      <td>35</td>\n",
       "      <td>168</td>\n",
       "      <td>43.1</td>\n",
       "      <td>2.288</td>\n",
       "      <td>33</td>\n",
       "      <td>1</td>\n",
       "    </tr>\n",
       "  </tbody>\n",
       "</table>\n",
       "</div>"
      ],
      "text/plain": [
       "   Pregnancies  Glucose  BloodPressure  SkinThickness  Insulin   BMI  \\\n",
       "0            6      148             72             35        0  33.6   \n",
       "1            1       85             66             29        0  26.6   \n",
       "2            8      183             64              0        0  23.3   \n",
       "3            1       89             66             23       94  28.1   \n",
       "4            0      137             40             35      168  43.1   \n",
       "\n",
       "   DiabetesPedigreeFunction  Age  Outcome  \n",
       "0                     0.627   50        1  \n",
       "1                     0.351   31        0  \n",
       "2                     0.672   32        1  \n",
       "3                     0.167   21        0  \n",
       "4                     2.288   33        1  "
      ]
     },
     "execution_count": 3,
     "metadata": {},
     "output_type": "execute_result"
    }
   ],
   "source": [
    "import warnings\n",
    "warnings.filterwarnings('ignore')\n",
    "\n",
    "df = pd.read_csv(\"pima_indian_data.csv\")\n",
    "#df = df.drop('Unnamed: 0', axis=1)\n",
    "df.head()\n",
    "# print(df.shape)\n",
    "# print(df.columns)"
   ]
  },
  {
   "cell_type": "code",
   "execution_count": 4,
   "metadata": {},
   "outputs": [],
   "source": [
    "#df.to_csv(\"pima.csv\", index=False)"
   ]
  },
  {
   "cell_type": "markdown",
   "metadata": {},
   "source": [
    "**Data Visualization**"
   ]
  },
  {
   "cell_type": "code",
   "execution_count": 5,
   "metadata": {},
   "outputs": [],
   "source": [
    "import seaborn as sns\n",
    "import matplotlib.pyplot as plt"
   ]
  },
  {
   "cell_type": "code",
   "execution_count": 6,
   "metadata": {},
   "outputs": [
    {
     "data": {
      "text/plain": [
       "<matplotlib.axes._subplots.AxesSubplot at 0x27a18748978>"
      ]
     },
     "execution_count": 6,
     "metadata": {},
     "output_type": "execute_result"
    },
    {
     "data": {
      "image/png": "[encoded data removed]",
      "text/plain": [
       "<Figure size 432x288 with 2 Axes>"
      ]
     },
     "metadata": {
      "needs_background": "light"
     },
     "output_type": "display_data"
    }
   ],
   "source": [
    "import seaborn as sns\n",
    "\n",
    "corr=df.corr()\n",
    "sns.heatmap(corr, xticklabels=corr.columns.values, yticklabels=corr.columns.values)"
   ]
  },
  {
   "cell_type": "markdown",
   "metadata": {},
   "source": [
    "**Deep Learning**"
   ]
  },
  {
   "cell_type": "code",
   "execution_count": 7,
   "metadata": {},
   "outputs": [],
   "source": [
    "from sklearn.preprocessing import StandardScaler\n",
    "from sklearn.model_selection import train_test_split\n",
    "\n",
    "X = df.drop(['Outcome'], axis = 1).values\n",
    "Y = df['Outcome']\n",
    "\n",
    "X = StandardScaler().fit_transform(X)\n",
    "\n",
    "X_Train, X_Test, Y_Train, Y_Test = train_test_split(X, Y, test_size = 0.30, random_state = 101)"
   ]
  },
  {
   "cell_type": "code",
   "execution_count": 8,
   "metadata": {},
   "outputs": [],
   "source": [
    "from keras.models import Sequential\n",
    "from keras.layers import Dense\n",
    "from keras.callbacks import EarlyStopping\n",
    "from sklearn import preprocessing\n",
    "from sklearn.model_selection import train_test_split\n",
    "from sklearn.metrics import confusion_matrix, classification_report"
   ]
  },
  {
   "cell_type": "code",
   "execution_count": 9,
   "metadata": {},
   "outputs": [
    {
     "name": "stdout",
     "output_type": "stream",
     "text": [
      "Model: \"sequential\"\n",
      "_________________________________________________________________\n",
      "Layer (type)                 Output Shape              Param #   \n",
      "=================================================================\n",
      "dense (Dense)                (None, 20)                180       \n",
      "_________________________________________________________________\n",
      "dense_1 (Dense)              (None, 30)                630       \n",
      "_________________________________________________________________\n",
      "dense_2 (Dense)              (None, 30)                930       \n",
      "_________________________________________________________________\n",
      "dense_3 (Dense)              (None, 10)                310       \n",
      "_________________________________________________________________\n",
      "dense_4 (Dense)              (None, 1)                 11        \n",
      "=================================================================\n",
      "Total params: 2,061\n",
      "Trainable params: 2,061\n",
      "Non-trainable params: 0\n",
      "_________________________________________________________________\n"
     ]
    }
   ],
   "source": [
    "# Initialize the constructor\n",
    "model = tf.keras.Sequential([\n",
    "  tf.keras.layers.Dense(20, activation='relu', input_shape=(8,)),  # must declare input shape\n",
    "  tf.keras.layers.Dense(30, activation='relu'),\n",
    "  tf.keras.layers.Dense(30, activation='relu'),\n",
    "    tf.keras.layers.Dense(10, activation='relu'),\n",
    "  tf.keras.layers.Dense(1, activation='relu')\n",
    "])\n",
    "# Model summary\n",
    "model.summary()"
   ]
  },
  {
   "cell_type": "code",
   "execution_count": 10,
   "metadata": {},
   "outputs": [
    {
     "name": "stderr",
     "output_type": "stream",
     "text": [
      "WARNING: Logging before flag parsing goes to stderr.\n",
      "W0804 20:04:34.299620 15224 deprecation.py:323] From C:\\Users\\hp\\Anaconda3\\lib\\site-packages\\tensorflow\\python\\ops\\math_grad.py:1250: add_dispatch_support.<locals>.wrapper (from tensorflow.python.ops.array_ops) is deprecated and will be removed in a future version.\n",
      "Instructions for updating:\n",
      "Use tf.where in 2.0, which has the same broadcast rule as np.where\n"
     ]
    },
    {
     "name": "stdout",
     "output_type": "stream",
     "text": [
      "Epoch 1/150\n",
      "537/537 [==============================] - 0s 373us/sample - loss: 2.5760 - acc: 0.6518\n",
      "Epoch 2/150\n",
      "537/537 [==============================] - 0s 15us/sample - loss: 1.5932 - acc: 0.6462\n",
      "Epoch 3/150\n",
      "537/537 [==============================] - 0s 17us/sample - loss: 1.0557 - acc: 0.6499\n",
      "Epoch 4/150\n",
      "537/537 [==============================] - 0s 28us/sample - loss: 0.8348 - acc: 0.6462\n",
      "Epoch 5/150\n",
      "537/537 [==============================] - 0s 20us/sample - loss: 0.7185 - acc: 0.6406\n",
      "Epoch 6/150\n",
      "537/537 [==============================] - 0s 13us/sample - loss: 0.6872 - acc: 0.6425\n",
      "Epoch 7/150\n",
      "537/537 [==============================] - 0s 20us/sample - loss: 0.6711 - acc: 0.6425\n",
      "Epoch 8/150\n",
      "537/537 [==============================] - 0s 19us/sample - loss: 0.6604 - acc: 0.6443\n",
      "Epoch 9/150\n",
      "537/537 [==============================] - 0s 17us/sample - loss: 0.6424 - acc: 0.6480\n",
      "Epoch 10/150\n",
      "537/537 [==============================] - 0s 15us/sample - loss: 0.6321 - acc: 0.6443\n",
      "Epoch 11/150\n",
      "537/537 [==============================] - 0s 19us/sample - loss: 0.6237 - acc: 0.6462\n",
      "Epoch 12/150\n",
      "537/537 [==============================] - 0s 22us/sample - loss: 0.6159 - acc: 0.6499\n",
      "Epoch 13/150\n",
      "537/537 [==============================] - 0s 15us/sample - loss: 0.6082 - acc: 0.6518\n",
      "Epoch 14/150\n",
      "537/537 [==============================] - 0s 19us/sample - loss: 0.6007 - acc: 0.6536\n",
      "Epoch 15/150\n",
      "537/537 [==============================] - 0s 17us/sample - loss: 0.5942 - acc: 0.6592\n",
      "Epoch 16/150\n",
      "537/537 [==============================] - 0s 20us/sample - loss: 0.5870 - acc: 0.6629\n",
      "Epoch 17/150\n",
      "537/537 [==============================] - 0s 22us/sample - loss: 0.5802 - acc: 0.6648\n",
      "Epoch 18/150\n",
      "537/537 [==============================] - 0s 20us/sample - loss: 0.5734 - acc: 0.6629\n",
      "Epoch 19/150\n",
      "537/537 [==============================] - 0s 15us/sample - loss: 0.5672 - acc: 0.6648\n",
      "Epoch 20/150\n",
      "537/537 [==============================] - 0s 19us/sample - loss: 0.5610 - acc: 0.6741\n",
      "Epoch 21/150\n",
      "537/537 [==============================] - 0s 19us/sample - loss: 0.5558 - acc: 0.6797\n",
      "Epoch 22/150\n",
      "537/537 [==============================] - 0s 22us/sample - loss: 0.5500 - acc: 0.6872\n",
      "Epoch 23/150\n",
      "537/537 [==============================] - 0s 20us/sample - loss: 0.5446 - acc: 0.6983\n",
      "Epoch 24/150\n",
      "537/537 [==============================] - 0s 15us/sample - loss: 0.5387 - acc: 0.7114\n",
      "Epoch 25/150\n",
      "537/537 [==============================] - 0s 20us/sample - loss: 0.5332 - acc: 0.7207\n",
      "Epoch 26/150\n",
      "537/537 [==============================] - 0s 22us/sample - loss: 0.5290 - acc: 0.7225\n",
      "Epoch 27/150\n",
      "537/537 [==============================] - ETA: 0s - loss: 0.5414 - acc: 0.699 - 0s 15us/sample - loss: 0.5243 - acc: 0.7263\n",
      "Epoch 28/150\n",
      "537/537 [==============================] - 0s 20us/sample - loss: 0.5202 - acc: 0.7318\n",
      "Epoch 29/150\n",
      "537/537 [==============================] - 0s 11us/sample - loss: 0.5160 - acc: 0.7263\n",
      "Epoch 30/150\n",
      "537/537 [==============================] - 0s 17us/sample - loss: 0.5124 - acc: 0.7281\n",
      "Epoch 31/150\n",
      "537/537 [==============================] - 0s 19us/sample - loss: 0.5092 - acc: 0.7300\n",
      "Epoch 32/150\n",
      "537/537 [==============================] - 0s 17us/sample - loss: 0.5068 - acc: 0.7393\n",
      "Epoch 33/150\n",
      "537/537 [==============================] - 0s 19us/sample - loss: 0.5043 - acc: 0.7430\n",
      "Epoch 34/150\n",
      "537/537 [==============================] - 0s 15us/sample - loss: 0.5017 - acc: 0.7430\n",
      "Epoch 35/150\n",
      "537/537 [==============================] - 0s 11us/sample - loss: 0.4988 - acc: 0.7430\n",
      "Epoch 36/150\n",
      "537/537 [==============================] - 0s 20us/sample - loss: 0.4956 - acc: 0.7430\n",
      "Epoch 37/150\n",
      "537/537 [==============================] - 0s 15us/sample - loss: 0.4921 - acc: 0.7449\n",
      "Epoch 38/150\n",
      "537/537 [==============================] - 0s 19us/sample - loss: 0.4890 - acc: 0.7430\n",
      "Epoch 39/150\n",
      "537/537 [==============================] - 0s 15us/sample - loss: 0.4868 - acc: 0.7542\n",
      "Epoch 40/150\n",
      "537/537 [==============================] - 0s 15us/sample - loss: 0.4862 - acc: 0.7579\n",
      "Epoch 41/150\n",
      "537/537 [==============================] - 0s 19us/sample - loss: 0.4845 - acc: 0.7635\n",
      "Epoch 42/150\n",
      "537/537 [==============================] - 0s 17us/sample - loss: 0.4820 - acc: 0.7654\n",
      "Epoch 43/150\n",
      "537/537 [==============================] - 0s 13us/sample - loss: 0.4791 - acc: 0.7654\n",
      "Epoch 44/150\n",
      "537/537 [==============================] - 0s 20us/sample - loss: 0.4772 - acc: 0.7598\n",
      "Epoch 45/150\n",
      "537/537 [==============================] - 0s 20us/sample - loss: 0.4764 - acc: 0.7635\n",
      "Epoch 46/150\n",
      "537/537 [==============================] - 0s 11us/sample - loss: 0.4769 - acc: 0.7616\n",
      "Epoch 47/150\n",
      "537/537 [==============================] - 0s 20us/sample - loss: 0.4762 - acc: 0.7616\n",
      "Epoch 48/150\n",
      "537/537 [==============================] - 0s 22us/sample - loss: 0.4730 - acc: 0.7635\n",
      "Epoch 49/150\n",
      "537/537 [==============================] - 0s 15us/sample - loss: 0.4695 - acc: 0.7672\n",
      "Epoch 50/150\n",
      "537/537 [==============================] - 0s 13us/sample - loss: 0.4664 - acc: 0.7654\n",
      "Epoch 51/150\n",
      "537/537 [==============================] - 0s 22us/sample - loss: 0.4638 - acc: 0.7654\n",
      "Epoch 52/150\n",
      "537/537 [==============================] - 0s 13us/sample - loss: 0.4618 - acc: 0.7616\n",
      "Epoch 53/150\n",
      "537/537 [==============================] - 0s 17us/sample - loss: 0.4601 - acc: 0.7672\n",
      "Epoch 54/150\n",
      "537/537 [==============================] - 0s 13us/sample - loss: 0.4581 - acc: 0.7672\n",
      "Epoch 55/150\n",
      "537/537 [==============================] - 0s 19us/sample - loss: 0.4563 - acc: 0.7616\n",
      "Epoch 56/150\n",
      "537/537 [==============================] - 0s 11us/sample - loss: 0.4543 - acc: 0.7672\n",
      "Epoch 57/150\n",
      "537/537 [==============================] - 0s 20us/sample - loss: 0.4531 - acc: 0.7728\n",
      "Epoch 58/150\n",
      "537/537 [==============================] - 0s 20us/sample - loss: 0.4520 - acc: 0.7747\n",
      "Epoch 59/150\n",
      "537/537 [==============================] - 0s 15us/sample - loss: 0.4499 - acc: 0.7747\n",
      "Epoch 60/150\n",
      "537/537 [==============================] - 0s 15us/sample - loss: 0.4492 - acc: 0.7747\n",
      "Epoch 61/150\n",
      "537/537 [==============================] - 0s 17us/sample - loss: 0.4481 - acc: 0.7672\n",
      "Epoch 62/150\n",
      "537/537 [==============================] - 0s 11us/sample - loss: 0.4474 - acc: 0.7672\n",
      "Epoch 63/150\n",
      "537/537 [==============================] - 0s 15us/sample - loss: 0.4461 - acc: 0.7709\n",
      "Epoch 64/150\n",
      "537/537 [==============================] - 0s 19us/sample - loss: 0.4459 - acc: 0.7765\n",
      "Epoch 65/150\n",
      "537/537 [==============================] - 0s 15us/sample - loss: 0.4456 - acc: 0.7784\n",
      "Epoch 66/150\n",
      "537/537 [==============================] - 0s 13us/sample - loss: 0.4450 - acc: 0.7765\n",
      "Epoch 67/150\n",
      "537/537 [==============================] - 0s 15us/sample - loss: 0.4437 - acc: 0.7765\n",
      "Epoch 68/150\n",
      "537/537 [==============================] - 0s 11us/sample - loss: 0.4410 - acc: 0.7803\n",
      "Epoch 69/150\n",
      "537/537 [==============================] - 0s 15us/sample - loss: 0.4392 - acc: 0.7784\n",
      "Epoch 70/150\n",
      "537/537 [==============================] - 0s 13us/sample - loss: 0.4392 - acc: 0.7765\n",
      "Epoch 71/150\n",
      "537/537 [==============================] - 0s 17us/sample - loss: 0.4384 - acc: 0.7728\n",
      "Epoch 72/150\n",
      "537/537 [==============================] - 0s 20us/sample - loss: 0.4375 - acc: 0.7821\n",
      "Epoch 73/150\n",
      "537/537 [==============================] - 0s 13us/sample - loss: 0.4354 - acc: 0.7840\n",
      "Epoch 74/150\n",
      "537/537 [==============================] - 0s 11us/sample - loss: 0.4326 - acc: 0.7858\n",
      "Epoch 75/150\n",
      "537/537 [==============================] - 0s 20us/sample - loss: 0.4314 - acc: 0.7784\n",
      "Epoch 76/150\n",
      "537/537 [==============================] - 0s 17us/sample - loss: 0.4309 - acc: 0.7821\n",
      "Epoch 77/150\n",
      "537/537 [==============================] - 0s 13us/sample - loss: 0.4309 - acc: 0.7840\n",
      "Epoch 78/150\n",
      "537/537 [==============================] - 0s 15us/sample - loss: 0.4272 - acc: 0.7784\n",
      "Epoch 79/150\n",
      "537/537 [==============================] - 0s 17us/sample - loss: 0.4264 - acc: 0.7877\n",
      "Epoch 80/150\n",
      "537/537 [==============================] - 0s 13us/sample - loss: 0.4312 - acc: 0.7933\n",
      "Epoch 81/150\n",
      "537/537 [==============================] - 0s 19us/sample - loss: 0.4336 - acc: 0.7840\n",
      "Epoch 82/150\n"
     ]
    },
    {
     "name": "stdout",
     "output_type": "stream",
     "text": [
      "537/537 [==============================] - 0s 19us/sample - loss: 0.4292 - acc: 0.7896\n",
      "Epoch 83/150\n",
      "537/537 [==============================] - 0s 11us/sample - loss: 0.4250 - acc: 0.7952\n",
      "Epoch 84/150\n",
      "537/537 [==============================] - 0s 22us/sample - loss: 0.4214 - acc: 0.7933\n",
      "Epoch 85/150\n",
      "537/537 [==============================] - 0s 17us/sample - loss: 0.4203 - acc: 0.7914\n",
      "Epoch 86/150\n",
      "537/537 [==============================] - 0s 17us/sample - loss: 0.4205 - acc: 0.7933\n",
      "Epoch 87/150\n",
      "537/537 [==============================] - 0s 20us/sample - loss: 0.4197 - acc: 0.7858\n",
      "Epoch 88/150\n",
      "537/537 [==============================] - 0s 15us/sample - loss: 0.4183 - acc: 0.7821\n",
      "Epoch 89/150\n",
      "537/537 [==============================] - 0s 19us/sample - loss: 0.4172 - acc: 0.7840\n",
      "Epoch 90/150\n",
      "537/537 [==============================] - 0s 19us/sample - loss: 0.4155 - acc: 0.7877\n",
      "Epoch 91/150\n",
      "537/537 [==============================] - 0s 19us/sample - loss: 0.4141 - acc: 0.8007\n",
      "Epoch 92/150\n",
      "537/537 [==============================] - 0s 15us/sample - loss: 0.4134 - acc: 0.7952\n",
      "Epoch 93/150\n",
      "537/537 [==============================] - 0s 15us/sample - loss: 0.4113 - acc: 0.7989\n",
      "Epoch 94/150\n",
      "537/537 [==============================] - 0s 19us/sample - loss: 0.4091 - acc: 0.7970\n",
      "Epoch 95/150\n",
      "537/537 [==============================] - 0s 19us/sample - loss: 0.4073 - acc: 0.7933\n",
      "Epoch 96/150\n",
      "537/537 [==============================] - 0s 20us/sample - loss: 0.4059 - acc: 0.7952\n",
      "Epoch 97/150\n",
      "537/537 [==============================] - 0s 20us/sample - loss: 0.4056 - acc: 0.7877\n",
      "Epoch 98/150\n",
      "537/537 [==============================] - 0s 19us/sample - loss: 0.4048 - acc: 0.7877\n",
      "Epoch 99/150\n",
      "537/537 [==============================] - 0s 17us/sample - loss: 0.4030 - acc: 0.7877\n",
      "Epoch 100/150\n",
      "537/537 [==============================] - 0s 19us/sample - loss: 0.4027 - acc: 0.7952\n",
      "Epoch 101/150\n",
      "537/537 [==============================] - 0s 20us/sample - loss: 0.4053 - acc: 0.7970\n",
      "Epoch 102/150\n",
      "537/537 [==============================] - 0s 15us/sample - loss: 0.4089 - acc: 0.8045\n",
      "Epoch 103/150\n",
      "537/537 [==============================] - 0s 17us/sample - loss: 0.4105 - acc: 0.8007\n",
      "Epoch 104/150\n",
      "537/537 [==============================] - 0s 20us/sample - loss: 0.4058 - acc: 0.7989\n",
      "Epoch 105/150\n",
      "537/537 [==============================] - ETA: 0s - loss: 0.3667 - acc: 0.828 - 0s 17us/sample - loss: 0.3987 - acc: 0.8082\n",
      "Epoch 106/150\n",
      "537/537 [==============================] - 0s 15us/sample - loss: 0.3988 - acc: 0.7952\n",
      "Epoch 107/150\n",
      "537/537 [==============================] - 0s 19us/sample - loss: 0.3996 - acc: 0.7970\n",
      "Epoch 108/150\n",
      "537/537 [==============================] - 0s 30us/sample - loss: 0.3953 - acc: 0.7952\n",
      "Epoch 109/150\n",
      "537/537 [==============================] - 0s 17us/sample - loss: 0.3933 - acc: 0.8063\n",
      "Epoch 110/150\n",
      "537/537 [==============================] - 0s 20us/sample - loss: 0.3945 - acc: 0.8026\n",
      "Epoch 111/150\n",
      "537/537 [==============================] - 0s 11us/sample - loss: 0.3947 - acc: 0.8045\n",
      "Epoch 112/150\n",
      "537/537 [==============================] - 0s 13us/sample - loss: 0.3929 - acc: 0.8063\n",
      "Epoch 113/150\n",
      "537/537 [==============================] - 0s 20us/sample - loss: 0.3916 - acc: 0.8007\n",
      "Epoch 114/150\n",
      "537/537 [==============================] - 0s 13us/sample - loss: 0.3899 - acc: 0.7970\n",
      "Epoch 115/150\n",
      "537/537 [==============================] - 0s 13us/sample - loss: 0.3892 - acc: 0.8026\n",
      "Epoch 116/150\n",
      "537/537 [==============================] - 0s 17us/sample - loss: 0.3882 - acc: 0.8063\n",
      "Epoch 117/150\n",
      "537/537 [==============================] - 0s 13us/sample - loss: 0.3880 - acc: 0.8026\n",
      "Epoch 118/150\n",
      "537/537 [==============================] - 0s 13us/sample - loss: 0.3870 - acc: 0.8119\n",
      "Epoch 119/150\n",
      "537/537 [==============================] - 0s 17us/sample - loss: 0.3865 - acc: 0.8082\n",
      "Epoch 120/150\n",
      "537/537 [==============================] - 0s 11us/sample - loss: 0.3846 - acc: 0.8082\n",
      "Epoch 121/150\n",
      "537/537 [==============================] - 0s 17us/sample - loss: 0.3814 - acc: 0.8101\n",
      "Epoch 122/150\n",
      "537/537 [==============================] - 0s 17us/sample - loss: 0.3792 - acc: 0.8063\n",
      "Epoch 123/150\n",
      "537/537 [==============================] - 0s 13us/sample - loss: 0.3793 - acc: 0.8063\n",
      "Epoch 124/150\n",
      "537/537 [==============================] - 0s 17us/sample - loss: 0.3791 - acc: 0.8045\n",
      "Epoch 125/150\n",
      "537/537 [==============================] - 0s 11us/sample - loss: 0.3772 - acc: 0.8082\n",
      "Epoch 126/150\n",
      "537/537 [==============================] - 0s 15us/sample - loss: 0.3747 - acc: 0.8119\n",
      "Epoch 127/150\n",
      "537/537 [==============================] - 0s 19us/sample - loss: 0.3733 - acc: 0.8119\n",
      "Epoch 128/150\n",
      "537/537 [==============================] - 0s 19us/sample - loss: 0.3727 - acc: 0.8101\n",
      "Epoch 129/150\n",
      "537/537 [==============================] - 0s 15us/sample - loss: 0.3717 - acc: 0.8101\n",
      "Epoch 130/150\n",
      "537/537 [==============================] - 0s 19us/sample - loss: 0.3718 - acc: 0.8175\n",
      "Epoch 131/150\n",
      "537/537 [==============================] - 0s 15us/sample - loss: 0.3716 - acc: 0.8287\n",
      "Epoch 132/150\n",
      "537/537 [==============================] - 0s 15us/sample - loss: 0.3689 - acc: 0.8231\n",
      "Epoch 133/150\n",
      "537/537 [==============================] - 0s 17us/sample - loss: 0.3663 - acc: 0.8194\n",
      "Epoch 134/150\n",
      "537/537 [==============================] - 0s 13us/sample - loss: 0.3683 - acc: 0.8175\n",
      "Epoch 135/150\n",
      "537/537 [==============================] - 0s 11us/sample - loss: 0.3683 - acc: 0.8156\n",
      "Epoch 136/150\n",
      "537/537 [==============================] - 0s 17us/sample - loss: 0.3674 - acc: 0.8194\n",
      "Epoch 137/150\n",
      "537/537 [==============================] - 0s 15us/sample - loss: 0.3657 - acc: 0.8212\n",
      "Epoch 138/150\n",
      "537/537 [==============================] - 0s 15us/sample - loss: 0.3629 - acc: 0.8231\n",
      "Epoch 139/150\n",
      "537/537 [==============================] - 0s 11us/sample - loss: 0.3643 - acc: 0.8175\n",
      "Epoch 140/150\n",
      "537/537 [==============================] - 0s 11us/sample - loss: 0.3654 - acc: 0.8194\n",
      "Epoch 141/150\n",
      "537/537 [==============================] - 0s 17us/sample - loss: 0.3629 - acc: 0.8156\n",
      "Epoch 142/150\n",
      "537/537 [==============================] - 0s 13us/sample - loss: 0.3590 - acc: 0.8250\n",
      "Epoch 143/150\n",
      "537/537 [==============================] - 0s 15us/sample - loss: 0.3598 - acc: 0.8175\n",
      "Epoch 144/150\n",
      "537/537 [==============================] - 0s 17us/sample - loss: 0.3609 - acc: 0.8119\n",
      "Epoch 145/150\n",
      "537/537 [==============================] - 0s 17us/sample - loss: 0.3577 - acc: 0.8175\n",
      "Epoch 146/150\n",
      "537/537 [==============================] - 0s 11us/sample - loss: 0.3534 - acc: 0.8268\n",
      "Epoch 147/150\n",
      "537/537 [==============================] - 0s 17us/sample - loss: 0.3529 - acc: 0.8287\n",
      "Epoch 148/150\n",
      "537/537 [==============================] - 0s 13us/sample - loss: 0.3528 - acc: 0.8305\n",
      "Epoch 149/150\n",
      "537/537 [==============================] - 0s 11us/sample - loss: 0.3508 - acc: 0.8268\n",
      "Epoch 150/150\n",
      "537/537 [==============================] - 0s 20us/sample - loss: 0.3500 - acc: 0.8250\n"
     ]
    },
    {
     "data": {
      "text/plain": [
       "<tensorflow.python.keras.callbacks.History at 0x27a1ae4f278>"
      ]
     },
     "execution_count": 10,
     "metadata": {},
     "output_type": "execute_result"
    }
   ],
   "source": [
    "model.compile(loss='binary_crossentropy',optimizer='adam',metrics=['accuracy'])\n",
    "model.fit(X_Train, Y_Train,epochs=150, batch_size=256)"
   ]
  },
  {
   "cell_type": "code",
   "execution_count": 11,
   "metadata": {},
   "outputs": [
    {
     "name": "stdout",
     "output_type": "stream",
     "text": [
      "[[317  33]\n",
      " [ 62 125]]\n",
      "              precision    recall  f1-score   support\n",
      "\n",
      "           0       0.84      0.91      0.87       350\n",
      "           1       0.79      0.67      0.72       187\n",
      "\n",
      "   micro avg       0.82      0.82      0.82       537\n",
      "   macro avg       0.81      0.79      0.80       537\n",
      "weighted avg       0.82      0.82      0.82       537\n",
      "\n"
     ]
    }
   ],
   "source": [
    "# over the training set\n",
    "y_pred=model.predict_classes(X_Train)\n",
    "print(confusion_matrix(Y_Train, y_pred))\n",
    "print(classification_report(Y_Train, y_pred))"
   ]
  },
  {
   "cell_type": "code",
   "execution_count": 12,
   "metadata": {},
   "outputs": [
    {
     "name": "stdout",
     "output_type": "stream",
     "text": [
      "[[127  23]\n",
      " [ 32  49]]\n",
      "              precision    recall  f1-score   support\n",
      "\n",
      "           0       0.80      0.85      0.82       150\n",
      "           1       0.68      0.60      0.64        81\n",
      "\n",
      "   micro avg       0.76      0.76      0.76       231\n",
      "   macro avg       0.74      0.73      0.73       231\n",
      "weighted avg       0.76      0.76      0.76       231\n",
      "\n"
     ]
    }
   ],
   "source": [
    "# over the test set\n",
    "y_pred=model.predict_classes(X_Test)\n",
    "print(confusion_matrix(Y_Test, y_pred))\n",
    "print(classification_report(Y_Test, y_pred))"
   ]
  },
  {
   "cell_type": "code",
   "execution_count": 13,
   "metadata": {},
   "outputs": [],
   "source": [
    "tfjs.converters.save_keras_model(model, 'modelready')"
   ]
  }
 ],
 "metadata": {
  "kernelspec": {
   "display_name": "Python 3",
   "language": "python",
   "name": "python3"
  },
  "language_info": {
   "codemirror_mode": {
    "name": "ipython",
    "version": 3
   },
   "file_extension": ".py",
   "mimetype": "text/x-python",
   "name": "python",
   "nbconvert_exporter": "python",
   "pygments_lexer": "ipython3",
   "version": "3.7.3"
  }
 },
 "nbformat": 4,
 "nbformat_minor": 1
}
