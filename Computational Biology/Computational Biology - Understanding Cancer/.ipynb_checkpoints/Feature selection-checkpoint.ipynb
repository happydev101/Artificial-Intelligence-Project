{
 "cells": [
  {
   "cell_type": "markdown",
   "metadata": {},
   "source": [
    "# Computational Biology - Understanding Cancers"
   ]
  },
  {
   "cell_type": "markdown",
   "metadata": {},
   "source": [
    "## 1) Pre-processing"
   ]
  },
  {
   "cell_type": "code",
   "execution_count": 2,
   "metadata": {},
   "outputs": [],
   "source": [
    "import numpy as np\n",
    "import pandas as pd\n",
    "import seaborn as sns\n",
    "import matplotlib.pyplot as plt\n",
    "import pickle\n",
    "\n",
    "# Gene Expression Dataset\n",
    "df4 = pd.read_csv('Cancer3 (1).csv') \n",
    "\n",
    "# DNA Methalination\n",
    "# https://stackoverflow.com/questions/28218466/unpickling-a-python-2-object-with-python-3\n",
    "with open('data3.pickle', 'rb') as f:\n",
    "    df4 = pickle.load(f, encoding='latin1')\n",
    "\n",
    "# Exon Expression Dataset\n",
    "#https://stackoverflow.com/questions/28218466/unpickling-a-python-2-object-with-python-3\n",
    "with open('data3 (2).pickle', 'rb') as f:\n",
    "    df4 = pickle.load(f, encoding='latin1')"
   ]
  },
  {
   "cell_type": "code",
   "execution_count": 4,
   "metadata": {},
   "outputs": [],
   "source": [
    "from sklearn.preprocessing import StandardScaler\n",
    "from sklearn.model_selection import train_test_split\n",
    "\n",
    "#X = df4.drop(['Label'], axis = 1).values\n",
    "Y = df4['Label']\n",
    "\n",
    "X = df4.drop(['Label'], axis = 1).values\n",
    "X = StandardScaler().fit_transform(X)"
   ]
  },
  {
   "cell_type": "code",
   "execution_count": 9,
   "metadata": {},
   "outputs": [],
   "source": [
    "# Preprocessing :\n",
    "from sklearn.preprocessing import LabelEncoder\n",
    "from sklearn.metrics import classification_report,confusion_matrix\n",
    "from itertools import product\n",
    "\n",
    "# Classifiers\n",
    "from sklearn.linear_model import LogisticRegression\n",
    "from sklearn.ensemble import RandomForestClassifier\n",
    "from sklearn import svm\n",
    "from sklearn import tree\n",
    "from sklearn.discriminant_analysis import LinearDiscriminantAnalysis\n",
    "from sklearn.naive_bayes import GaussianNB\n",
    "from sklearn.manifold import TSNE\n",
    "from sklearn.decomposition import PCA"
   ]
  },
  {
   "cell_type": "markdown",
   "metadata": {},
   "source": [
    "## 2) t-SNE to visualise classes distibutions"
   ]
  },
  {
   "cell_type": "code",
   "execution_count": null,
   "metadata": {},
   "outputs": [],
   "source": [
    "from sklearn.manifold import TSNE\n",
    "import time\n",
    "\n",
    "time_start = time.time()\n",
    "tsne = TSNE(n_components=2, verbose=1, perplexity=40, n_iter=300)\n",
    "tsne_results = tsne.fit_transform(X)\n",
    "print('t-SNE done! Time elapsed: {} seconds'.format(time.time()-time_start))"
   ]
  },
  {
   "cell_type": "code",
   "execution_count": null,
   "metadata": {},
   "outputs": [],
   "source": [
    "plt.figure(figsize=(6,5))\n",
    "sns.scatterplot(\n",
    "    x=tsne_results[:,0], y=tsne_results[:,1],\n",
    "    hue=Y,\n",
    "    palette=sns.color_palette(\"hls\", 3),\n",
    "    data=df4,\n",
    "    legend=\"full\",\n",
    "    alpha=0.3\n",
    ")"
   ]
  },
  {
   "cell_type": "markdown",
   "metadata": {},
   "source": [
    "## 3) Random Forest (visualization)"
   ]
  },
  {
   "cell_type": "code",
   "execution_count": 12,
   "metadata": {},
   "outputs": [],
   "source": [
    "df4.columns.drop(['Label']).values\n",
    "df4['Label'].values\n",
    "print(Y_Train.astype(int))"
   ]
  },
  {
   "cell_type": "code",
   "execution_count": 13,
   "metadata": {},
   "outputs": [],
   "source": [
    "# https://towardsdatascience.com/how-to-visualize-a-decision-tree-from-a-random-forest-in-python-using-scikit-learn-38ad2d75f21c\n",
    "from sklearn.datasets import load_iris\n",
    "iris = load_iris()\n",
    "\n",
    "Model (can also use single decision tree)\n",
    "from sklearn.ensemble import RandomForestClassifier\n",
    "model = RandomForestClassifier(n_estimators=10)\n",
    "\n",
    "# Train\n",
    "model.fit(X_Train, Y_Train)\n",
    "# Extract single tree\n",
    "estimator = model.estimators_[5]\n",
    "\n",
    "from sklearn.tree import export_graphviz\n",
    "# Export as dot file\n",
    "export_graphviz(estimator, out_file='tree.dot', \n",
    "                feature_names = df4.columns.drop(['Label']).values,\n",
    "                class_names = [\"0\",\"1\",\"2\"],\n",
    "                rounded = True, proportion = False, \n",
    "                precision = 2, filled = True)\n",
    "\n",
    "# Convert to png using system command (requires Graphviz)\n",
    "from subprocess import call\n",
    "call(['dot', '-Tpng', 'tree.dot', '-o', 'tree.png', '-Gdpi=600'])\n",
    "\n",
    "# Display in jupyter notebook\n",
    "from IPython.display import Image\n",
    "Image(filename = 'tree.png')"
   ]
  },
  {
   "cell_type": "code",
   "execution_count": 14,
   "metadata": {},
   "outputs": [],
   "source": [
    "from IPython.core.display import display, HTML\n",
    "display(HTML(\"<style>.container { width:100% !important; }</style>\")) ## Expanding Jupyter notebook view\n",
    "\n",
    "predictions =model.predict(X_Test)\n",
    "print(confusion_matrix(Y_Test,predictions))\n",
    "print(classification_report(Y_Test,predictions))"
   ]
  },
  {
   "cell_type": "markdown",
   "metadata": {},
   "source": [
    "## 4) Decision Tree (visualization)"
   ]
  },
  {
   "cell_type": "code",
   "execution_count": 15,
   "metadata": {},
   "outputs": [],
   "source": [
    "# # https://github.com/parrt/dtreeviz/blob/master/notebooks/examples.ipynb\n",
    "from dtreeviz.trees import *\n",
    "from IPython.display import Image, display_svg\n",
    "import os\n",
    "os.environ[\"PATH\"] += os.pathsep + 'C:/Program Files (x86)/Graphviz2.38/bin/'\n",
    "\n",
    "clas = tree.DecisionTreeClassifier()  \n",
    "\n",
    "clas.fit(X_Train, Y_Train)\n",
    "\n",
    "viz = dtreeviz(clas, \n",
    "               X_Train,\n",
    "               Y_Train.astype(int),\n",
    "               target_name='Cancer Type',\n",
    "               feature_names=df4.columns.drop(['Label']), \n",
    "               class_names=[\"0\",\"1\",\"2\"], \n",
    "               histtype= 'barstacked')  # barstackes is default\n",
    "viz"
   ]
  },
  {
   "cell_type": "code",
   "execution_count": 16,
   "metadata": {
    "scrolled": false
   },
   "outputs": [],
   "source": [
    "regr = tree.DecisionTreeRegressor()\n",
    "\n",
    "regr.fit(X_Train, Y_Train)\n",
    "\n",
    "viz = dtreeviz(regr,\n",
    "               X_Train,\n",
    "               Y_Train.astype(int),\n",
    "               target_name='Cancer',  # this name will be displayed at the leaf node\n",
    "               feature_names=df4.columns.drop(['Label'])\n",
    "              )\n",
    "viz"
   ]
  },
  {
   "cell_type": "code",
   "execution_count": 17,
   "metadata": {},
   "outputs": [],
   "source": [
    "# data from https://archive.ics.uci.edu/ml/datasets/User+Knowledge+Modeling\n",
    "clf = tree.DecisionTreeClassifier(max_depth=3)\n",
    "\n",
    "clf = clf.fit(X_Train, Y_Train)\n",
    "\n",
    "viz = dtreeviz(clf, \n",
    "               X_Train,\n",
    "               Y_Train.astype(int),\n",
    "               target_name='Cancer Type',\n",
    "               feature_names=df4.columns.drop(['Label']), \n",
    "               class_names=[\"0\",\"1\",\"2\"], \n",
    "               fancy=False)\n",
    "viz"
   ]
  },
  {
   "cell_type": "code",
   "execution_count": 22,
   "metadata": {},
   "outputs": [],
   "source": [
    "trainedtree = tree.DecisionTreeClassifier().fit(X_Train, Y_Train)\n",
    "predictionstree = trainedtree.predict(X_Test)\n",
    "print(confusion_matrix(Y_Test,predictionstree))\n",
    "print(classification_report(Y_Test,predictionstree))\n",
    "predictionstree = trainedtree.predict_proba(X_Test)\n",
    "print(predictionstree)"
   ]
  },
  {
   "cell_type": "code",
   "execution_count": 23,
   "metadata": {},
   "outputs": [],
   "source": [
    "print(dict(zip(df4.columns, trainedtree.feature_importances_)))"
   ]
  },
  {
   "cell_type": "code",
   "execution_count": 24,
   "metadata": {},
   "outputs": [],
   "source": [
    "# # https://machinelearningmastery.com/feature-importance-and-feature-selection-with-xgboost-in-python/\n",
    "# # feature importance\n",
    "print(predictionstree.feature_importances_)\n",
    "# plot\n",
    "pyplot.bar(range(len(predictionstree.feature_importances_)), predictionstree.feature_importances_)\n",
    "pyplot.show()"
   ]
  },
  {
   "cell_type": "code",
   "execution_count": 25,
   "metadata": {},
   "outputs": [],
   "source": [
    "# plot feature importance\n",
    "plot_importance(model)\n",
    "pyplot.show()"
   ]
  },
  {
   "cell_type": "code",
   "execution_count": 26,
   "metadata": {},
   "outputs": [],
   "source": [
    "from sklearn.externals.six import StringIO  \n",
    "from IPython.display import Image  \n",
    "import sklearn\n",
    "from sklearn.tree import export_graphviz\n",
    "#import pydotplus\n",
    "dot_data = StringIO()\n",
    "export_graphviz(trainedtree, out_file='treeplot.dot',  \n",
    "                filled=True, rounded=True,\n",
    "                special_characters=True)\n",
    "graph = pydotplus.graph_from_dot_data(dot_data.getvalue())  \n",
    "Image(graph.create_png())"
   ]
  },
  {
   "cell_type": "code",
   "execution_count": 27,
   "metadata": {},
   "outputs": [],
   "source": [
    "from io import StringIO\n",
    "from IPython.display import Image \n",
    "import sklearn\n",
    "dot_data = StringIO()\n",
    "sklearn.tree.export_graphviz(\n",
    "    trainedtree,\n",
    "    out_file=dot_data,\n",
    "    feature_names=feature_column_names,\n",
    "    class_names=['0', '1' , '2'],\n",
    "    filled=True,\n",
    "    rounded=True,\n",
    "    special_characters=True,\n",
    "    label='all',\n",
    "    impurity=True,\n",
    "    node_ids=True,\n",
    "    proportion=True,\n",
    "    rotate=False\n",
    ")\n",
    "\n",
    "graph = pydotplus.graph_from_dot_data(dot_data.getvalue())\n",
    "Image(graph.create_png())"
   ]
  },
  {
   "cell_type": "code",
   "execution_count": 28,
   "metadata": {},
   "outputs": [],
   "source": [
    "with open(\"dtree.dot\", 'w') as dotfile:\n",
    "    sklearn.tree.export_graphviz(\n",
    "        small_model, \n",
    "        out_file=dotfile, \n",
    "        feature_names=feature_column_names\n",
    "    )\n",
    "\n",
    "import subprocess\n",
    "subprocess.call(['dot', '-Tsvg', 'dtree.dot', '-o', 'dtree.svg'])"
   ]
  },
  {
   "cell_type": "markdown",
   "metadata": {},
   "source": [
    "## 5) XGBoost"
   ]
  },
  {
   "cell_type": "code",
   "execution_count": null,
   "metadata": {},
   "outputs": [],
   "source": [
    "# https://machinelearningmastery.com/visualize-gradient-boosting-decision-trees-xgboost-python/\n",
    "# Model (can also use single decision tree)\n",
    "from xgboost import XGBClassifier\n",
    "from xgboost import plot_tree\n",
    "import matplotlib.pyplot as plt\n",
    "model = XGBClassifier()\n",
    "\n",
    "# Train\n",
    "model.fit(X_Train, Y_Train)\n",
    "Extract single tree\n",
    "\n",
    "plot_tree(model)\n",
    "plt.show()"
   ]
  },
  {
   "cell_type": "code",
   "execution_count": null,
   "metadata": {},
   "outputs": [],
   "source": [
    "# Confusion Matrix\n",
    "# # https://www.kaggle.com/tejainece/data-visualization-and-machine-learning-algorithms\n",
    "predictions =model.predict(X_Test)\n",
    "print(confusion_matrix(Y_Test,predictions))\n",
    "print(classification_report(Y_Test,predictions))\n",
    "\n",
    "def plot_confusion_matrix(cm, classes=[\"0\", \"1\", \"2\"], title=\"\",\n",
    "                          cmap=plt.cm.Blues):\n",
    "    plt.imshow(cm, interpolation='nearest', cmap=cmap)\n",
    "    plt.title('Confusion matrix ' +title)\n",
    "    plt.colorbar()\n",
    "    tick_marks = np.arange(len(classes))\n",
    "    plt.xticks(tick_marks, classes, rotation=45)\n",
    "    plt.yticks(tick_marks, classes)\n",
    "    thresh = cm.max() / 2.\n",
    "    for i, j in itertools.product(range(cm.shape[0]), range(cm.shape[1])):\n",
    "        plt.text(j, i, cm[i, j],\n",
    "                 horizontalalignment=\"center\",\n",
    "                 color=\"white\" if cm[i, j] > thresh else \"black\")\n",
    "\n",
    "    plt.tight_layout()\n",
    "    plt.ylabel('True label')\n",
    "    plt.xlabel('Predicted label')\n",
    "\n",
    "cm_plot = confusion_matrix(Y_Test,predictions)\n",
    "\n",
    "plt.figure()\n",
    "plot_confusion_matrix(cm_plot, title = 'XGBClassifier')"
   ]
  },
  {
   "cell_type": "markdown",
   "metadata": {},
   "source": [
    "## 6) Recursive Feature Selection"
   ]
  },
  {
   "cell_type": "code",
   "execution_count": 29,
   "metadata": {},
   "outputs": [],
   "source": [
    "# # https://scikit-learn.org/stable/modules/generated/sklearn.feature_selection.RFE.html#sklearn.feature_selection.RFE\n",
    "estimator = SVR(kernel=\"linear\")\n",
    "selector = RFE(estimator, 5, step=1)\n",
    "selector = selector.fit(X_Train, Y_Train)"
   ]
  },
  {
   "cell_type": "code",
   "execution_count": 30,
   "metadata": {},
   "outputs": [],
   "source": [
    "selector.support_ \n",
    "selector.ranking_"
   ]
  },
  {
   "cell_type": "markdown",
   "metadata": {},
   "source": [
    "## 7) PCA"
   ]
  },
  {
   "cell_type": "code",
   "execution_count": 31,
   "metadata": {},
   "outputs": [],
   "source": [
    "pca = PCA(n_components=2,svd_solver='full')\n",
    "X_pca = pca.fit_transform(X)\n",
    "# print(pca.explained_variance_)\n",
    "\n",
    "X_reduced, X_test_reduced, Y_Train, Y_Test = train_test_split(X_pca, Y, test_size = 0.30, random_state = 101)\n",
    "\n",
    "# pca = PCA(n_components=2,svd_solver='full')\n",
    "# X_reduced = pca.fit_transform(X_Train)\n",
    "#X_reduced = TSNE(n_components=2).fit_transform(X_Train, Y_Train)\n",
    "\n",
    "trainednb = GaussianNB().fit(X_reduced, Y_Train)\n",
    "trainedsvm = svm.LinearSVC().fit(X_reduced, Y_Train)\n",
    "trainedforest = RandomForestClassifier(n_estimators=700).fit(X_reduced,Y_Train)\n",
    "trainedmodel = LogisticRegression().fit(X_reduced,Y_Train)\n",
    "\n",
    "# pca = PCA(n_components=2,svd_solver='full')\n",
    "# X_test_reduced = pca.fit_transform(X_Test)\n",
    "#X_test_reduced = TSNE(n_components=2).fit_transform(X_Test, Y_Test)\n",
    "\n",
    "print('Naive Bayes')\n",
    "predictionnb = trainednb.predict(X_test_reduced)\n",
    "print(confusion_matrix(Y_Test,predictionnb))\n",
    "print(classification_report(Y_Test,predictionnb))\n",
    "\n",
    "print('SVM')\n",
    "predictionsvm = trainedsvm.predict(X_test_reduced)\n",
    "print(confusion_matrix(Y_Test,predictionsvm))\n",
    "print(classification_report(Y_Test,predictionsvm))\n",
    "\n",
    "print('Random Forest')\n",
    "predictionforest = trainedforest.predict(X_test_reduced)\n",
    "print(confusion_matrix(Y_Test,predictionforest))\n",
    "print(classification_report(Y_Test,predictionforest))\n",
    "\n",
    "print('Logistic Regression')\n",
    "predictions =trainedmodel.predict(X_test_reduced)\n",
    "print(confusion_matrix(Y_Test,predictions))\n",
    "print(classification_report(Y_Test,predictions))"
   ]
  },
  {
   "cell_type": "code",
   "execution_count": 32,
   "metadata": {},
   "outputs": [],
   "source": [
    "# Thanks to: https://scikit-learn.org/stable/auto_examples/ensemble/plot_voting_decision_regions.html\n",
    "# Plotting decision regions\n",
    "\n",
    "reduced_data = X_reduced\n",
    "\n",
    "trainednb = GaussianNB().fit(reduced_data, Y_Train)\n",
    "trainedsvm = svm.LinearSVC().fit(reduced_data, Y_Train)\n",
    "trainedforest = RandomForestClassifier(n_estimators=700).fit(reduced_data,Y_Train)\n",
    "trainedmodel = LogisticRegression().fit(reduced_data,Y_Train)\n",
    "\n",
    "\n",
    "x_min, x_max = reduced_data[:, 0].min() - 1, reduced_data[:, 0].max() + 1\n",
    "y_min, y_max = reduced_data[:, 1].min() - 1, reduced_data[:, 1].max() + 1\n",
    "xx, yy = np.meshgrid(np.arange(x_min, x_max, 0.1),\n",
    "                     np.arange(y_min, y_max, 0.1))\n",
    "\n",
    "f, axarr = plt.subplots(2, 2, sharex='col', sharey='row', figsize=(10, 8))\n",
    "\n",
    "for idx, clf, tt in zip(product([0, 1], [0, 1]),\n",
    "                        [trainednb, trainedsvm, trainedforest, trainedmodel],\n",
    "                        ['Naive Bayes Classifier', 'SVM',\n",
    "                         'Random Forest', 'Logistic Regression']):\n",
    "\n",
    "    Z = clf.predict(np.c_[xx.ravel(), yy.ravel()])\n",
    "    Z = Z.reshape(xx.shape)\n",
    "    \n",
    "\n",
    "    axarr[idx[0], idx[1]].contourf(xx, yy, Z,cmap=plt.cm.coolwarm, alpha=0.4)\n",
    "    axarr[idx[0], idx[1]].scatter(reduced_data[:, 0], reduced_data[:, 1], c=Y_Train,\n",
    "                                  s=20, edgecolor='k')\n",
    "    axarr[idx[0], idx[1]].set_title(tt)\n",
    "\n",
    "plt.show()"
   ]
  },
  {
   "cell_type": "markdown",
   "metadata": {},
   "source": [
    "## 8) Feature Selector"
   ]
  },
  {
   "cell_type": "code",
   "execution_count": 33,
   "metadata": {},
   "outputs": [],
   "source": [
    "# https://towardsdatascience.com/a-feature-selection-tool-for-machine-learning-in-python-b64dd23710f0\n",
    "from feature_selector import FeatureSelector\n",
    "\n",
    "fs = FeatureSelector(data = X, labels = Y)"
   ]
  },
  {
   "cell_type": "markdown",
   "metadata": {},
   "source": [
    "### Missing values"
   ]
  },
  {
   "cell_type": "code",
   "execution_count": 34,
   "metadata": {},
   "outputs": [],
   "source": [
    "fs.identify_missing(missing_threshold = 0.6)"
   ]
  },
  {
   "cell_type": "code",
   "execution_count": 35,
   "metadata": {},
   "outputs": [],
   "source": [
    "fs.missing_stats.head()"
   ]
  },
  {
   "cell_type": "code",
   "execution_count": 36,
   "metadata": {},
   "outputs": [],
   "source": [
    "missing_features = fs.ops['missing']\n",
    "missing_features[:5]"
   ]
  },
  {
   "cell_type": "code",
   "execution_count": 37,
   "metadata": {},
   "outputs": [],
   "source": [
    "fs.plot_missing()"
   ]
  },
  {
   "cell_type": "markdown",
   "metadata": {},
   "source": [
    "### Correlated features"
   ]
  },
  {
   "cell_type": "code",
   "execution_count": 38,
   "metadata": {},
   "outputs": [],
   "source": [
    "fs.identify_collinear(correlation_threshold = 0.98)"
   ]
  },
  {
   "cell_type": "code",
   "execution_count": 39,
   "metadata": {},
   "outputs": [],
   "source": [
    "fs.plot_collinear()"
   ]
  },
  {
   "cell_type": "code",
   "execution_count": 40,
   "metadata": {},
   "outputs": [],
   "source": [
    "# list of collinear features to remove\n",
    "collinear_features = fs.ops['collinear']\n",
    "# dataframe of collinear features\n",
    "fs.record_collinear.head()"
   ]
  },
  {
   "cell_type": "markdown",
   "metadata": {},
   "source": [
    "### Zero importance features"
   ]
  },
  {
   "cell_type": "code",
   "execution_count": 41,
   "metadata": {},
   "outputs": [],
   "source": [
    "# Pass in the appropriate parameters\n",
    "fs.identify_zero_importance(task = 'classification', \n",
    "                            eval_metric = 'auc', \n",
    "                            n_iterations = 10, \n",
    "                             early_stopping = True)\n",
    "# list of zero importance features\n",
    "zero_importance_features = fs.ops['zero_importance']"
   ]
  },
  {
   "cell_type": "code",
   "execution_count": 42,
   "metadata": {},
   "outputs": [],
   "source": [
    "# plot the feature importances\n",
    "fs.plot_feature_importances(threshold = 0.99, plot_n = 12)"
   ]
  },
  {
   "cell_type": "markdown",
   "metadata": {},
   "source": [
    "### Low importance features"
   ]
  },
  {
   "cell_type": "code",
   "execution_count": 44,
   "metadata": {},
   "outputs": [],
   "source": [
    "fs.identify_low_importance(cumulative_importance = 0.99)"
   ]
  },
  {
   "cell_type": "code",
   "execution_count": 45,
   "metadata": {},
   "outputs": [],
   "source": [
    "fs.feature_importances.head(10)"
   ]
  },
  {
   "cell_type": "markdown",
   "metadata": {},
   "source": [
    "### Deleting features and complete run check"
   ]
  },
  {
   "cell_type": "code",
   "execution_count": 46,
   "metadata": {},
   "outputs": [],
   "source": [
    "# Remove the features from all methods (returns a df)\n",
    "train_removed = fs.remove(methods = 'all')\n",
    "train_removed_all = fs.remove(methods = 'all', keep_one_hot=False)\n",
    "# Pay attention to don't lose the original dataset format!"
   ]
  },
  {
   "cell_type": "code",
   "execution_count": 47,
   "metadata": {},
   "outputs": [],
   "source": [
    "fs.identify_all(selection_params = {'missing_threshold': 0.6,    \n",
    "                                    'correlation_threshold': 0.98, \n",
    "                                    'task': 'classification',    \n",
    "                                    'eval_metric': 'auc', \n",
    "                                    'cumulative_importance': 0.99})"
   ]
  },
  {
   "cell_type": "markdown",
   "metadata": {},
   "source": [
    "## 9) Clustering"
   ]
  },
  {
   "cell_type": "markdown",
   "metadata": {},
   "source": [
    "### K-Means Clustering"
   ]
  },
  {
   "cell_type": "code",
   "execution_count": 48,
   "metadata": {},
   "outputs": [
    {
     "name": "stdout",
     "output_type": "stream",
     "text": [
      "[0.11845629 0.07525812]\n"
     ]
    }
   ],
   "source": [
    "pca = PCA(n_components=2,svd_solver='full')\n",
    "X_pca = pca.fit_transform(X)\n",
    "# print(pca.explained_variance_)\n",
    "\n",
    "# print('Original number of features:', X.shape[1])\n",
    "# print('Reduced number of features:', X_lda.shape[1])\n",
    "print(pca.explained_variance_ratio_)\n",
    "\n",
    "X_reduced, X_test_reduced, Y_Train, Y_Test = train_test_split(X_pca, Y, test_size = 0.30, random_state = 101)"
   ]
  },
  {
   "cell_type": "code",
   "execution_count": 49,
   "metadata": {},
   "outputs": [],
   "source": [
    "from sklearn.cluster import KMeans\n",
    "kmeans = KMeans(n_clusters=3, random_state=0).fit(X_reduced)\n",
    "# kmeans.labels_"
   ]
  },
  {
   "cell_type": "code",
   "execution_count": 50,
   "metadata": {},
   "outputs": [
    {
     "name": "stdout",
     "output_type": "stream",
     "text": [
      "[[167 167   7]\n",
      " [ 88   5   9]\n",
      " [  0   5  82]]\n",
      "              precision    recall  f1-score   support\n",
      "\n",
      "         0.0       0.65      0.49      0.56       341\n",
      "         1.0       0.03      0.05      0.04       102\n",
      "         2.0       0.84      0.94      0.89        87\n",
      "\n",
      "   micro avg       0.48      0.48      0.48       530\n",
      "   macro avg       0.51      0.49      0.49       530\n",
      "weighted avg       0.56      0.48      0.51       530\n",
      "\n"
     ]
    }
   ],
   "source": [
    "kpredictions = kmeans.predict(X_test_reduced)\n",
    "print(confusion_matrix(Y_Test,kpredictions))\n",
    "print(classification_report(Y_Test,kpredictions))"
   ]
  },
  {
   "cell_type": "code",
   "execution_count": 51,
   "metadata": {},
   "outputs": [
    {
     "data": {
      "text/plain": [
       "array([[-26.80760419, -29.69109547],\n",
       "       [ 54.22733899,   4.65968545],\n",
       "       [-37.0431978 ,  64.28328067]])"
      ]
     },
     "execution_count": 51,
     "metadata": {},
     "output_type": "execute_result"
    }
   ],
   "source": [
    "kmeans.cluster_centers_"
   ]
  },
  {
   "cell_type": "code",
   "execution_count": 52,
   "metadata": {},
   "outputs": [
    {
     "data": {
      "text/plain": [
       "<matplotlib.collections.PathCollection at 0x29314ea12e8>"
      ]
     },
     "execution_count": 52,
     "metadata": {},
     "output_type": "execute_result"
    },
    {
     "data": {
      "image/png": "[encoded data removed]",
      "text/plain": [
       "<Figure size 432x288 with 1 Axes>"
      ]
     },
     "metadata": {
      "needs_background": "light"
     },
     "output_type": "display_data"
    }
   ],
   "source": [
    "plt.scatter(X_test_reduced[kpredictions ==0,0], X_test_reduced[kpredictions == 0,1], s=100, c='red')\n",
    "plt.scatter(X_test_reduced[kpredictions ==1,0], X_test_reduced[kpredictions == 1,1], s=100, c='black')\n",
    "plt.scatter(X_test_reduced[kpredictions ==2,0], X_test_reduced[kpredictions == 2,1], s=100, c='blue')"
   ]
  },
  {
   "cell_type": "markdown",
   "metadata": {},
   "source": [
    "### Hierchechal Clustering"
   ]
  },
  {
   "cell_type": "code",
   "execution_count": 53,
   "metadata": {},
   "outputs": [],
   "source": [
    "# https://towardsdatascience.com/an-introduction-to-clustering-algorithms-in-python-123438574097\n",
    "\n",
    "import scipy.cluster.hierarchy as sch\n",
    "from sklearn.cluster import AgglomerativeClustering"
   ]
  },
  {
   "cell_type": "code",
   "execution_count": 54,
   "metadata": {},
   "outputs": [
    {
     "data": {
      "image/png": "[encoded data removed]",
      "text/plain": [
       "<Figure size 432x288 with 1 Axes>"
      ]
     },
     "metadata": {
      "needs_background": "light"
     },
     "output_type": "display_data"
    }
   ],
   "source": [
    "# create dendrogram\n",
    "dendrogram = sch.dendrogram(sch.linkage(X_reduced, method='ward'))\n",
    "# create clusters\n",
    "hc = AgglomerativeClustering(n_clusters=3, affinity = 'euclidean', linkage = 'ward')\n",
    "# save clusters for chart\n",
    "hierarchicalpredictions = hc.fit_predict(X_test_reduced)"
   ]
  },
  {
   "cell_type": "code",
   "execution_count": 55,
   "metadata": {},
   "outputs": [
    {
     "data": {
      "text/plain": [
       "<matplotlib.collections.PathCollection at 0x29315b71a20>"
      ]
     },
     "execution_count": 55,
     "metadata": {},
     "output_type": "execute_result"
    },
    {
     "data": {
      "image/png": "[encoded data removed]",
      "text/plain": [
       "<Figure size 432x288 with 1 Axes>"
      ]
     },
     "metadata": {
      "needs_background": "light"
     },
     "output_type": "display_data"
    }
   ],
   "source": [
    "plt.scatter(X_test_reduced[hierarchicalpredictions ==0,0], X_test_reduced[hierarchicalpredictions == 0,1], s=100, c='red')\n",
    "plt.scatter(X_test_reduced[hierarchicalpredictions ==1,0], X_test_reduced[hierarchicalpredictions == 1,1], s=100, c='black')\n",
    "plt.scatter(X_test_reduced[hierarchicalpredictions ==2,0], X_test_reduced[hierarchicalpredictions == 2,1], s=100, c='blue')"
   ]
  },
  {
   "cell_type": "markdown",
   "metadata": {},
   "source": [
    "## 10) Correlation"
   ]
  },
  {
   "cell_type": "code",
   "execution_count": 56,
   "metadata": {},
   "outputs": [],
   "source": [
    "# # https://towardsdatascience.com/feature-selection-with-pandas-e3690ad8504b\n",
    "\n",
    "import matplotlib\n",
    "import matplotlib.pyplot as plt\n",
    "import seaborn as sns\n",
    "import statsmodels.api as sm\n",
    "\n",
    "#Using Pearson Correlation\n",
    "plt.figure(figsize=(12,10))\n",
    "cor = df4.corr()\n",
    "sns.heatmap(cor, annot=True, cmap=plt.cm.Reds)\n",
    "plt.show()"
   ]
  },
  {
   "cell_type": "code",
   "execution_count": 57,
   "metadata": {},
   "outputs": [],
   "source": [
    "#Correlation with output variable\n",
    "cor_target = abs(cor[\"Label\"])\n",
    "#Selecting highly correlated features\n",
    "relevant_features = cor_target[cor_target>0.5]\n",
    "relevant_features"
   ]
  },
  {
   "cell_type": "code",
   "execution_count": 58,
   "metadata": {},
   "outputs": [],
   "source": [
    "# Compare the most important features to see if they are correlated eachother\n",
    "# Is important to remove highly correlated variables becouse they bring no variance to the model and therefore it makes more \n",
    "# difficult for the model to generealise to new data\n",
    "print(df[[\"LSTAT\",\"PTRATIO\"]].corr())\n",
    "print(df[[\"RM\",\"LSTAT\"]].corr())"
   ]
  },
  {
   "cell_type": "code",
   "execution_count": 59,
   "metadata": {},
   "outputs": [],
   "source": [
    "# https://www.scikit-yb.org/en/latest/api/target/feature_correlation.html\n",
    "from yellowbrick.target import FeatureCorrelation\n",
    "\n",
    "visualizer = FeatureCorrelation(labels=df4.columns)\n",
    "visualizer.fit(X, y)\n",
    "visualizer.poof()"
   ]
  },
  {
   "cell_type": "code",
   "execution_count": 60,
   "metadata": {},
   "outputs": [],
   "source": [
    "discrete_features = [False for _ in range(len(df4.columns))]\n",
    "discrete_features[1] = True\n",
    "\n",
    "visualizer = FeatureCorrelation(method='mutual_info-regression',\n",
    "                                labels=df4.columns)\n",
    "visualizer.fit(X, Y, discrete_features=discrete_features, random_state=0)\n",
    "visualizer.poof()"
   ]
  },
  {
   "cell_type": "code",
   "execution_count": 61,
   "metadata": {},
   "outputs": [],
   "source": [
    "# # https://scikit-learn.org/stable/modules/feature_selection.html\n",
    "\n",
    "from sklearn.feature_selection import VarianceThreshold\n",
    "sel = VarianceThreshold(threshold=(.8 * (1 - .8)))\n",
    "sel.fit_transform(X)"
   ]
  },
  {
   "cell_type": "code",
   "execution_count": 62,
   "metadata": {},
   "outputs": [],
   "source": [
    "from sklearn.feature_selection import SelectKBest\n",
    "from sklearn.feature_selection import chi2\n",
    "\n",
    "X.shape\n",
    "X_new = SelectKBest(chi2, k=3).fit_transform(X, Y)\n",
    "X_new.shape"
   ]
  },
  {
   "cell_type": "markdown",
   "metadata": {},
   "source": [
    "## 11) Reduced dataset using main features identified from Decision Trees"
   ]
  },
  {
   "cell_type": "code",
   "execution_count": null,
   "metadata": {},
   "outputs": [],
   "source": [
    "# DNA Methalination main features\n",
    "X = df4[['cg06105778','cg27427318','cg06391412','cg14029663']]\n",
    "print(X)\n",
    "\n",
    "## Gene Expression Dataset\n",
    "X = df4[['TBX5','CDX1','CDX1']]\n",
    "print(X)\n",
    "\n",
    "# Exon Expression Dataset main features\n",
    "X = df4[['chr12:114847271-114850636:+','chr15:40648266-40648632:+','chr10:81374338-81375201:+']]\n",
    "print(X)"
   ]
  },
  {
   "cell_type": "markdown",
   "metadata": {},
   "source": [
    "### Performing LDA and testing classification results"
   ]
  },
  {
   "cell_type": "code",
   "execution_count": null,
   "metadata": {},
   "outputs": [],
   "source": [
    "# Load libraries\n",
    "from sklearn import datasets\n",
    "from sklearn.discriminant_analysis import LinearDiscriminantAnalysis\n",
    "\n",
    "# Create an LDA that will reduce the data down to 1 feature\n",
    "lda = LinearDiscriminantAnalysis(n_components=2)\n",
    "\n",
    "# run an LDA and use it to transform the features\n",
    "X_lda = lda.fit(X, Y).transform(X)\n",
    "\n",
    "# Print the number of features\n",
    "print('Original number of features:', X.shape[1])\n",
    "print('Reduced number of features:', X_lda.shape[1])\n",
    "\n",
    "## View the ratio of explained variance\n",
    "print(lda.explained_variance_ratio_)\n",
    "\n",
    "X_reduced, X_test_reduced, Y_Train, Y_Test = train_test_split(X_lda, Y, test_size = 0.30, random_state = 101)\n",
    "\n",
    "trainednb = GaussianNB().fit(X_reduced, Y_Train)\n",
    "trainedsvm = svm.LinearSVC().fit(X_reduced, Y_Train)\n",
    "\n",
    "print('Naive Bayes')\n",
    "predictionnb = trainednb.predict(X_test_reduced)\n",
    "print(confusion_matrix(Y_Test,predictionnb))\n",
    "print(classification_report(Y_Test,predictionnb))\n",
    "\n",
    "print('SVM')\n",
    "predictionsvm = trainedsvm.predict(X_test_reduced)\n",
    "print(confusion_matrix(Y_Test,predictionsvm))\n",
    "print(classification_report(Y_Test,predictionsvm))"
   ]
  },
  {
   "cell_type": "markdown",
   "metadata": {},
   "source": [
    "### Performing PCA and testing classification results"
   ]
  },
  {
   "cell_type": "code",
   "execution_count": null,
   "metadata": {},
   "outputs": [],
   "source": [
    "pca = PCA(n_components=2,svd_solver='full')\n",
    "X_pca = pca.fit_transform(X)\n",
    "# print(pca.explained_variance_)\n",
    "\n",
    "print('Original number of features:', X.shape[1])\n",
    "print('Reduced number of features:', X_lda.shape[1])\n",
    "print(pca.explained_variance_ratio_)\n",
    "\n",
    "X_reduced, X_test_reduced, Y_Train, Y_Test = train_test_split(X_pca, Y, test_size = 0.30, random_state = 101)\n",
    "\n",
    "trainednb = GaussianNB().fit(X_reduced, Y_Train)\n",
    "trainedsvm = svm.LinearSVC().fit(X_reduced, Y_Train)\n",
    "\n",
    "print('Naive Bayes')\n",
    "predictionnb = trainednb.predict(X_test_reduced)\n",
    "print(confusion_matrix(Y_Test,predictionnb))\n",
    "print(classification_report(Y_Test,predictionnb))\n",
    "\n",
    "print('SVM')\n",
    "predictionsvm = trainedsvm.predict(X_test_reduced)\n",
    "print(confusion_matrix(Y_Test,predictionsvm))\n",
    "print(classification_report(Y_Test,predictionsvm))"
   ]
  },
  {
   "cell_type": "markdown",
   "metadata": {},
   "source": [
    "## 12) Further Ideas"
   ]
  },
  {
   "cell_type": "code",
   "execution_count": null,
   "metadata": {},
   "outputs": [],
   "source": [
    "# https://towardsdatascience.com/feature-selection-techniques-in-machine-learning-with-python-f24e7da3f36e\n",
    "# https://www.datacamp.com/community/tutorials/feature-selection-python"
   ]
  }
 ],
 "metadata": {
  "kernelspec": {
   "display_name": "Python 3",
   "language": "python",
   "name": "python3"
  },
  "language_info": {
   "codemirror_mode": {
    "name": "ipython",
    "version": 3
   },
   "file_extension": ".py",
   "mimetype": "text/x-python",
   "name": "python",
   "nbconvert_exporter": "python",
   "pygments_lexer": "ipython3",
   "version": "3.7.0"
  }
 },
 "nbformat": 4,
 "nbformat_minor": 2
}
