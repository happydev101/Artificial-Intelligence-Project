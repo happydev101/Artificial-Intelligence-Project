{
 "cells": [
  {
   "cell_type": "markdown",
   "metadata": {},
   "source": [
    "**[SQL Course Home Page](https://www.kaggle.com/learn/SQL)**\n",
    "\n",
    "---\n"
   ]
  },
  {
   "cell_type": "markdown",
   "metadata": {},
   "source": [
    "# Intro\n",
    "\n",
    "Try some **SELECT** statements of your own to see if you can answer the questions from a large dataset of air pollution measurements.\n",
    "\n",
    "Again, run the cell below to set everything up."
   ]
  },
  {
   "cell_type": "code",
   "execution_count": 1,
   "metadata": {},
   "outputs": [
    {
     "name": "stdout",
     "output_type": "stream",
     "text": [
      "Using Kaggle's public dataset BigQuery integration.\n",
      "Using Kaggle's public dataset BigQuery integration.\n",
      "Setup Complete\n",
      "Tables list: ['global_air_quality']\n"
     ]
    },
    {
     "data": {
      "text/html": [
       "<div>\n",
       "<style scoped>\n",
       "    .dataframe tbody tr th:only-of-type {\n",
       "        vertical-align: middle;\n",
       "    }\n",
       "\n",
       "    .dataframe tbody tr th {\n",
       "        vertical-align: top;\n",
       "    }\n",
       "\n",
       "    .dataframe thead th {\n",
       "        text-align: right;\n",
       "    }\n",
       "</style>\n",
       "<table border=\"1\" class=\"dataframe\">\n",
       "  <thead>\n",
       "    <tr style=\"text-align: right;\">\n",
       "      <th></th>\n",
       "      <th>location</th>\n",
       "      <th>city</th>\n",
       "      <th>country</th>\n",
       "      <th>pollutant</th>\n",
       "      <th>value</th>\n",
       "      <th>timestamp</th>\n",
       "      <th>unit</th>\n",
       "      <th>source_name</th>\n",
       "      <th>latitude</th>\n",
       "      <th>longitude</th>\n",
       "      <th>averaged_over_in_hours</th>\n",
       "    </tr>\n",
       "  </thead>\n",
       "  <tbody>\n",
       "    <tr>\n",
       "      <th>0</th>\n",
       "      <td>BTM Layout, Bengaluru - KSPCB</td>\n",
       "      <td>Bengaluru</td>\n",
       "      <td>IN</td>\n",
       "      <td>co</td>\n",
       "      <td>910.00</td>\n",
       "      <td>2018-02-22 03:00:00+00:00</td>\n",
       "      <td>µg/m³</td>\n",
       "      <td>CPCB</td>\n",
       "      <td>12.912811</td>\n",
       "      <td>77.60922</td>\n",
       "      <td>0.25</td>\n",
       "    </tr>\n",
       "    <tr>\n",
       "      <th>1</th>\n",
       "      <td>BTM Layout, Bengaluru - KSPCB</td>\n",
       "      <td>Bengaluru</td>\n",
       "      <td>IN</td>\n",
       "      <td>no2</td>\n",
       "      <td>131.87</td>\n",
       "      <td>2018-02-22 03:00:00+00:00</td>\n",
       "      <td>µg/m³</td>\n",
       "      <td>CPCB</td>\n",
       "      <td>12.912811</td>\n",
       "      <td>77.60922</td>\n",
       "      <td>0.25</td>\n",
       "    </tr>\n",
       "    <tr>\n",
       "      <th>2</th>\n",
       "      <td>BTM Layout, Bengaluru - KSPCB</td>\n",
       "      <td>Bengaluru</td>\n",
       "      <td>IN</td>\n",
       "      <td>o3</td>\n",
       "      <td>15.57</td>\n",
       "      <td>2018-02-22 03:00:00+00:00</td>\n",
       "      <td>µg/m³</td>\n",
       "      <td>CPCB</td>\n",
       "      <td>12.912811</td>\n",
       "      <td>77.60922</td>\n",
       "      <td>0.25</td>\n",
       "    </tr>\n",
       "    <tr>\n",
       "      <th>3</th>\n",
       "      <td>BTM Layout, Bengaluru - KSPCB</td>\n",
       "      <td>Bengaluru</td>\n",
       "      <td>IN</td>\n",
       "      <td>pm25</td>\n",
       "      <td>45.62</td>\n",
       "      <td>2018-02-22 03:00:00+00:00</td>\n",
       "      <td>µg/m³</td>\n",
       "      <td>CPCB</td>\n",
       "      <td>12.912811</td>\n",
       "      <td>77.60922</td>\n",
       "      <td>0.25</td>\n",
       "    </tr>\n",
       "    <tr>\n",
       "      <th>4</th>\n",
       "      <td>BTM Layout, Bengaluru - KSPCB</td>\n",
       "      <td>Bengaluru</td>\n",
       "      <td>IN</td>\n",
       "      <td>so2</td>\n",
       "      <td>4.49</td>\n",
       "      <td>2018-02-22 03:00:00+00:00</td>\n",
       "      <td>µg/m³</td>\n",
       "      <td>CPCB</td>\n",
       "      <td>12.912811</td>\n",
       "      <td>77.60922</td>\n",
       "      <td>0.25</td>\n",
       "    </tr>\n",
       "  </tbody>\n",
       "</table>\n",
       "</div>"
      ],
      "text/plain": [
       "                        location          ...           averaged_over_in_hours\n",
       "0  BTM Layout, Bengaluru - KSPCB          ...                             0.25\n",
       "1  BTM Layout, Bengaluru - KSPCB          ...                             0.25\n",
       "2  BTM Layout, Bengaluru - KSPCB          ...                             0.25\n",
       "3  BTM Layout, Bengaluru - KSPCB          ...                             0.25\n",
       "4  BTM Layout, Bengaluru - KSPCB          ...                             0.25\n",
       "\n",
       "[5 rows x 11 columns]"
      ]
     },
     "execution_count": 1,
     "metadata": {},
     "output_type": "execute_result"
    }
   ],
   "source": [
    "# Set up feedack system\n",
    "from learntools.core import binder\n",
    "binder.bind(globals())\n",
    "from learntools.sql.ex2 import *\n",
    "\n",
    "# import package with helper functions \n",
    "import bq_helper\n",
    "\n",
    "# create a helper object for this dataset\n",
    "open_aq = bq_helper.BigQueryHelper(active_project=\"bigquery-public-data\",\n",
    "                                   dataset_name=\"openaq\")\n",
    "\n",
    "print(\"Setup Complete\")\n",
    "\n",
    "# print list of tables in this dataset (there's only one!)\n",
    "print('Tables list: {}'.format(open_aq.list_tables()))\n",
    "\n",
    "# print look at top few rows\n",
    "open_aq.head('global_air_quality')\n"
   ]
  },
  {
   "cell_type": "markdown",
   "metadata": {},
   "source": [
    "Now you'll write and run the code to answer the questions below."
   ]
  },
  {
   "cell_type": "markdown",
   "metadata": {},
   "source": [
    "# Question\n",
    "\n",
    "#### 1) Which countries have reported pollution levels in units of \"ppm\"? \n",
    "\n",
    "In case it's useful to see an example query, here's some code from the tutorial:\n",
    "\n",
    "```\n",
    "query = \"\"\"SELECT city\n",
    "            FROM `bigquery-public-data.openaq.global_air_quality`\n",
    "            WHERE country = 'US'\n",
    "        \"\"\"\n",
    "open_aq.query_to_pandas_safe(query)```"
   ]
  },
  {
   "cell_type": "code",
   "execution_count": 2,
   "metadata": {},
   "outputs": [
    {
     "name": "stdout",
     "output_type": "stream",
     "text": [
      "  country\n",
      "0      US\n",
      "1      AU\n",
      "2      CL\n",
      "3      MX\n",
      "4      BA\n"
     ]
    },
    {
     "data": {
      "application/javascript": [
       "parent.postMessage({\"jupyterEvent\": \"custom.exercise_interaction\", \"data\": {\"outcomeType\": 1, \"valueTowardsCompletion\": 0.5, \"interactionType\": 1, \"questionType\": 2, \"learnTutorialId\": 78, \"questionId\": \"1_WhichCountries\", \"learnToolsVersion\": \"0.3.0\", \"failureMessage\": \"\", \"exceptionClass\": \"\", \"trace\": \"\"}}, \"*\")"
      ],
      "text/plain": [
       "<IPython.core.display.Javascript object>"
      ]
     },
     "metadata": {},
     "output_type": "display_data"
    },
    {
     "data": {
      "text/markdown": [
       "<span style=\"color:#33cc33\">Correct</span>"
      ],
      "text/plain": [
       "Correct"
      ]
     },
     "metadata": {},
     "output_type": "display_data"
    }
   ],
   "source": [
    "# Your Code Goes Here\n",
    "first_query = \"\"\"SELECT DISTINCT country\n",
    "                 FROM `bigquery-public-data.openaq.global_air_quality`\n",
    "                 WHERE unit = 'ppm'\n",
    "              \"\"\"\n",
    "\n",
    "first_results = open_aq.query_to_pandas_safe(first_query)\n",
    "\n",
    "# View top few rows of results\n",
    "print(first_results.head())\n",
    "\n",
    "q_1.check()"
   ]
  },
  {
   "cell_type": "markdown",
   "metadata": {},
   "source": [
    "For the solution, uncomment the line below."
   ]
  },
  {
   "cell_type": "code",
   "execution_count": 3,
   "metadata": {},
   "outputs": [],
   "source": [
    "#q_1.solution()"
   ]
  },
  {
   "cell_type": "markdown",
   "metadata": {},
   "source": [
    "#### 2) Select all columns of the rows where pollution levels were reported to be exactly 0?"
   ]
  },
  {
   "cell_type": "code",
   "execution_count": 4,
   "metadata": {},
   "outputs": [
    {
     "name": "stdout",
     "output_type": "stream",
     "text": [
      "                                        location          ...           averaged_over_in_hours\n",
      "0                     Victoria Memorial - WBSPCB          ...                             0.25\n",
      "1  Rabindra Bharati University, Kolkata - WBSPCB          ...                             0.25\n",
      "2                               Końskie, MOBILNA          ...                              NaN\n",
      "3                               Końskie, MOBILNA          ...                              NaN\n",
      "4                                Płock-Gimnazjum          ...                              NaN\n",
      "\n",
      "[5 rows x 11 columns]\n"
     ]
    },
    {
     "data": {
      "application/javascript": [
       "parent.postMessage({\"jupyterEvent\": \"custom.exercise_interaction\", \"data\": {\"outcomeType\": 1, \"valueTowardsCompletion\": 0.5, \"interactionType\": 1, \"questionType\": 2, \"learnTutorialId\": 78, \"questionId\": \"2_ZeroPollution\", \"learnToolsVersion\": \"0.3.0\", \"failureMessage\": \"\", \"exceptionClass\": \"\", \"trace\": \"\"}}, \"*\")"
      ],
      "text/plain": [
       "<IPython.core.display.Javascript object>"
      ]
     },
     "metadata": {},
     "output_type": "display_data"
    },
    {
     "data": {
      "text/markdown": [
       "<span style=\"color:#33cc33\">Correct</span>"
      ],
      "text/plain": [
       "Correct"
      ]
     },
     "metadata": {},
     "output_type": "display_data"
    }
   ],
   "source": [
    "# Your Code Goes Here\n",
    "\n",
    "zero_pollution_query = \"\"\"\n",
    "                       SELECT *\n",
    "                       FROM `bigquery-public-data.openaq.global_air_quality`\n",
    "                       WHERE value = 0\n",
    "                       \"\"\"\n",
    "\n",
    "zero_pollution_results = open_aq.query_to_pandas_safe(zero_pollution_query)\n",
    "\n",
    "print(zero_pollution_results.head())\n",
    "\n",
    "q_2.check()"
   ]
  },
  {
   "cell_type": "markdown",
   "metadata": {},
   "source": [
    "For the solution, uncomment the line below:"
   ]
  },
  {
   "cell_type": "code",
   "execution_count": 5,
   "metadata": {},
   "outputs": [],
   "source": [
    "#q_2.solution()"
   ]
  },
  {
   "cell_type": "markdown",
   "metadata": {},
   "source": [
    "That query wasn't too complicated, and it got the data you want. But these **SELECT** queries don't organizing data in a way that answers the most interesting questions. For that, we'll need the **GROUP BY** command. \n",
    "\n",
    "If you know how to use `groupby` in Pandas, this is similar. But BigQuery works quickly with far larger datasets.\n",
    "\n",
    "Fortunately, that's next."
   ]
  },
  {
   "cell_type": "markdown",
   "metadata": {},
   "source": [
    "---\n",
    "**[SQL Course Home Page](https://www.kaggle.com/learn/SQL)**\n",
    "\n"
   ]
  },
  {
   "cell_type": "markdown",
   "metadata": {},
   "source": [
    "# Keep Going\n",
    "**[GROUP BY](https://www.kaggle.com/dansbecker/group-by-having-count)** clauses and their extensions give you the power to pull interesting statistics out of data, rather than receiving it in just it's raw format."
   ]
  }
 ],
 "metadata": {
  "kernelspec": {
   "display_name": "Python 3",
   "language": "python",
   "name": "python3"
  },
  "language_info": {
   "codemirror_mode": {
    "name": "ipython",
    "version": 3
   },
   "file_extension": ".py",
   "mimetype": "text/x-python",
   "name": "python",
   "nbconvert_exporter": "python",
   "pygments_lexer": "ipython3",
   "version": "3.6.6"
  }
 },
 "nbformat": 4,
 "nbformat_minor": 1
}
