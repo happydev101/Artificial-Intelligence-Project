{
 "cells": [
  {
   "cell_type": "markdown",
   "metadata": {},
   "source": [
    "# ONNX.js Variational Autoencoder (VAE)"
   ]
  },
  {
   "cell_type": "code",
   "execution_count": 26,
   "metadata": {},
   "outputs": [],
   "source": [
    "import torch\n",
    "import torch.nn as nn\n",
    "import torch.nn.functional as F\n",
    "import torch.optim as optim\n",
    "import matplotlib.pyplot as plt\n",
    "from torch.utils.data import DataLoader\n",
    "from torchvision import datasets, transforms\n",
    "import onnx\n",
    "import numpy as np"
   ]
  },
  {
   "cell_type": "code",
   "execution_count": 27,
   "metadata": {},
   "outputs": [],
   "source": [
    "device = torch.device('cuda' if torch.cuda.is_available() else 'cpu')"
   ]
  },
  {
   "cell_type": "markdown",
   "metadata": {},
   "source": [
    "## MNIST"
   ]
  },
  {
   "cell_type": "code",
   "execution_count": 28,
   "metadata": {},
   "outputs": [],
   "source": [
    "transforms = transforms.Compose([transforms.ToTensor()])\n",
    "train_dataset = datasets.MNIST(\n",
    "    './data',\n",
    "    train=True,\n",
    "    download=True,\n",
    "    transform=transforms)\n",
    "\n",
    "test_dataset = datasets.MNIST(\n",
    "    './data',\n",
    "    train=False,\n",
    "    download=True,\n",
    "    transform=transforms\n",
    ")"
   ]
  },
  {
   "cell_type": "code",
   "execution_count": 34,
   "metadata": {},
   "outputs": [],
   "source": [
    "BATCH_SIZE, N_EPOCHS, lr = 64, 10, 1e-3\n",
    "INPUT_DIM, HIDDEN_DIM, LATENT_DIM = 28*28, 256, 20                \n",
    "\n",
    "train_iterator = DataLoader(train_dataset.data, batch_size=BATCH_SIZE, shuffle=True)\n",
    "test_iterator = DataLoader(test_dataset.data, batch_size=BATCH_SIZE)"
   ]
  },
  {
   "cell_type": "code",
   "execution_count": 5,
   "metadata": {},
   "outputs": [],
   "source": [
    "class Encoder(nn.Module):\n",
    "        def __init__(self, input_dim, hidden_dim, z_dim):\n",
    "            super().__init__()\n",
    "\n",
    "            self.linear = nn.Linear(input_dim, hidden_dim)\n",
    "            self.mu = nn.Linear(hidden_dim, z_dim)\n",
    "            self.var = nn.Linear(hidden_dim, z_dim)\n",
    "\n",
    "        def forward(self, x):\n",
    "            hidden = F.relu(self.linear(x))\n",
    "            z_mu = self.mu(hidden)\n",
    "            z_var = self.var(hidden)\n",
    "            return z_mu, z_var\n",
    "        \n",
    "class Decoder(nn.Module):\n",
    "    def __init__(self, z_dim, hidden_dim, output_dim):\n",
    "        super().__init__()\n",
    "        self.linear = nn.Linear(z_dim, hidden_dim)\n",
    "        self.out = nn.Linear(hidden_dim, output_dim)\n",
    "\n",
    "    def forward(self, x):\n",
    "        hidden = F.relu(self.linear(x))\n",
    "        predicted = torch.sigmoid(self.out(hidden))\n",
    "        return predicted\n",
    "    \n",
    "    \n",
    "class VAE(nn.Module):\n",
    "        def __init__(self, enc, dec):\n",
    "            super().__init__()\n",
    "            self.enc = enc\n",
    "            self.dec = dec\n",
    "\n",
    "        def forward(self, x):\n",
    "            z_mu, z_var = self.enc(x)\n",
    "            std = torch.exp(z_var / 2)\n",
    "            eps = torch.randn_like(std)\n",
    "            x_sample = eps.mul(std).add_(z_mu)\n",
    "            predicted = self.dec(x_sample)\n",
    "            return predicted, z_mu, z_var"
   ]
  },
  {
   "cell_type": "code",
   "execution_count": 6,
   "metadata": {},
   "outputs": [],
   "source": [
    "encoder = Encoder(INPUT_DIM, HIDDEN_DIM, LATENT_DIM)\n",
    "decoder = Decoder(LATENT_DIM, HIDDEN_DIM, INPUT_DIM)\n",
    "model = VAE(encoder, decoder).to(device)\n",
    "optimizer = optim.Adam(model.parameters(), lr=lr)"
   ]
  },
  {
   "cell_type": "code",
   "execution_count": 56,
   "metadata": {},
   "outputs": [],
   "source": [
    "def train(model, train_iterator, optimizer):\n",
    "        model.train()\n",
    "        train_loss = 0\n",
    "        for i, x in enumerate(train_iterator):\n",
    "            x = x.view(-1, 28 * 28)\n",
    "            optimizer.zero_grad()\n",
    "            x_sample, z_mu, z_var = model(x.to(device))\n",
    "            recon_loss = F.binary_cross_entropy(x_sample, x.to(device), size_average=False)\n",
    "            kl_loss = 0.5 * torch.sum(torch.exp(z_var) + z_mu**2 - 1.0 - z_var)\n",
    "            loss = recon_loss + kl_loss\n",
    "            loss.backward()\n",
    "            train_loss += loss.item()\n",
    "            optimizer.step()\n",
    "\n",
    "        return train_loss"
   ]
  },
  {
   "cell_type": "code",
   "execution_count": 57,
   "metadata": {},
   "outputs": [],
   "source": [
    "def test(model, test_iterator):\n",
    "    model.eval()\n",
    "    test_loss = 0\n",
    "    with torch.no_grad():\n",
    "        for i, x in enumerate(test_iterator):\n",
    "            x = x.view(-1, 28 * 28)\n",
    "            x_sample, z_mu, z_var = model(x.to(device))\n",
    "            recon_loss = F.binary_cross_entropy(x_sample, x.to(device), size_average=False)\n",
    "            kl_loss = 0.5 * torch.sum(torch.exp(z_var) + z_mu**2 - 1.0 - z_var)\n",
    "            loss = recon_loss + kl_loss\n",
    "            test_loss += loss.item()\n",
    "\n",
    "    return test_loss"
   ]
  },
  {
   "cell_type": "code",
   "execution_count": 48,
   "metadata": {},
   "outputs": [
    {
     "name": "stdout",
     "output_type": "stream",
     "text": [
      "Epoch 0, Train Loss: 155.57, Test Loss: 124.72\n",
      "Epoch 1, Train Loss: 120.26, Test Loss: 115.39\n",
      "Epoch 2, Train Loss: 114.23, Test Loss: 111.89\n",
      "Epoch 3, Train Loss: 111.72, Test Loss: 110.31\n",
      "Epoch 4, Train Loss: 110.19, Test Loss: 109.02\n",
      "Epoch 5, Train Loss: 109.20, Test Loss: 107.85\n",
      "Epoch 6, Train Loss: 108.45, Test Loss: 107.59\n",
      "Epoch 7, Train Loss: 107.89, Test Loss: 107.16\n",
      "Epoch 8, Train Loss: 107.46, Test Loss: 106.71\n",
      "Epoch 9, Train Loss: 107.04, Test Loss: 106.51\n",
      "Epoch 10, Train Loss: 106.71, Test Loss: 106.13\n",
      "Epoch 11, Train Loss: 106.46, Test Loss: 105.83\n",
      "Epoch 12, Train Loss: 106.23, Test Loss: 105.76\n",
      "Epoch 13, Train Loss: 106.02, Test Loss: 105.65\n",
      "Epoch 14, Train Loss: 105.83, Test Loss: 105.38\n",
      "Epoch 15, Train Loss: 105.68, Test Loss: 105.11\n",
      "Epoch 16, Train Loss: 105.48, Test Loss: 105.13\n",
      "Epoch 17, Train Loss: 105.31, Test Loss: 104.88\n",
      "Epoch 18, Train Loss: 105.16, Test Loss: 104.72\n",
      "Epoch 19, Train Loss: 105.06, Test Loss: 104.65\n"
     ]
    }
   ],
   "source": [
    "for i in range(N_EPOCHS):\n",
    "    train_loss = train(model, train_iterator, optimizer)\n",
    "    test_loss = test(model, test_iterator)\n",
    "    train_loss /= len(train_dataset)\n",
    "    test_loss /= len(test_dataset)\n",
    "    print('Epoch ' + str(i) + ', Train Loss: ' + str(round(train_loss, 2)) + ' Test Loss: ' + str(round(test_loss, 2)))"
   ]
  },
  {
   "cell_type": "code",
   "execution_count": 7,
   "metadata": {},
   "outputs": [],
   "source": [
    "torch.save(model.state_dict(), \"trained.pt\")"
   ]
  },
  {
   "cell_type": "code",
   "execution_count": 9,
   "metadata": {},
   "outputs": [],
   "source": [
    "class VAE2(nn.Module):\n",
    "        def __init__(self, enc, dec):\n",
    "            super().__init__()\n",
    "            self.enc = enc\n",
    "            self.dec = dec\n",
    "\n",
    "        def forward(self, x):\n",
    "            # Following https://www.youtube.com/watch?v=Vs730jsRgO8\n",
    "            x, eps = x[0], x[1]\n",
    "            x = x.reshape(280, 280, 4)\n",
    "            x = torch.narrow(x, dim=2, start=3, length=1)\n",
    "            x = x.reshape(1, 1, 280, 280)\n",
    "            x = F.avg_pool2d(x, 10, stride=10, ceil_mode=False)\n",
    "            x = x.view(-1, 28 * 28)\n",
    "            x = x / 255\n",
    "            z_mu, z_var = self.enc(x)\n",
    "            std = torch.exp(z_var / 2)\n",
    "            \n",
    "            eps = eps.reshape(1, 20)\n",
    "            x_sample = eps.mul(std).add_(z_mu)\n",
    "            predicted = self.dec(x_sample)\n",
    "            predicted /= (predicted.max()/255.0)\n",
    "            predicted = predicted.view(28, 28)\n",
    "            return predicted"
   ]
  },
  {
   "cell_type": "code",
   "execution_count": 282,
   "metadata": {},
   "outputs": [
    {
     "data": {
      "image/png": "[encoded data removed]",
      "text/plain": [
       "<Figure size 432x288 with 1 Axes>"
      ]
     },
     "metadata": {
      "needs_background": "light"
     },
     "output_type": "display_data"
    }
   ],
   "source": [
    "pre_trained = VAE2(encoder, decoder).to(device)\n",
    "pre_trained.load_state_dict(torch.load('trained.pt'))\n",
    "pre_trained.eval()\n",
    "\n",
    "ex = test_dataset.data[7].float()\n",
    "\n",
    "plt.imshow(ex, cmap='gray')\n",
    "plt.show()"
   ]
  },
  {
   "cell_type": "code",
   "execution_count": 283,
   "metadata": {},
   "outputs": [
    {
     "name": "stdout",
     "output_type": "stream",
     "text": [
      "torch.Size([313600])\n",
      "torch.Size([28, 28])\n",
      "torch.Size([28, 28])\n"
     ]
    },
    {
     "data": {
      "text/plain": [
       "<matplotlib.image.AxesImage at 0x23c7207b470>"
      ]
     },
     "execution_count": 283,
     "metadata": {},
     "output_type": "execute_result"
    },
    {
     "data": {
      "image/png": "[encoded data removed]",
      "text/plain": [
       "<Figure size 432x288 with 1 Axes>"
      ]
     },
     "metadata": {
      "needs_background": "light"
     },
     "output_type": "display_data"
    }
   ],
   "source": [
    "dummy_input = torch.zeros(280 * 280 * 4).float()\n",
    "print(dummy_input.shape)\n",
    "ep = torch.randn(1, 20)\n",
    "x_t = pre_trained([dummy_input, ep])\n",
    "print(x_t.shape)\n",
    "img = x_t.view(28, 28).data\n",
    "\n",
    "print(img.shape)\n",
    "\n",
    "plt.imshow(img, cmap='gray')"
   ]
  },
  {
   "cell_type": "code",
   "execution_count": 284,
   "metadata": {},
   "outputs": [
    {
     "name": "stdout",
     "output_type": "stream",
     "text": [
      "graph(%0 : Float(313600),\n",
      "      %1 : Float(1, 20),\n",
      "      %enc.linear.weight : Float(256, 784),\n",
      "      %enc.linear.bias : Float(256),\n",
      "      %enc.mu.weight : Float(20, 256),\n",
      "      %enc.mu.bias : Float(20),\n",
      "      %enc.var.weight : Float(20, 256),\n",
      "      %enc.var.bias : Float(20),\n",
      "      %dec.linear.weight : Float(256, 20),\n",
      "      %dec.linear.bias : Float(256),\n",
      "      %dec.out.weight : Float(784, 256),\n",
      "      %dec.out.bias : Float(784)):\n",
      "  %12 : Tensor = onnx::Constant[value= 280  280    4 [ CPULongType{3} ]]()\n",
      "  %13 : Float(280, 280, 4) = onnx::Reshape(%0, %12) # <ipython-input-281-b7584c848e0e>:13:0\n",
      "  %14 : Tensor = onnx::Constant[value={2}]()\n",
      "  %15 : Tensor = onnx::Constant[value={3}]()\n",
      "  %16 : Tensor = onnx::Constant[value={4}]()\n",
      "  %17 : Float(280, 280, 1) = onnx::Slice(%13, %15, %16, %14) # <ipython-input-281-b7584c848e0e>:14:0\n",
      "  %18 : Tensor = onnx::Constant[value=   1    1  280  280 [ CPULongType{4} ]]()\n",
      "  %19 : Float(1, 1, 280, 280) = onnx::Reshape(%17, %18) # <ipython-input-281-b7584c848e0e>:16:0\n",
      "  %20 : Tensor = onnx::Pad[mode=\"constant\", pads=[0, 0, 0, 0, 0, 0, 0, 0], value=0.](%19)\n",
      "  %21 : Float(1, 1, 28, 28) = onnx::AveragePool[ceil_mode=0, kernel_shape=[10, 10], pads=[0, 0, 0, 0], strides=[10, 10]](%20) # <ipython-input-281-b7584c848e0e>:17:0\n",
      "  %22 : Tensor = onnx::Constant[value=  -1  784 [ CPULongType{2} ]]()\n",
      "  %23 : Float(1, 784) = onnx::Reshape(%21, %22) # <ipython-input-281-b7584c848e0e>:18:0\n",
      "  %24 : Float() = onnx::Constant[value={255}]()\n",
      "  %25 : Float(1, 784) = onnx::Div(%23, %24)\n",
      "  %26 : Float(1, 256) = onnx::Gemm[alpha=1., beta=1., transB=1](%25, %enc.linear.weight, %enc.linear.bias) # C:\\Users\\hp\\Anaconda3\\envs\\pysyft\\lib\\site-packages\\torch\\nn\\functional.py:1610:0\n",
      "  %27 : Float(1, 256) = onnx::Relu(%26) # C:\\Users\\hp\\Anaconda3\\envs\\pysyft\\lib\\site-packages\\torch\\nn\\functional.py:1063:0\n",
      "  %28 : Float(1, 20) = onnx::Gemm[alpha=1., beta=1., transB=1](%27, %enc.mu.weight, %enc.mu.bias) # C:\\Users\\hp\\Anaconda3\\envs\\pysyft\\lib\\site-packages\\torch\\nn\\functional.py:1610:0\n",
      "  %29 : Float(1, 20) = onnx::Gemm[alpha=1., beta=1., transB=1](%27, %enc.var.weight, %enc.var.bias) # C:\\Users\\hp\\Anaconda3\\envs\\pysyft\\lib\\site-packages\\torch\\nn\\functional.py:1610:0\n",
      "  %30 : Float() = onnx::Constant[value={2}]()\n",
      "  %31 : Float(1, 20) = onnx::Div(%29, %30)\n",
      "  %32 : Float(1, 20) = onnx::Exp(%31) # <ipython-input-281-b7584c848e0e>:26:0\n",
      "  %33 : Float(1, 20) = onnx::Flatten[axis=1](%1) # <ipython-input-281-b7584c848e0e>:28:0\n",
      "  %34 : Float(1, 20) = onnx::Mul(%33, %32) # <ipython-input-281-b7584c848e0e>:29:0\n",
      "  %35 : Float(1, 20) = onnx::Add(%34, %28)\n",
      "  %36 : Float(1, 256) = onnx::Gemm[alpha=1., beta=1., transB=1](%35, %dec.linear.weight, %dec.linear.bias) # C:\\Users\\hp\\Anaconda3\\envs\\pysyft\\lib\\site-packages\\torch\\nn\\functional.py:1610:0\n",
      "  %37 : Float(1, 256) = onnx::Relu(%36) # C:\\Users\\hp\\Anaconda3\\envs\\pysyft\\lib\\site-packages\\torch\\nn\\functional.py:1063:0\n",
      "  %38 : Float(1, 784) = onnx::Gemm[alpha=1., beta=1., transB=1](%37, %dec.out.weight, %dec.out.bias) # C:\\Users\\hp\\Anaconda3\\envs\\pysyft\\lib\\site-packages\\torch\\nn\\functional.py:1610:0\n",
      "  %39 : Float(1, 784) = onnx::Sigmoid(%38) # <ipython-input-5-0f9f1e1de176>:52:0\n",
      "  %40 : Float() = onnx::ReduceMax[keepdims=0](%39) # <ipython-input-281-b7584c848e0e>:33:0\n",
      "  %41 : Float() = onnx::Constant[value={255}]()\n",
      "  %42 : Float() = onnx::Div(%40, %41)\n",
      "  %43 : Float(1, 784) = onnx::Div(%39, %42)\n",
      "  %44 : Tensor = onnx::Constant[value= 28  28 [ CPULongType{2} ]]()\n",
      "  %45 : Float(28, 28) = onnx::Reshape(%43, %44) # <ipython-input-281-b7584c848e0e>:35:0\n",
      "  return (%45)\n",
      "\n"
     ]
    }
   ],
   "source": [
    "torch.onnx.export(pre_trained, [dummy_input , ep], \"onnx_model.onnx\", verbose=True, opset_version=10)"
   ]
  },
  {
   "cell_type": "markdown",
   "metadata": {},
   "source": [
    "## Rotated MNIST"
   ]
  },
  {
   "cell_type": "code",
   "execution_count": 58,
   "metadata": {},
   "outputs": [],
   "source": [
    "mnist_train = torch.Tensor(np.load('data/mnist_rotated/images_train.npy'))\n",
    "mnist_val = torch.Tensor(np.load('data/mnist_rotated/images_test.npy'))\n",
    "mnist_train = (mnist_train.float() - torch.min(mnist_train)) / (torch.max(mnist_train) - \n",
    "                                                                torch.min(mnist_train))\n",
    "mnist_val = (mnist_val.float() - torch.min(mnist_val)) / (torch.max(mnist_val) - \n",
    "                                                                torch.min(mnist_val))\n",
    "train_iterator2 = DataLoader(mnist_train, batch_size=BATCH_SIZE, shuffle=True)\n",
    "test_iterator2 = DataLoader(mnist_val, batch_size=BATCH_SIZE)\n",
    "\n",
    "encoder = Encoder(INPUT_DIM, HIDDEN_DIM, LATENT_DIM)\n",
    "decoder = Decoder(LATENT_DIM, HIDDEN_DIM, INPUT_DIM)\n",
    "model2 = VAE(encoder, decoder).to(device)\n",
    "optimizer2 = optim.Adam(model2.parameters(), lr=lr)"
   ]
  },
  {
   "cell_type": "code",
   "execution_count": 59,
   "metadata": {},
   "outputs": [
    {
     "name": "stdout",
     "output_type": "stream",
     "text": [
      "Epoch 0, Train Loss: 184.05, Test Loss: 148.71\n",
      "Epoch 1, Train Loss: 144.25, Test Loss: 139.52\n",
      "Epoch 2, Train Loss: 138.53, Test Loss: 136.18\n",
      "Epoch 3, Train Loss: 135.80, Test Loss: 134.31\n",
      "Epoch 4, Train Loss: 134.28, Test Loss: 132.93\n",
      "Epoch 5, Train Loss: 133.15, Test Loss: 132.22\n",
      "Epoch 6, Train Loss: 132.36, Test Loss: 131.69\n",
      "Epoch 7, Train Loss: 131.80, Test Loss: 131.17\n",
      "Epoch 8, Train Loss: 131.29, Test Loss: 130.91\n",
      "Epoch 9, Train Loss: 130.88, Test Loss: 130.61\n"
     ]
    }
   ],
   "source": [
    "for i in range(N_EPOCHS):\n",
    "    train_loss = train(model2, train_iterator2, optimizer2)\n",
    "    test_loss = test(model2, test_iterator2)\n",
    "    train_loss /= len(mnist_train)\n",
    "    test_loss /= len(mnist_val)\n",
    "    print('Epoch ' + str(i) + ', Train Loss: ' + str(round(train_loss, 2)) + ' Test Loss: ' + str(round(test_loss, 2)))"
   ]
  },
  {
   "cell_type": "code",
   "execution_count": 62,
   "metadata": {},
   "outputs": [],
   "source": [
    "torch.save(model2.state_dict(), \"trained2.pt\")"
   ]
  },
  {
   "cell_type": "code",
   "execution_count": 66,
   "metadata": {},
   "outputs": [
    {
     "data": {
      "image/png": "[encoded data removed]",
      "text/plain": [
       "<Figure size 432x288 with 1 Axes>"
      ]
     },
     "metadata": {
      "needs_background": "light"
     },
     "output_type": "display_data"
    }
   ],
   "source": [
    "pre_trained2 = VAE2(encoder, decoder).to(device)\n",
    "pre_trained2.load_state_dict(torch.load('trained2.pt'))\n",
    "pre_trained2.eval()\n",
    "\n",
    "ex = mnist_val[7].float()\n",
    "\n",
    "plt.imshow(ex, cmap='gray')\n",
    "plt.show()"
   ]
  },
  {
   "cell_type": "code",
   "execution_count": 75,
   "metadata": {},
   "outputs": [
    {
     "name": "stdout",
     "output_type": "stream",
     "text": [
      "torch.Size([313600])\n",
      "torch.Size([28, 28])\n",
      "torch.Size([28, 28])\n"
     ]
    },
    {
     "data": {
      "text/plain": [
       "<matplotlib.image.AxesImage at 0x27a80311080>"
      ]
     },
     "execution_count": 75,
     "metadata": {},
     "output_type": "execute_result"
    },
    {
     "data": {
      "image/png": "[encoded data removed]",
      "text/plain": [
       "<Figure size 432x288 with 1 Axes>"
      ]
     },
     "metadata": {
      "needs_background": "light"
     },
     "output_type": "display_data"
    }
   ],
   "source": [
    "dummy_input = torch.zeros(280 * 280 * 4).float()\n",
    "print(dummy_input.shape)\n",
    "ep = torch.randn(1, 20)\n",
    "x_t = pre_trained2([dummy_input, ep])\n",
    "print(x_t.shape)\n",
    "img = x_t.view(28, 28).data\n",
    "\n",
    "print(img.shape)\n",
    "\n",
    "plt.imshow(img, cmap='gray')"
   ]
  },
  {
   "cell_type": "code",
   "execution_count": 76,
   "metadata": {},
   "outputs": [
    {
     "name": "stdout",
     "output_type": "stream",
     "text": [
      "graph(%0 : Float(313600),\n",
      "      %1 : Float(1, 20),\n",
      "      %enc.linear.weight : Float(256, 784),\n",
      "      %enc.linear.bias : Float(256),\n",
      "      %enc.mu.weight : Float(20, 256),\n",
      "      %enc.mu.bias : Float(20),\n",
      "      %enc.var.weight : Float(20, 256),\n",
      "      %enc.var.bias : Float(20),\n",
      "      %dec.linear.weight : Float(256, 20),\n",
      "      %dec.linear.bias : Float(256),\n",
      "      %dec.out.weight : Float(784, 256),\n",
      "      %dec.out.bias : Float(784)):\n",
      "  %12 : Tensor = onnx::Constant[value= 280  280    4 [ CPULongType{3} ]]()\n",
      "  %13 : Float(280, 280, 4) = onnx::Reshape(%0, %12) # <ipython-input-9-b7584c848e0e>:13:0\n",
      "  %14 : Tensor = onnx::Constant[value={2}]()\n",
      "  %15 : Tensor = onnx::Constant[value={3}]()\n",
      "  %16 : Tensor = onnx::Constant[value={4}]()\n",
      "  %17 : Float(280, 280, 1) = onnx::Slice(%13, %15, %16, %14) # <ipython-input-9-b7584c848e0e>:14:0\n",
      "  %18 : Tensor = onnx::Constant[value=   1    1  280  280 [ CPULongType{4} ]]()\n",
      "  %19 : Float(1, 1, 280, 280) = onnx::Reshape(%17, %18) # <ipython-input-9-b7584c848e0e>:16:0\n",
      "  %20 : Tensor = onnx::Pad[mode=\"constant\", pads=[0, 0, 0, 0, 0, 0, 0, 0], value=0.](%19)\n",
      "  %21 : Float(1, 1, 28, 28) = onnx::AveragePool[ceil_mode=0, kernel_shape=[10, 10], pads=[0, 0, 0, 0], strides=[10, 10]](%20) # <ipython-input-9-b7584c848e0e>:17:0\n",
      "  %22 : Tensor = onnx::Constant[value=  -1  784 [ CPULongType{2} ]]()\n",
      "  %23 : Float(1, 784) = onnx::Reshape(%21, %22) # <ipython-input-9-b7584c848e0e>:18:0\n",
      "  %24 : Float() = onnx::Constant[value={255}]()\n",
      "  %25 : Float(1, 784) = onnx::Div(%23, %24)\n",
      "  %26 : Float(1, 256) = onnx::Gemm[alpha=1., beta=1., transB=1](%25, %enc.linear.weight, %enc.linear.bias) # C:\\Users\\hp\\Anaconda3\\envs\\pysyft\\lib\\site-packages\\torch\\nn\\functional.py:1610:0\n",
      "  %27 : Float(1, 256) = onnx::Relu(%26) # C:\\Users\\hp\\Anaconda3\\envs\\pysyft\\lib\\site-packages\\torch\\nn\\functional.py:1063:0\n",
      "  %28 : Float(1, 20) = onnx::Gemm[alpha=1., beta=1., transB=1](%27, %enc.mu.weight, %enc.mu.bias) # C:\\Users\\hp\\Anaconda3\\envs\\pysyft\\lib\\site-packages\\torch\\nn\\functional.py:1610:0\n",
      "  %29 : Float(1, 20) = onnx::Gemm[alpha=1., beta=1., transB=1](%27, %enc.var.weight, %enc.var.bias) # C:\\Users\\hp\\Anaconda3\\envs\\pysyft\\lib\\site-packages\\torch\\nn\\functional.py:1610:0\n",
      "  %30 : Float() = onnx::Constant[value={2}]()\n",
      "  %31 : Float(1, 20) = onnx::Div(%29, %30)\n",
      "  %32 : Float(1, 20) = onnx::Exp(%31) # <ipython-input-9-b7584c848e0e>:26:0\n",
      "  %33 : Float(1, 20) = onnx::Flatten[axis=1](%1) # <ipython-input-9-b7584c848e0e>:28:0\n",
      "  %34 : Float(1, 20) = onnx::Mul(%33, %32) # <ipython-input-9-b7584c848e0e>:29:0\n",
      "  %35 : Float(1, 20) = onnx::Add(%34, %28)\n",
      "  %36 : Float(1, 256) = onnx::Gemm[alpha=1., beta=1., transB=1](%35, %dec.linear.weight, %dec.linear.bias) # C:\\Users\\hp\\Anaconda3\\envs\\pysyft\\lib\\site-packages\\torch\\nn\\functional.py:1610:0\n",
      "  %37 : Float(1, 256) = onnx::Relu(%36) # C:\\Users\\hp\\Anaconda3\\envs\\pysyft\\lib\\site-packages\\torch\\nn\\functional.py:1063:0\n",
      "  %38 : Float(1, 784) = onnx::Gemm[alpha=1., beta=1., transB=1](%37, %dec.out.weight, %dec.out.bias) # C:\\Users\\hp\\Anaconda3\\envs\\pysyft\\lib\\site-packages\\torch\\nn\\functional.py:1610:0\n",
      "  %39 : Float(1, 784) = onnx::Sigmoid(%38) # <ipython-input-5-0f9f1e1de176>:52:0\n",
      "  %40 : Float() = onnx::ReduceMax[keepdims=0](%39) # <ipython-input-9-b7584c848e0e>:33:0\n",
      "  %41 : Float() = onnx::Constant[value={255}]()\n",
      "  %42 : Float() = onnx::Div(%40, %41)\n",
      "  %43 : Float(1, 784) = onnx::Div(%39, %42)\n",
      "  %44 : Tensor = onnx::Constant[value= 28  28 [ CPULongType{2} ]]()\n",
      "  %45 : Float(28, 28) = onnx::Reshape(%43, %44) # <ipython-input-9-b7584c848e0e>:35:0\n",
      "  return (%45)\n",
      "\n"
     ]
    }
   ],
   "source": [
    "torch.onnx.export(pre_trained2, [dummy_input , ep], \"onnx_model2.onnx\", verbose=True, opset_version=10)"
   ]
  },
  {
   "cell_type": "markdown",
   "metadata": {},
   "source": [
    "## Rotated and Translated MNIST"
   ]
  },
  {
   "cell_type": "code",
   "execution_count": 60,
   "metadata": {},
   "outputs": [],
   "source": [
    "mnist_train2 = torch.Tensor(np.load('data/mnist_rotated_translated/images_train.npy'))\n",
    "mnist_val2 = torch.Tensor(np.load('data/mnist_rotated_translated/images_test.npy'))\n",
    "mnist_train2 = (mnist_train2.float() - torch.min(mnist_train2)) / (torch.max(mnist_train2) - \n",
    "                                                                torch.min(mnist_train2))\n",
    "mnist_val2 = (mnist_val2.float() - torch.min(mnist_val2)) / (torch.max(mnist_val2) - \n",
    "                                                                torch.min(mnist_val2))\n",
    "train_iterator3 = DataLoader(mnist_train2, batch_size=BATCH_SIZE, shuffle=True)\n",
    "test_iterator3 = DataLoader(mnist_val2, batch_size=BATCH_SIZE)\n",
    "\n",
    "encoder = Encoder(INPUT_DIM, HIDDEN_DIM, LATENT_DIM)\n",
    "decoder = Decoder(LATENT_DIM, HIDDEN_DIM, INPUT_DIM)\n",
    "model3 = VAE(encoder, decoder).to(device)\n",
    "optimizer3 = optim.Adam(model3.parameters(), lr=lr)"
   ]
  },
  {
   "cell_type": "code",
   "execution_count": 61,
   "metadata": {},
   "outputs": [
    {
     "name": "stdout",
     "output_type": "stream",
     "text": [
      "Epoch 0, Train Loss: 189.87, Test Loss: 152.20\n",
      "Epoch 1, Train Loss: 145.95, Test Loss: 141.67\n",
      "Epoch 2, Train Loss: 139.92, Test Loss: 138.26\n",
      "Epoch 3, Train Loss: 137.12, Test Loss: 136.01\n",
      "Epoch 4, Train Loss: 135.28, Test Loss: 134.30\n",
      "Epoch 5, Train Loss: 133.96, Test Loss: 133.32\n",
      "Epoch 6, Train Loss: 133.01, Test Loss: 132.80\n",
      "Epoch 7, Train Loss: 132.18, Test Loss: 132.15\n",
      "Epoch 8, Train Loss: 131.63, Test Loss: 131.52\n",
      "Epoch 9, Train Loss: 131.11, Test Loss: 131.17\n"
     ]
    }
   ],
   "source": [
    "for i in range(N_EPOCHS):\n",
    "    train_loss = train(model3, train_iterator3, optimizer3)\n",
    "    test_loss = test(model3, test_iterator3)\n",
    "    train_loss /= len(mnist_train2)\n",
    "    test_loss /= len(mnist_val2)\n",
    "    print('Epoch ' + str(i) + ', Train Loss: ' + str(round(train_loss, 2)) + ' Test Loss: ' + str(round(test_loss, 2)))"
   ]
  },
  {
   "cell_type": "code",
   "execution_count": 77,
   "metadata": {},
   "outputs": [],
   "source": [
    "torch.save(model2.state_dict(), \"trained3.pt\")"
   ]
  },
  {
   "cell_type": "code",
   "execution_count": 82,
   "metadata": {},
   "outputs": [
    {
     "data": {
      "image/png": "[encoded data removed]",
      "text/plain": [
       "<Figure size 432x288 with 1 Axes>"
      ]
     },
     "metadata": {
      "needs_background": "light"
     },
     "output_type": "display_data"
    }
   ],
   "source": [
    "pre_trained3 = VAE2(encoder, decoder).to(device)\n",
    "pre_trained3.load_state_dict(torch.load('trained3.pt'))\n",
    "pre_trained3.eval()\n",
    "\n",
    "ex = mnist_val2[17].float()\n",
    "\n",
    "plt.imshow(ex, cmap='gray')\n",
    "plt.show()"
   ]
  },
  {
   "cell_type": "code",
   "execution_count": 85,
   "metadata": {},
   "outputs": [
    {
     "name": "stdout",
     "output_type": "stream",
     "text": [
      "torch.Size([313600])\n",
      "torch.Size([28, 28])\n",
      "torch.Size([28, 28])\n"
     ]
    },
    {
     "data": {
      "text/plain": [
       "<matplotlib.image.AxesImage at 0x27a887c85f8>"
      ]
     },
     "execution_count": 85,
     "metadata": {},
     "output_type": "execute_result"
    },
    {
     "data": {
      "image/png": "[encoded data removed]",
      "text/plain": [
       "<Figure size 432x288 with 1 Axes>"
      ]
     },
     "metadata": {
      "needs_background": "light"
     },
     "output_type": "display_data"
    }
   ],
   "source": [
    "dummy_input = torch.zeros(280 * 280 * 4).float()\n",
    "print(dummy_input.shape)\n",
    "ep = torch.randn(1, 20)\n",
    "x_t = pre_trained3([dummy_input, ep])\n",
    "print(x_t.shape)\n",
    "img = x_t.view(28, 28).data\n",
    "\n",
    "print(img.shape)\n",
    "\n",
    "plt.imshow(img, cmap='gray')"
   ]
  },
  {
   "cell_type": "code",
   "execution_count": 86,
   "metadata": {},
   "outputs": [
    {
     "name": "stdout",
     "output_type": "stream",
     "text": [
      "graph(%0 : Float(313600),\n",
      "      %1 : Float(1, 20),\n",
      "      %enc.linear.weight : Float(256, 784),\n",
      "      %enc.linear.bias : Float(256),\n",
      "      %enc.mu.weight : Float(20, 256),\n",
      "      %enc.mu.bias : Float(20),\n",
      "      %enc.var.weight : Float(20, 256),\n",
      "      %enc.var.bias : Float(20),\n",
      "      %dec.linear.weight : Float(256, 20),\n",
      "      %dec.linear.bias : Float(256),\n",
      "      %dec.out.weight : Float(784, 256),\n",
      "      %dec.out.bias : Float(784)):\n",
      "  %12 : Tensor = onnx::Constant[value= 280  280    4 [ CPULongType{3} ]]()\n",
      "  %13 : Float(280, 280, 4) = onnx::Reshape(%0, %12) # <ipython-input-9-b7584c848e0e>:13:0\n",
      "  %14 : Tensor = onnx::Constant[value={2}]()\n",
      "  %15 : Tensor = onnx::Constant[value={3}]()\n",
      "  %16 : Tensor = onnx::Constant[value={4}]()\n",
      "  %17 : Float(280, 280, 1) = onnx::Slice(%13, %15, %16, %14) # <ipython-input-9-b7584c848e0e>:14:0\n",
      "  %18 : Tensor = onnx::Constant[value=   1    1  280  280 [ CPULongType{4} ]]()\n",
      "  %19 : Float(1, 1, 280, 280) = onnx::Reshape(%17, %18) # <ipython-input-9-b7584c848e0e>:16:0\n",
      "  %20 : Tensor = onnx::Pad[mode=\"constant\", pads=[0, 0, 0, 0, 0, 0, 0, 0], value=0.](%19)\n",
      "  %21 : Float(1, 1, 28, 28) = onnx::AveragePool[ceil_mode=0, kernel_shape=[10, 10], pads=[0, 0, 0, 0], strides=[10, 10]](%20) # <ipython-input-9-b7584c848e0e>:17:0\n",
      "  %22 : Tensor = onnx::Constant[value=  -1  784 [ CPULongType{2} ]]()\n",
      "  %23 : Float(1, 784) = onnx::Reshape(%21, %22) # <ipython-input-9-b7584c848e0e>:18:0\n",
      "  %24 : Float() = onnx::Constant[value={255}]()\n",
      "  %25 : Float(1, 784) = onnx::Div(%23, %24)\n",
      "  %26 : Float(1, 256) = onnx::Gemm[alpha=1., beta=1., transB=1](%25, %enc.linear.weight, %enc.linear.bias) # C:\\Users\\hp\\Anaconda3\\envs\\pysyft\\lib\\site-packages\\torch\\nn\\functional.py:1610:0\n",
      "  %27 : Float(1, 256) = onnx::Relu(%26) # C:\\Users\\hp\\Anaconda3\\envs\\pysyft\\lib\\site-packages\\torch\\nn\\functional.py:1063:0\n",
      "  %28 : Float(1, 20) = onnx::Gemm[alpha=1., beta=1., transB=1](%27, %enc.mu.weight, %enc.mu.bias) # C:\\Users\\hp\\Anaconda3\\envs\\pysyft\\lib\\site-packages\\torch\\nn\\functional.py:1610:0\n",
      "  %29 : Float(1, 20) = onnx::Gemm[alpha=1., beta=1., transB=1](%27, %enc.var.weight, %enc.var.bias) # C:\\Users\\hp\\Anaconda3\\envs\\pysyft\\lib\\site-packages\\torch\\nn\\functional.py:1610:0\n",
      "  %30 : Float() = onnx::Constant[value={2}]()\n",
      "  %31 : Float(1, 20) = onnx::Div(%29, %30)\n",
      "  %32 : Float(1, 20) = onnx::Exp(%31) # <ipython-input-9-b7584c848e0e>:26:0\n",
      "  %33 : Float(1, 20) = onnx::Flatten[axis=1](%1) # <ipython-input-9-b7584c848e0e>:28:0\n",
      "  %34 : Float(1, 20) = onnx::Mul(%33, %32) # <ipython-input-9-b7584c848e0e>:29:0\n",
      "  %35 : Float(1, 20) = onnx::Add(%34, %28)\n",
      "  %36 : Float(1, 256) = onnx::Gemm[alpha=1., beta=1., transB=1](%35, %dec.linear.weight, %dec.linear.bias) # C:\\Users\\hp\\Anaconda3\\envs\\pysyft\\lib\\site-packages\\torch\\nn\\functional.py:1610:0\n",
      "  %37 : Float(1, 256) = onnx::Relu(%36) # C:\\Users\\hp\\Anaconda3\\envs\\pysyft\\lib\\site-packages\\torch\\nn\\functional.py:1063:0\n",
      "  %38 : Float(1, 784) = onnx::Gemm[alpha=1., beta=1., transB=1](%37, %dec.out.weight, %dec.out.bias) # C:\\Users\\hp\\Anaconda3\\envs\\pysyft\\lib\\site-packages\\torch\\nn\\functional.py:1610:0\n",
      "  %39 : Float(1, 784) = onnx::Sigmoid(%38) # <ipython-input-5-0f9f1e1de176>:52:0\n",
      "  %40 : Float() = onnx::ReduceMax[keepdims=0](%39) # <ipython-input-9-b7584c848e0e>:33:0\n",
      "  %41 : Float() = onnx::Constant[value={255}]()\n",
      "  %42 : Float() = onnx::Div(%40, %41)\n",
      "  %43 : Float(1, 784) = onnx::Div(%39, %42)\n",
      "  %44 : Tensor = onnx::Constant[value= 28  28 [ CPULongType{2} ]]()\n",
      "  %45 : Float(28, 28) = onnx::Reshape(%43, %44) # <ipython-input-9-b7584c848e0e>:35:0\n",
      "  return (%45)\n",
      "\n"
     ]
    }
   ],
   "source": [
    "torch.onnx.export(pre_trained3, [dummy_input , ep], \"onnx_model3.onnx\", verbose=True, opset_version=10)"
   ]
  }
 ],
 "metadata": {
  "kernelspec": {
   "display_name": "Python 3",
   "language": "python",
   "name": "python3"
  },
  "language_info": {
   "codemirror_mode": {
    "name": "ipython",
    "version": 3
   },
   "file_extension": ".py",
   "mimetype": "text/x-python",
   "name": "python",
   "nbconvert_exporter": "python",
   "pygments_lexer": "ipython3",
   "version": "3.7.3"
  }
 },
 "nbformat": 4,
 "nbformat_minor": 4
}
